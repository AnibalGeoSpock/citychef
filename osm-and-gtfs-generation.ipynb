{
 "cells": [
  {
   "cell_type": "code",
   "execution_count": 1,
   "metadata": {
    "ExecuteTime": {
     "end_time": "2020-04-02T15:33:43.444185Z",
     "start_time": "2020-04-02T15:33:42.973737Z"
    }
   },
   "outputs": [],
   "source": [
    "import matplotlib.pyplot as plt\n",
    "import os\n",
    "import numpy as np"
   ]
  },
  {
   "cell_type": "markdown",
   "metadata": {},
   "source": [
    "# OSM & GTFS Generation\n",
    "\n",
    "Here you can build a simple **road network** and **transit route** for a fake city. We use these outputs for testing network combination tooling.\n",
    "\n",
    "**Outputs:**\n",
    "- **OSM Road Network**\n",
    "- **GTFS Bus Transit**\n",
    "\n",
    "These outputs are based on a sequential generation of the following city features:\n",
    "\n",
    "**Facilities:** Generate activity locations (including households) clustered around centres of density.\n",
    "\n",
    "**Road Networks:** Generate a road network based on facility density.\n",
    "\n",
    "**Road Transit Routes:** Generate road transit routes using the road network.\n",
    "\n",
    "We additionally apply spatial some jitter to add noise."
   ]
  },
  {
   "cell_type": "code",
   "execution_count": 2,
   "metadata": {
    "ExecuteTime": {
     "end_time": "2020-04-02T15:33:45.681657Z",
     "start_time": "2020-04-02T15:33:43.601773Z"
    }
   },
   "outputs": [],
   "source": [
    "from citychef import spatial\n",
    "from citychef import graph\n",
    "from citychef import household as hh\n",
    "from citychef import tree\n",
    "from citychef import osm\n",
    "from citychef import gtfs"
   ]
  },
  {
   "cell_type": "code",
   "execution_count": 5,
   "metadata": {
    "ExecuteTime": {
     "end_time": "2020-04-02T15:33:53.700507Z",
     "start_time": "2020-04-02T15:33:53.633323Z"
    }
   },
   "outputs": [],
   "source": [
    "# uncomment if you are making changes to core modules\n",
    "%load_ext autoreload\n",
    "%autoreload 2\n",
    "%reload_ext autoreload"
   ]
  },
  {
   "cell_type": "code",
   "execution_count": 6,
   "metadata": {
    "ExecuteTime": {
     "end_time": "2020-04-02T15:33:56.163535Z",
     "start_time": "2020-04-02T15:33:56.134246Z"
    }
   },
   "outputs": [],
   "source": [
    "city_dir = \"./osm_gtfs_example\""
   ]
  },
  {
   "cell_type": "code",
   "execution_count": 7,
   "metadata": {
    "ExecuteTime": {
     "end_time": "2020-04-02T15:33:57.330188Z",
     "start_time": "2020-04-02T15:33:57.305222Z"
    }
   },
   "outputs": [
    {
     "name": "stdout",
     "output_type": "stream",
     "text": [
      "WARNING - potentially overwritting previous results\n"
     ]
    }
   ],
   "source": [
    "if not os.path.exists(city_dir):\n",
    "    os.mkdir(city_dir)\n",
    "else:\n",
    "    print(\"WARNING - potentially overwritting previous results\")"
   ]
  },
  {
   "cell_type": "markdown",
   "metadata": {},
   "source": [
    "### Facilities\n",
    "First we generate the location of various facilities, including households where the populations will live and activity locations such work places, leisure, education, shopping and health facilities.\n",
    "\n",
    "#### Method\n",
    "1. define seed bounding box (DEGREES) - TODO add reprojection\n",
    "2. uniformly sample 'centres' within bounding box\n",
    "3. poisson sample number of facilities of each type around each centre\n",
    "4. gaussian sample locations of facilities around each centre"
   ]
  },
  {
   "cell_type": "code",
   "execution_count": 8,
   "metadata": {
    "ExecuteTime": {
     "end_time": "2020-04-02T15:33:58.938345Z",
     "start_time": "2020-04-02T15:33:58.904751Z"
    }
   },
   "outputs": [],
   "source": [
    "bbox = np.array([[0,0],[.01,.01]])  # min x, min y, max x, max y (DEGREES)\n",
    "centres = spatial.Centres(bbox, number=1)\n",
    "facilities = {\n",
    "    'households': spatial.Clusters(centres, size=1000, sigma=.005),\n",
    "}\n",
    "bbox = spatial.collect_bbox(facilities) # adjust the bbox for max extends"
   ]
  },
  {
   "cell_type": "markdown",
   "metadata": {},
   "source": [
    "### Road Network\n",
    "\n",
    "We build a road network for car travel. We use a quad tree to define the density of the network so that accessibility is likely better where household density is higher. The connectivity of the resulting networks is based on parent - child relationships within the quad tree. This results in poor connectivity between neighbouring quad grids if they are removed by several generations, ie their shared parent is distant.\n",
    "\n",
    "Edges are assigned a distance, a freespeed (based on distance) and a freeflow traversal time.\n",
    "\n",
    "#### Method\n",
    "\n",
    "1. Build a grid tree with maximum household density of N.\n",
    "2. Build a network of roads from the grid tree"
   ]
  },
  {
   "cell_type": "code",
   "execution_count": 9,
   "metadata": {
    "ExecuteTime": {
     "end_time": "2020-04-02T15:34:01.300089Z",
     "start_time": "2020-04-02T15:34:00.886110Z"
    }
   },
   "outputs": [
    {
     "name": "stderr",
     "output_type": "stream",
     "text": [
      "/usr/local/lib/python3.7/site-packages/networkx/drawing/nx_pylab.py:579: MatplotlibDeprecationWarning: \n",
      "The iterable function was deprecated in Matplotlib 3.1 and will be removed in 3.3. Use np.iterable instead.\n",
      "  if not cb.iterable(width):\n"
     ]
    },
    {
     "data": {
      "text/plain": [
       "(-0.012840569945441029,\n",
       " 0.021910712861664156,\n",
       " -0.014253964598006267,\n",
       " 0.018251237111683753)"
      ]
     },
     "execution_count": 9,
     "metadata": {},
     "output_type": "execute_result"
    },
    {
     "data": {
      "image/png": "[encoded data removed]",
      "text/plain": [
       "<Figure size 864x864 with 1 Axes>"
      ]
     },
     "metadata": {},
     "output_type": "display_data"
    }
   ],
   "source": [
    "car_network = graph.TreeNetwork(\n",
    "    bbox, facilities['households'], grid='regular', max_points=200\n",
    ")\n",
    "car_network.plot()\n",
    "plt.axis('equal')"
   ]
  },
  {
   "cell_type": "markdown",
   "metadata": {},
   "source": [
    "### Bus Network\n",
    "\n",
    "We build a bus network for public transit travel on the road network. A route generation algorithm attempts to build viable routes by making weighted random walks across the road network from seed locations.\n",
    "\n",
    "The random walks are seeded based on a weighted sample from the road network vertices. Where the vertices are weighted by household density at each vertices. From each seed location the weighted random walk traverses the possible network based on weighted random choice of each possible step. Where weights are based on the household density of the possible choices, the straightness of the resulting graph and the number of times the edges have already been traversed by a route. Routes cannot repeat the previous edge so that the traversal ends at dead ends in the road network or when a maximum number of stops is reached.\n",
    "\n",
    "Edges are assigned a distance, a freespeed (based on distance) and a freeflow traversal time as per the underlying road network. For simplicity, no consideration is made of a schedule or interchange times.\n",
    "\n",
    "#### Method\n",
    "\n",
    "1. Build an array of houshold density for each vertices of the road network graph\n",
    "2. Sample number of required routes based on population and a poisson distribution\n",
    "3. Generate route\n",
    "4. Add generated routes that meet minimum requirements for stops and length\n",
    "5. Combine routes to form total bus network graph"
   ]
  },
  {
   "cell_type": "code",
   "execution_count": 10,
   "metadata": {
    "ExecuteTime": {
     "end_time": "2020-04-02T15:34:03.853581Z",
     "start_time": "2020-04-02T15:34:03.811846Z"
    }
   },
   "outputs": [
    {
     "data": {
      "text/plain": [
       "[<citychef.graph.PTRoute at 0x123cb8750>]"
      ]
     },
     "execution_count": 10,
     "metadata": {},
     "output_type": "execute_result"
    }
   ],
   "source": [
    "buses = graph.Transit(car_network, facilities['households'], density_radius=.0001)\n",
    "buses.build_routes(num_routes=1, max_length=11, min_length=11, straightness=2)"
   ]
  },
  {
   "cell_type": "markdown",
   "metadata": {},
   "source": [
    "### Apply Noise to the Transit Network\n",
    "\n",
    "To add noise to our test data we:\n",
    "\n",
    "i) add interpolate some new transit stops so that the stop locations do not have corresponding road network nodes.\n",
    "\n",
    "ii) add some spatial jitter to transit stop locations."
   ]
  },
  {
   "cell_type": "code",
   "execution_count": 11,
   "metadata": {
    "ExecuteTime": {
     "end_time": "2020-04-02T15:34:05.818615Z",
     "start_time": "2020-04-02T15:34:05.791172Z"
    }
   },
   "outputs": [],
   "source": [
    "buses.interpolate_routes()"
   ]
  },
  {
   "cell_type": "code",
   "execution_count": 12,
   "metadata": {
    "ExecuteTime": {
     "end_time": "2020-04-02T15:34:06.302698Z",
     "start_time": "2020-04-02T15:34:06.274631Z"
    }
   },
   "outputs": [],
   "source": [
    "buses.jitter_locations(30/111139)"
   ]
  },
  {
   "cell_type": "code",
   "execution_count": 13,
   "metadata": {
    "ExecuteTime": {
     "end_time": "2020-04-02T15:34:07.754334Z",
     "start_time": "2020-04-02T15:34:06.832882Z"
    }
   },
   "outputs": [
    {
     "name": "stderr",
     "output_type": "stream",
     "text": [
      "/usr/local/lib/python3.7/site-packages/networkx/drawing/nx_pylab.py:579: MatplotlibDeprecationWarning: \n",
      "The iterable function was deprecated in Matplotlib 3.1 and will be removed in 3.3. Use np.iterable instead.\n",
      "  if not cb.iterable(width):\n"
     ]
    },
    {
     "data": {
      "text/plain": [
       "(-0.012259762404143818,\n",
       " 0.021329905320366972,\n",
       " -0.013657771426476029,\n",
       " 0.017655043940153513)"
      ]
     },
     "execution_count": 13,
     "metadata": {},
     "output_type": "execute_result"
    },
    {
     "data": {
      "image/png": "[encoded data removed]",
      "text/plain": [
       "<Figure size 1728x1728 with 1 Axes>"
      ]
     },
     "metadata": {},
     "output_type": "display_data"
    }
   ],
   "source": [
    "fig, ax = plt.subplots(1, 1, figsize=(24, 24))\n",
    "car_network.plot(ax=ax)\n",
    "buses.plot(ax=ax)\n",
    "plt.axis('equal')"
   ]
  },
  {
   "cell_type": "code",
   "execution_count": 14,
   "metadata": {
    "ExecuteTime": {
     "end_time": "2020-04-02T15:35:18.731548Z",
     "start_time": "2020-04-02T15:35:18.700309Z"
    }
   },
   "outputs": [],
   "source": [
    "# fig.savefig('image.png')"
   ]
  },
  {
   "cell_type": "code",
   "execution_count": 15,
   "metadata": {
    "ExecuteTime": {
     "end_time": "2020-04-02T15:35:18.992851Z",
     "start_time": "2020-04-02T15:35:18.952287Z"
    }
   },
   "outputs": [
    {
     "name": "stdout",
     "output_type": "stream",
     "text": [
      "108.68682991072858\n",
      "685.4283796357361\n"
     ]
    }
   ],
   "source": [
    "# check min and max distances\n",
    "print(buses.min_link_length * 111139)\n",
    "print(buses.max_link_length * 111139) # approx conv to m"
   ]
  },
  {
   "cell_type": "markdown",
   "metadata": {
    "ExecuteTime": {
     "end_time": "2020-03-31T18:00:28.881332Z",
     "start_time": "2020-03-31T18:00:28.735018Z"
    }
   },
   "source": [
    "### Outputs\n",
    "\n",
    "Convert the road network to OSM format xml and the transit to GTFS."
   ]
  },
  {
   "cell_type": "code",
   "execution_count": 16,
   "metadata": {
    "ExecuteTime": {
     "end_time": "2020-04-02T15:35:20.350057Z",
     "start_time": "2020-04-02T15:35:20.057246Z"
    }
   },
   "outputs": [
    {
     "data": {
      "application/vnd.jupyter.widget-view+json": {
       "model_id": "6eaa75a515a14b3bba53713a82a6992b",
       "version_major": 2,
       "version_minor": 0
      },
      "text/plain": [
       "Output()"
      ]
     },
     "metadata": {},
     "output_type": "display_data"
    },
    {
     "data": {
      "application/vnd.jupyter.widget-view+json": {
       "model_id": "a1cba1ea93a4445b9a58461b64fd48b6",
       "version_major": 2,
       "version_minor": 0
      },
      "text/plain": [
       "Output()"
      ]
     },
     "metadata": {},
     "output_type": "display_data"
    }
   ],
   "source": [
    "osm.nx_to_osm(\n",
    "    g=car_network.g,\n",
    "    path=os.path.join(city_dir, \"osm.xml\")\n",
    ")"
   ]
  },
  {
   "cell_type": "code",
   "execution_count": 17,
   "metadata": {
    "ExecuteTime": {
     "end_time": "2020-04-02T15:35:21.848413Z",
     "start_time": "2020-04-02T15:35:21.425756Z"
    }
   },
   "outputs": [
    {
     "data": {
      "application/vnd.jupyter.widget-view+json": {
       "model_id": "0e5633dfe91b4e7f8b4af65db5b6cb4e",
       "version_major": 2,
       "version_minor": 0
      },
      "text/plain": [
       "Output()"
      ]
     },
     "metadata": {},
     "output_type": "display_data"
    }
   ],
   "source": [
    "gtfs.build_gtfs(\n",
    "    transit=buses,\n",
    "    out_dir=city_dir,\n",
    "    agency_id=0,\n",
    "    agency_name='test_bus_inc'\n",
    ")"
   ]
  },
  {
   "cell_type": "code",
   "execution_count": null,
   "metadata": {},
   "outputs": [],
   "source": []
  }
 ],
 "metadata": {
  "kernelspec": {
   "display_name": "Python 3",
   "language": "python",
   "name": "python3"
  },
  "language_info": {
   "codemirror_mode": {
    "name": "ipython",
    "version": 3
   },
   "file_extension": ".py",
   "mimetype": "text/x-python",
   "name": "python",
   "nbconvert_exporter": "python",
   "pygments_lexer": "ipython3",
   "version": "3.7.3"
  },
  "toc": {
   "base_numbering": 1,
   "nav_menu": {},
   "number_sections": true,
   "sideBar": true,
   "skip_h1_title": true,
   "title_cell": "Table of Contents",
   "title_sidebar": "Contents",
   "toc_cell": false,
   "toc_position": {},
   "toc_section_display": true,
   "toc_window_display": false
  }
 },
 "nbformat": 4,
 "nbformat_minor": 2
}
