{
 "cells": [
  {
   "cell_type": "code",
   "execution_count": 839,
   "metadata": {},
   "outputs": [],
   "source": [
    "import numpy as np  # NumPy package for arrays, random number generation, etc\n",
    "import matplotlib.pyplot as plt  # For plotting\n",
    "from shapely.geometry import Point\n",
    "import pandas as pd\n",
    "from sklearn.neighbors import KDTree\n",
    "\n",
    "from faker import random_point_processes as rpp"
   ]
  },
  {
   "cell_type": "code",
   "execution_count": 871,
   "metadata": {},
   "outputs": [
    {
     "data": {
      "text/plain": [
       "(array([32.,  1.,  3.,  6.,  3.,  3.,  2.,  1.,  1.,  1.]),\n",
       " array([ 1. ,  5.6, 10.2, 14.8, 19.4, 24. , 28.6, 33.2, 37.8, 42.4, 47. ]),\n",
       " <a list of 10 Patch objects>)"
      ]
     },
     "execution_count": 871,
     "metadata": {},
     "output_type": "execute_result"
    },
    {
     "data": {
      "image/png": "[encoded data removed]",
      "text/plain": [
       "<Figure size 432x288 with 1 Axes>"
      ]
     },
     "metadata": {
      "needs_background": "light"
     },
     "output_type": "display_data"
    }
   ],
   "source": [
    "c = 1.2\n",
    "n=100\n",
    "a = np.random.zipf(c,n)\n",
    "plt.hist(a[a<50])"
   ]
  },
  {
   "cell_type": "code",
   "execution_count": 876,
   "metadata": {
    "scrolled": false
   },
   "outputs": [
    {
     "name": "stderr",
     "output_type": "stream",
     "text": [
      "/usr/local/lib/python3.7/site-packages/ipykernel_launcher.py:3: MatplotlibDeprecationWarning: \n",
      "The 'normed' kwarg was deprecated in Matplotlib 2.1 and will be removed in 3.1. Use 'density' instead.\n",
      "  This is separate from the ipykernel package so we can avoid doing imports until\n"
     ]
    },
    {
     "name": "stdout",
     "output_type": "stream",
     "text": [
      "[       2757          82           5          11           2          18\n",
      "           1        4875           1           3          20       98105\n",
      "          33 13670320672           1           1         147           1\n",
      "           1           5        1469        1097           3         328\n",
      "    17245794         206         151      207555           1          47\n",
      "          22       30082         115         894         106           4\n",
      "      968250          28         318           1      130511          17\n",
      "        2576        1265           5           1          14          26\n",
      "           1        8118           1           1           3         114\n",
      "           1       28048           1           2           2          42\n",
      "        1278          12          22          36         649           3\n",
      "           2          16         699        3579          28          92\n",
      "          10         139           1       27612        1082           1\n",
      "           4     7562562          19     4261677           5        1688\n",
      "       10546        2428     7138235         339         416    31463611\n",
      "           2   249267904        4384          32      478381           2\n",
      "         299          15        1020          15]\n"
     ]
    },
    {
     "data": {
      "image/png": "[encoded data removed]",
      "text/plain": [
       "<Figure size 432x288 with 1 Axes>"
      ]
     },
     "metadata": {
      "needs_background": "light"
     },
     "output_type": "display_data"
    }
   ],
   "source": [
    "from scipy import special\n",
    "limit = 100\n",
    "count, bins, ignored = plt.hist(a[a<limit], limit, normed=True)\n",
    "x = np.arange(1., limit)\n",
    "y = x**(-c) / special.zetac(c)\n",
    "plt.plot(x, y/max(y), linewidth=2, color='r')\n",
    "print(a)\n",
    "plt.show()"
   ]
  },
  {
   "cell_type": "code",
   "execution_count": 863,
   "metadata": {},
   "outputs": [
    {
     "data": {
      "text/plain": [
       "1990025758"
      ]
     },
     "execution_count": 863,
     "metadata": {},
     "output_type": "execute_result"
    }
   ],
   "source": [
    "max(a)"
   ]
  },
  {
   "cell_type": "code",
   "execution_count": 861,
   "metadata": {},
   "outputs": [
    {
     "data": {
      "text/plain": [
       "array([            79,             21,              3,          23796,\n",
       "                  229,           8624,              2,              4,\n",
       "               197526,              4,      870281705,              1,\n",
       "                  273,            186,          42932,            266,\n",
       "                   14,           4954,              1,           4692,\n",
       "                   11,            167,            182,             27,\n",
       "               871441,           8361,              1,              6,\n",
       "                    1,             34,             44,             54,\n",
       "                    2,              5,              1,              2,\n",
       "                24782,              1,              1,              1,\n",
       "                  173,              8,            852,           4057,\n",
       "                27095,             19,             30,             15,\n",
       "                    1,             40,            303,            166,\n",
       "                   66,            652,              1,              4,\n",
       "                    5,              2,           7713,            124,\n",
       "                   85,             22,            611,              3,\n",
       "                    5,             20,             13,              7,\n",
       "                    1,             53,             18,              1,\n",
       "                   22,              3,              1,            373,\n",
       "                   12,            150,              1,            223,\n",
       "               106807,             27,             10,           7746,\n",
       "                   19,              2,              1,              1,\n",
       "                14304,    26299802374,              3,              1,\n",
       "                    1,            111,             60,              4,\n",
       "                  453,             80,          19606,          13184,\n",
       "                    1,            110,              4,        1315249,\n",
       "                    5,          13120,              4,              3,\n",
       "                   34,        1162043,             33,              1,\n",
       "                  257,             17,             66,              1,\n",
       "                    1,              7,    22667426767,              1,\n",
       "                    2,          16696,              7,              4,\n",
       "                    1,              2,              4,              2,\n",
       "                    2,             26,              1,              2,\n",
       "                    8,              2,              2,         359076,\n",
       "                    1,           4346,             29,              2,\n",
       "                   97,             24,              1,              5,\n",
       "                  119,              4,              2,              4,\n",
       "              1473616,              1,              1,            214,\n",
       "                   16,             53,              1,              2,\n",
       "                    5,              1,              1,              6,\n",
       "                    3,             10,             25,             46,\n",
       "                    1,            898,              9,         310373,\n",
       "                    3,              9,             34,              1,\n",
       "               785694,           3208,             17,          41729,\n",
       "                   10,            190,              1,              3,\n",
       "                    6,              1,             15,           1586,\n",
       "               489483,           2088,             19,           1150,\n",
       "                    4,             11,       10726614,              4,\n",
       "                    8,             11,             37,          54766,\n",
       "                    7,              2,           4398,              1,\n",
       "                   21,              1,              3,             21,\n",
       "                    2,             11, 11309619814221,             26,\n",
       "                   20,             77,              4,              1,\n",
       "               491986,            124,              4,           7032,\n",
       "                    1,             69,          81002,              4,\n",
       "                    2,         120175,              4,           2612,\n",
       "                    2,             49,             18,              9,\n",
       "                  986,              6,              1,          65563,\n",
       "               128548,              9,            381,             13,\n",
       "                   42,             75,              9,             11,\n",
       "                    1,              7,           1864,            832,\n",
       "                    1,              3,             21,             10,\n",
       "                    8,              4,             89,              3,\n",
       "                    5,       12101696,              1,           4821,\n",
       "                    2,            512,            988,            285,\n",
       "                   27,              5,             88,         239311,\n",
       "                    4,              1,        1540883,              1,\n",
       "               177843,            259,              1,              1,\n",
       "                  883,              1,             37,             11,\n",
       "                    1,            107,              1,            249,\n",
       "                   14,           4565,            538,            218,\n",
       "                    4,             14,              8,             32,\n",
       "                  178,              6,              3,              1,\n",
       "                    4,             92,            202,         298060,\n",
       "                    1,              2,              3,              1,\n",
       "                  110,              1,              2,              1,\n",
       "                    1,              2,              1,       14304074,\n",
       "                41325,           2413,          48348,             95,\n",
       "                   87,            493,              4,             98,\n",
       "                    3,              1,             28,             10,\n",
       "                   50,              5,          21478,             45,\n",
       "                   12,              3,          10093,            405,\n",
       "                53209,              7,           7157,          23586,\n",
       "                    4,              6,              1,         115063,\n",
       "                 5093,              9,              1,              9,\n",
       "                   20,             27,              9,           1174,\n",
       "                  212,              1,              6,             77,\n",
       "                    1,              1,              4,          21953,\n",
       "                   11,           1878,              9,            803,\n",
       "                    9,           1766,              1,              2,\n",
       "                  266,              2,              6,              1,\n",
       "                   56,              4,              6,              3,\n",
       "                    2,             81,            104,             82,\n",
       "                  337,            435,              2,              5,\n",
       "                    2,              9,              1,              2,\n",
       "                77114,            984,         242675,             22,\n",
       "                    1,              8,            148,              1,\n",
       "                    1,             53,             80,       22988191,\n",
       "                    2,             16,              2,             65,\n",
       "                    1,           9552,             32,              9,\n",
       "                    2,              1,              1,              1,\n",
       "                   69,             33,              7,          69406,\n",
       "                    1,           1695,              1,             11,\n",
       "                    1,              4,            229,            216,\n",
       "                  754,              2,             45,              6,\n",
       "                    1,             45,              2,            380,\n",
       "                    1,             11,              1,              5,\n",
       "                   66,       90107648,            487,              2,\n",
       "                  578,         147206,            112,              2,\n",
       "                   15,              2,              1,              2,\n",
       "                    8,            386,              3,             11,\n",
       "                    7,              6,             10,              2,\n",
       "                    1,             36,            666,              4,\n",
       "                   75,              1,              1,              2,\n",
       "                54538,         594629,          77114,              1,\n",
       "                 1856,              1,              1,              1,\n",
       "              4268376,              2,              1,            542,\n",
       "                    1,            943,             38,           7261,\n",
       "                    2,              2,             23,             10,\n",
       "                   20,             90,           1851,              1,\n",
       "                 1369,             67,              8,              3,\n",
       "                    7,            143,              8,              1,\n",
       "                  156,          23121,              1,              1,\n",
       "                    2,             61,              1,           2470,\n",
       "                    1,           1108,              9,            255,\n",
       "                   58,            941,              1,              5,\n",
       "                    1,         465327,           7365,           3911,\n",
       "                    8,              3,             39,            530,\n",
       "                  558,              9,              4,           1392,\n",
       "                10231,        4754512,              4,             84,\n",
       "                    3,             14,              1,             37,\n",
       "                    2,             32,              1,              1,\n",
       "                    4,              7,              3,             18,\n",
       "                    7,              3,              8,              1,\n",
       "                 6553,              4,         258028,              8,\n",
       "                    1,              2,              2,              1,\n",
       "                  306,            730,             37,           1478,\n",
       "                   24,              1,          11116,           3184,\n",
       "                 2282,             35,           1586,             85,\n",
       "                 1451,              5,              5,             81,\n",
       "                   12,            111,           2094,            328,\n",
       "             62384033,              2,              2,         560046,\n",
       "                    1,              2,             89,              4,\n",
       "                 5189,       18097949,              4,             11,\n",
       "                   81,          13657,             14,           1203,\n",
       "                   19,              1,            358,             20,\n",
       "                   11,             25,              5,           1527,\n",
       "                   74,              2,              6,              1,\n",
       "                  325,              1,            175,            183,\n",
       "                    1,              1,           3330,             10,\n",
       "                   62,              5,              3,              4,\n",
       "                    8,              2,            150,             15,\n",
       "                    1,              7,            841,              1,\n",
       "                    2,         171575,             12,             10,\n",
       "                    1,              1,           1329,        4943263,\n",
       "                    2,             92,              5,              1,\n",
       "                  171,             19,              2,             58,\n",
       "                    1,              1,           1369,             69,\n",
       "                    4,            173,              1,             14,\n",
       "                   54,              2,            112,              4,\n",
       "                   57,              1,             14,              1,\n",
       "                   95,              1,              4,              6,\n",
       "                    4,             69,         148423,             16,\n",
       "                    5,            771,              3,              1,\n",
       "                    2,              9,              1,              2,\n",
       "                    3,           2046,              1,            270,\n",
       "                    1,              3,             39,           2755,\n",
       "                 6767,              6,          58599,              1,\n",
       "                    3,             40,              7,          17526,\n",
       "                   42,          21224,              4,              1,\n",
       "                    1,              2,             26,              1,\n",
       "                    8,             31,              1,              7,\n",
       "                   29,              1,              2,             16,\n",
       "                  181,            123,             41,           8831,\n",
       "                   66,              3,              3,              1,\n",
       "                   12,              4,             42,              6,\n",
       "                    7,            571,              1,             62,\n",
       "                    1,              9,              1,             41,\n",
       "                    3,              1,       38979656,          20549,\n",
       "                    2,             23,            566,              1,\n",
       "                   11,            281,             87,              6,\n",
       "                  634,              1,              1,              2,\n",
       "                    2,            191,             69,             10,\n",
       "                32966,           5714,             27,          13427,\n",
       "                    2,              8,           1210,              1,\n",
       "                  330,              1,              1,              6,\n",
       "                    5,             43,              1,      152682780,\n",
       "                    1,              2,           1507,          13229,\n",
       "                   39,           1514,              7,             50,\n",
       "                    1,              2,              3,              1,\n",
       "                   75,              4,              1,              1,\n",
       "                  160,           3142,             30,              2,\n",
       "                    3,              1,              1,             27,\n",
       "                   41,              1,              1,             36,\n",
       "                   10,              1,              4,            179,\n",
       "                   21,              3,             10,              2,\n",
       "                    1,              8,              4,              6,\n",
       "                    4,              1,              1,             51,\n",
       "                   90,              1,              8,              1,\n",
       "                   10,              1,            156,           1885,\n",
       "                    4,              1,              1,              3,\n",
       "                    1,      126962937,              4,              1,\n",
       "                 6994,              3,             14,        4937614,\n",
       "                  724,              1,              1,             13,\n",
       "                25135,           2517,              1,              4,\n",
       "                  106,             96,             34,              1,\n",
       "                   12,            104,              3,             24,\n",
       "                   11,              6,              5,              3,\n",
       "                    1,              3,              4,             18,\n",
       "                    3,              1,              4,             25,\n",
       "                    2,             96,             16,              6,\n",
       "               380666,        6381444,              1,             24,\n",
       "                   26,             15,              3,            141,\n",
       "                82889,       31037598,             97,            384,\n",
       "                    1,              9,              1,        6042481,\n",
       "              1049773,             21,              1,             27,\n",
       "                    1,              1,             32,              9,\n",
       "                   12,              2,              1,             74,\n",
       "                 8553,            884,              2,              2,\n",
       "                    1,              2,              1,              2,\n",
       "                    8,              2,              8,              1,\n",
       "                   67,             82,           5366,             50,\n",
       "                   43,              1,              1,            225,\n",
       "                   56,              1,              1,            130,\n",
       "                    8,              1,              2,              2,\n",
       "                   30,           5658,            272,             41,\n",
       "                   52,             23,              2,             21,\n",
       "                    6,              1,             14,             18,\n",
       "                    1,           1012,             47,              2,\n",
       "                    1,              1,             10,              1,\n",
       "                    9,           1655,              5,            349,\n",
       "              3596216,             18,             80,              2,\n",
       "               303468,              1,             74,              1,\n",
       "                    2,           3065,             13,              3,\n",
       "                   20,              6,            537,              1,\n",
       "                    1,             39,             19,              4,\n",
       "                    2,              1,            138,          20895,\n",
       "                    6,            141,           1590,             97,\n",
       "                    1,            420,              1,             48,\n",
       "                 2092,            172,              1,              6,\n",
       "                   16,              7,            624,              1,\n",
       "                86072,              1,              5,          36492,\n",
       "                    1,              8,             11,              8,\n",
       "                    6,              1,              1,             53,\n",
       "                    1,            247,              2,            105,\n",
       "                    5,           3033,              1,          12566,\n",
       "                    1,              1,              5,              5,\n",
       "                    1,             15,              1,              1,\n",
       "                   51,             10,            580,             29,\n",
       "                    2,              2,            111,             26])"
      ]
     },
     "execution_count": 861,
     "metadata": {},
     "output_type": "execute_result"
    }
   ],
   "source": [
    "a"
   ]
  },
  {
   "cell_type": "code",
   "execution_count": null,
   "metadata": {},
   "outputs": [],
   "source": []
  },
  {
   "cell_type": "code",
   "execution_count": null,
   "metadata": {},
   "outputs": [],
   "source": []
  },
  {
   "cell_type": "code",
   "execution_count": null,
   "metadata": {},
   "outputs": [],
   "source": []
  },
  {
   "cell_type": "code",
   "execution_count": 739,
   "metadata": {},
   "outputs": [],
   "source": [
    "import logging\n",
    "logging.basicConfig(level=logging.INFO)"
   ]
  },
  {
   "cell_type": "code",
   "execution_count": 784,
   "metadata": {
    "scrolled": false
   },
   "outputs": [
    {
     "name": "stderr",
     "output_type": "stream",
     "text": [
      "DEBUG:root:Starting thomas cluster gen\n",
      "DEBUG:root:Simulate Poisson point process for the parents\n",
      "DEBUG:root:Starting random poisson point process\n",
      "DEBUG:root:Simulate Poisson point process\n",
      "DEBUG:root:Simulate Poisson point process for the daughters (from 102 centres)\n",
      "DEBUG:root:Generate the (relative) locations in Cartesian coordinates 1020004\n",
      "DEBUG:root:replicate parent points (ie centres of disks/clusters)\n"
     ]
    },
    {
     "name": "stdout",
     "output_type": "stream",
     "text": [
      "102 centres. 1020004 households.\n"
     ]
    },
    {
     "data": {
      "text/plain": [
       "(-111.17908510393798,\n",
       " 1092.2085957745182,\n",
       " -88.94166689927043,\n",
       " 1101.0697918981073)"
      ]
     },
     "execution_count": 784,
     "metadata": {},
     "output_type": "execute_result"
    },
    {
     "data": {
      "image/png": "[encoded data removed]",
      "text/plain": [
       "<Figure size 432x288 with 1 Axes>"
      ]
     },
     "metadata": {
      "needs_background": "light"
     },
     "output_type": "display_data"
    }
   ],
   "source": [
    "xx, yy, xx_parent_repeated, yy_parent_repeated, xx_parent, yy_parent, centre_ids = rpp.thomas_cluster_process(\n",
    "    xmin = 0,\n",
    "    xmax = 1000,\n",
    "    ymin = 0,\n",
    "    ymax = 1000,\n",
    "    lambda_parent = .0001, # density of parent Poisson point process\n",
    "    lambda_daughter = 10000, # mean number of points in each cluster\n",
    "    sigma = 15 # sigma for normal variables (ie random locations) of daughters\n",
    ")\n",
    "print(len(xx_parent), 'centres.', len(xx), 'households.')\n",
    "plt.scatter(xx, yy, alpha=0.5, marker='.')\n",
    "plt.xlabel(\"x\")\n",
    "plt.ylabel(\"y\")\n",
    "plt.axis('equal')"
   ]
  },
  {
   "cell_type": "code",
   "execution_count": 786,
   "metadata": {},
   "outputs": [
    {
     "data": {
      "text/plain": [
       "1020004"
      ]
     },
     "execution_count": 786,
     "metadata": {},
     "output_type": "execute_result"
    }
   ],
   "source": [
    "pop_size = len(xx)\n",
    "pop_size"
   ]
  },
  {
   "cell_type": "code",
   "execution_count": 787,
   "metadata": {},
   "outputs": [],
   "source": [
    "def minmax(array):\n",
    "    assert isinstance(array, np.ndarray)\n",
    "    return (array - min(array)) / (max(array) - min(array))"
   ]
  },
  {
   "cell_type": "code",
   "execution_count": 788,
   "metadata": {},
   "outputs": [],
   "source": [
    "# build some hidden features"
   ]
  },
  {
   "cell_type": "code",
   "execution_count": 789,
   "metadata": {},
   "outputs": [],
   "source": [
    "pop_locs = [Point(x, y) for x, y in zip(xx,yy)]"
   ]
  },
  {
   "cell_type": "code",
   "execution_count": 790,
   "metadata": {},
   "outputs": [],
   "source": [
    "pop_centres = [Point(x, y) for x, y in zip(xx_parent, yy_parent)]\n",
    "centres = [Point(x, y) for x, y in zip(xx_parent_repeated, yy_parent_repeated)]"
   ]
  },
  {
   "cell_type": "code",
   "execution_count": 791,
   "metadata": {},
   "outputs": [],
   "source": [
    "dist_to_centre = np.array([x.distance(y) for x, y in zip(pop_locs, centres)])"
   ]
  },
  {
   "cell_type": "code",
   "execution_count": 792,
   "metadata": {},
   "outputs": [],
   "source": [
    "loc_array = np.vstack((xx, yy)).T\n",
    "centre_array = np.vstack((xxParent, yyParent)).T"
   ]
  },
  {
   "cell_type": "code",
   "execution_count": 793,
   "metadata": {},
   "outputs": [],
   "source": [
    "tree = KDTree(centre_array)"
   ]
  },
  {
   "cell_type": "code",
   "execution_count": 830,
   "metadata": {},
   "outputs": [
    {
     "name": "stderr",
     "output_type": "stream",
     "text": [
      "/usr/local/lib/python3.7/site-packages/ipykernel_launcher.py:3: RuntimeWarning: invalid value encountered in true_divide\n",
      "  This is separate from the ipykernel package so we can avoid doing imports until\n"
     ]
    },
    {
     "data": {
      "text/plain": [
       "1020004"
      ]
     },
     "execution_count": 830,
     "metadata": {},
     "output_type": "execute_result"
    }
   ],
   "source": [
    "dist_closest_centre, _ = tree.query(loc_array, dualtree=True, k=1)\n",
    "dist_closest_centre = dist_closest_centre.reshape(-1)\n",
    "dist_closest_centre_mm = minmax(dist_closest_centre)\n",
    "len(dist_closest_centre_mm)"
   ]
  },
  {
   "cell_type": "code",
   "execution_count": 795,
   "metadata": {},
   "outputs": [
    {
     "data": {
      "text/plain": [
       "1020004"
      ]
     },
     "execution_count": 795,
     "metadata": {},
     "output_type": "execute_result"
    }
   ],
   "source": [
    "nearest_dist, _ = tree.query(loc_array, dualtree=True, k=3)\n",
    "dist_closest_centres = nearest_dist.sum(axis=1)\n",
    "dist_closest_centres_mm = minmax(dist_closest_centres)\n",
    "len(dist_closest_centres_mm)"
   ]
  },
  {
   "cell_type": "code",
   "execution_count": 796,
   "metadata": {},
   "outputs": [
    {
     "data": {
      "text/plain": [
       "1020004"
      ]
     },
     "execution_count": 796,
     "metadata": {},
     "output_type": "execute_result"
    }
   ],
   "source": [
    "tree = KDTree(loc_array)\n",
    "density = tree.query_radius(loc_array, count_only=True, r=1)\n",
    "density_mm = minmax(density)\n",
    "len(density_mm)"
   ]
  },
  {
   "cell_type": "code",
   "execution_count": 797,
   "metadata": {},
   "outputs": [],
   "source": [
    "xx_mm = minmax(xx)\n",
    "yy_mm = minmax(yy)\n",
    "dist_to_centre_mm = minmax(dist_to_centre)\n",
    "centre_ids_mm = minmax(centre_ids)"
   ]
  },
  {
   "cell_type": "code",
   "execution_count": 798,
   "metadata": {},
   "outputs": [],
   "source": [
    "# build some attributes based on these hidden features and on each other"
   ]
  },
  {
   "cell_type": "code",
   "execution_count": 799,
   "metadata": {},
   "outputs": [],
   "source": [
    "def get_gender(pman=.49, n=4):\n",
    "    return np.random.choice([0, 1], size=n, p=[pman, 1-pman])"
   ]
  },
  {
   "cell_type": "code",
   "execution_count": 800,
   "metadata": {},
   "outputs": [],
   "source": [
    "genders = get_gender(n=pop_size)"
   ]
  },
  {
   "cell_type": "code",
   "execution_count": 801,
   "metadata": {},
   "outputs": [],
   "source": [
    "def get_ethnicity(xx, yy, density):\n",
    "    p1 = np.random.poisson(xx*10)\n",
    "    p2 = np.random.poisson(density*10)\n",
    "    p3 = np.random.poisson(density*xx*10)\n",
    "    p4 = np.random.poisson(((xx - .5)*10)**2)\n",
    "    p5 = np.random.poisson(yy*10)\n",
    "    choice = np.array([p1,p2,p3,p4,p5])\n",
    "    choice = choice/sum(choice)\n",
    "    return np.random.choice([1,2,3,4,5], p=choice)\n",
    "    "
   ]
  },
  {
   "cell_type": "code",
   "execution_count": 802,
   "metadata": {},
   "outputs": [],
   "source": [
    "ethnicity = np.array([get_ethnicity(x,y,d) for x,y,d in zip(xx_mm, yy_mm, density)])"
   ]
  },
  {
   "cell_type": "code",
   "execution_count": 803,
   "metadata": {},
   "outputs": [],
   "source": [
    "def get_hh_people(ethnicity, density):\n",
    "    p1 = density*50 + ethnicity*2\n",
    "    p2 = density*40 + ethnicity*4\n",
    "    p3 = density*30 + ethnicity*6\n",
    "    p4 = density*20 + ethnicity*8\n",
    "    p5 = density*10 + ethnicity*10\n",
    "    choice = np.array([p1,p2,p3,p4,p5])\n",
    "    choice = choice/sum(choice)\n",
    "    return np.random.choice([1,2,3,4,5], p=choice)"
   ]
  },
  {
   "cell_type": "code",
   "execution_count": 804,
   "metadata": {},
   "outputs": [],
   "source": [
    "hh_people = np.array([get_hh_people(e,d) for e,d in zip(ethnicity, density)])"
   ]
  },
  {
   "cell_type": "code",
   "execution_count": 805,
   "metadata": {},
   "outputs": [],
   "source": [
    "def get_age(centre_id, density, dist_closest_centre):\n",
    "    old = 70\n",
    "    adult = 30 + (12*centre_id)\n",
    "    child = 20 - (12*centre_id)\n",
    "    return np.random.choice(\n",
    "        [\n",
    "            int(np.random.poisson(old)),\n",
    "            int(np.random.poisson(adult)),\n",
    "            int(np.random.poisson(child))\n",
    "        ],\n",
    "        p=(.3-(density*dist_closest_centre/5),.3,.4+(density*dist_closest_centre/5))\n",
    "    )"
   ]
  },
  {
   "cell_type": "code",
   "execution_count": 806,
   "metadata": {},
   "outputs": [],
   "source": [
    "age = np.array([get_age(c,d,dist) for c,d,dist in zip(centre_ids_mm, density_mm, dist_closest_centre_mm)])"
   ]
  },
  {
   "cell_type": "code",
   "execution_count": 831,
   "metadata": {},
   "outputs": [],
   "source": [
    "def get_dist_pt(dist_closest_centre):\n",
    "    return np.random.normal(1-dist_closest_centre)**2"
   ]
  },
  {
   "cell_type": "code",
   "execution_count": 832,
   "metadata": {},
   "outputs": [],
   "source": [
    "dist_pt = np.array([get_dist_pt(d) for d in dist_closest_centre])"
   ]
  },
  {
   "cell_type": "code",
   "execution_count": 809,
   "metadata": {},
   "outputs": [],
   "source": [
    "def get_income(dist_closest_centres):\n",
    "    return (15 + np.random.poisson(5*(dist_closest_centres+1))*5)*1000"
   ]
  },
  {
   "cell_type": "code",
   "execution_count": 810,
   "metadata": {},
   "outputs": [],
   "source": [
    "income = np.array([get_income(d) for d in dist_closest_centres_mm])"
   ]
  },
  {
   "cell_type": "code",
   "execution_count": 816,
   "metadata": {},
   "outputs": [],
   "source": [
    "income_mm = minmax(income)"
   ]
  },
  {
   "cell_type": "code",
   "execution_count": 818,
   "metadata": {},
   "outputs": [],
   "source": [
    "def get_car(ethnicity, income_mm, density_mm):\n",
    "    p = income_mm * (1 - density_mm)\n",
    "    if ethnicity < 3:\n",
    "        p /=2 \n",
    "    choice = np.array([p, 1-p])\n",
    "    return np.random.choice([1, 0], p=choice)"
   ]
  },
  {
   "cell_type": "code",
   "execution_count": 820,
   "metadata": {},
   "outputs": [],
   "source": [
    "has_car = np.array([get_car(e, i, d) for e, i, d in zip(ethnicity, income_mm, density_mm)])"
   ]
  },
  {
   "cell_type": "code",
   "execution_count": null,
   "metadata": {},
   "outputs": [],
   "source": [
    "# build df"
   ]
  },
  {
   "cell_type": "code",
   "execution_count": 833,
   "metadata": {},
   "outputs": [],
   "source": [
    "data_dict =  {\n",
    "        'x': xx,\n",
    "        'y': yy,\n",
    "        'centre_id': centre_ids,\n",
    "        'dist_centre': dist_to_centre,\n",
    "        'density': density,\n",
    "        'gender': genders,\n",
    "        'ethnicity': ethnicity,\n",
    "        'hh_people': hh_people,\n",
    "        'age': age,\n",
    "        'dist_pt': dist_pt,\n",
    "        'income': income,\n",
    "        'has_car': has_car\n",
    "    }"
   ]
  },
  {
   "cell_type": "code",
   "execution_count": 834,
   "metadata": {},
   "outputs": [
    {
     "name": "stdout",
     "output_type": "stream",
     "text": [
      "x 1020004\n",
      "y 1020004\n",
      "centre_id 1020004\n",
      "dist_centre 1020004\n",
      "density 1020004\n",
      "gender 1020004\n",
      "ethnicity 1020004\n",
      "hh_people 1020004\n",
      "age 1020004\n",
      "dist_pt 1020004\n",
      "income 1020004\n",
      "has_car 1020004\n"
     ]
    }
   ],
   "source": [
    "for k,v in data_dict.items():\n",
    "    print(k, len(v))"
   ]
  },
  {
   "cell_type": "code",
   "execution_count": 835,
   "metadata": {},
   "outputs": [],
   "source": [
    "data = pd.DataFrame(data_dict)"
   ]
  },
  {
   "cell_type": "code",
   "execution_count": 836,
   "metadata": {},
   "outputs": [
    {
     "data": {
      "text/html": [
       "<div>\n",
       "<style scoped>\n",
       "    .dataframe tbody tr th:only-of-type {\n",
       "        vertical-align: middle;\n",
       "    }\n",
       "\n",
       "    .dataframe tbody tr th {\n",
       "        vertical-align: top;\n",
       "    }\n",
       "\n",
       "    .dataframe thead th {\n",
       "        text-align: right;\n",
       "    }\n",
       "</style>\n",
       "<table border=\"1\" class=\"dataframe\">\n",
       "  <thead>\n",
       "    <tr style=\"text-align: right;\">\n",
       "      <th></th>\n",
       "      <th>x</th>\n",
       "      <th>y</th>\n",
       "      <th>centre_id</th>\n",
       "      <th>dist_centre</th>\n",
       "      <th>density</th>\n",
       "      <th>gender</th>\n",
       "      <th>ethnicity</th>\n",
       "      <th>hh_people</th>\n",
       "      <th>age</th>\n",
       "      <th>dist_pt</th>\n",
       "      <th>income</th>\n",
       "      <th>has_car</th>\n",
       "    </tr>\n",
       "  </thead>\n",
       "  <tbody>\n",
       "    <tr>\n",
       "      <th>0</th>\n",
       "      <td>535.071881</td>\n",
       "      <td>952.859788</td>\n",
       "      <td>0</td>\n",
       "      <td>19.126535</td>\n",
       "      <td>12</td>\n",
       "      <td>0</td>\n",
       "      <td>2</td>\n",
       "      <td>2</td>\n",
       "      <td>36</td>\n",
       "      <td>0.739358</td>\n",
       "      <td>45000</td>\n",
       "      <td>0</td>\n",
       "    </tr>\n",
       "    <tr>\n",
       "      <th>1</th>\n",
       "      <td>546.972366</td>\n",
       "      <td>995.682667</td>\n",
       "      <td>0</td>\n",
       "      <td>25.321996</td>\n",
       "      <td>9</td>\n",
       "      <td>0</td>\n",
       "      <td>2</td>\n",
       "      <td>3</td>\n",
       "      <td>22</td>\n",
       "      <td>2.669353</td>\n",
       "      <td>40000</td>\n",
       "      <td>0</td>\n",
       "    </tr>\n",
       "    <tr>\n",
       "      <th>2</th>\n",
       "      <td>556.785626</td>\n",
       "      <td>980.505114</td>\n",
       "      <td>0</td>\n",
       "      <td>19.159516</td>\n",
       "      <td>12</td>\n",
       "      <td>0</td>\n",
       "      <td>2</td>\n",
       "      <td>4</td>\n",
       "      <td>69</td>\n",
       "      <td>3.185707</td>\n",
       "      <td>45000</td>\n",
       "      <td>1</td>\n",
       "    </tr>\n",
       "    <tr>\n",
       "      <th>3</th>\n",
       "      <td>543.035664</td>\n",
       "      <td>944.165281</td>\n",
       "      <td>0</td>\n",
       "      <td>27.361781</td>\n",
       "      <td>11</td>\n",
       "      <td>1</td>\n",
       "      <td>2</td>\n",
       "      <td>2</td>\n",
       "      <td>22</td>\n",
       "      <td>2.422186</td>\n",
       "      <td>25000</td>\n",
       "      <td>0</td>\n",
       "    </tr>\n",
       "    <tr>\n",
       "      <th>4</th>\n",
       "      <td>536.530146</td>\n",
       "      <td>971.336653</td>\n",
       "      <td>0</td>\n",
       "      <td>3.423286</td>\n",
       "      <td>21</td>\n",
       "      <td>1</td>\n",
       "      <td>2</td>\n",
       "      <td>2</td>\n",
       "      <td>18</td>\n",
       "      <td>1.978793</td>\n",
       "      <td>50000</td>\n",
       "      <td>0</td>\n",
       "    </tr>\n",
       "  </tbody>\n",
       "</table>\n",
       "</div>"
      ],
      "text/plain": [
       "            x           y  centre_id  dist_centre  density  gender  ethnicity  \\\n",
       "0  535.071881  952.859788          0    19.126535       12       0          2   \n",
       "1  546.972366  995.682667          0    25.321996        9       0          2   \n",
       "2  556.785626  980.505114          0    19.159516       12       0          2   \n",
       "3  543.035664  944.165281          0    27.361781       11       1          2   \n",
       "4  536.530146  971.336653          0     3.423286       21       1          2   \n",
       "\n",
       "   hh_people  age   dist_pt  income  has_car  \n",
       "0          2   36  0.739358   45000        0  \n",
       "1          3   22  2.669353   40000        0  \n",
       "2          4   69  3.185707   45000        1  \n",
       "3          2   22  2.422186   25000        0  \n",
       "4          2   18  1.978793   50000        0  "
      ]
     },
     "execution_count": 836,
     "metadata": {},
     "output_type": "execute_result"
    }
   ],
   "source": [
    "data.head()"
   ]
  },
  {
   "cell_type": "code",
   "execution_count": 838,
   "metadata": {},
   "outputs": [],
   "source": [
    "data.to_csv('data.csv', index=False)"
   ]
  },
  {
   "cell_type": "code",
   "execution_count": null,
   "metadata": {},
   "outputs": [],
   "source": []
  },
  {
   "cell_type": "code",
   "execution_count": 885,
   "metadata": {},
   "outputs": [],
   "source": [
    "xx = np.array([1,2,3,4,1])\n",
    "yy = np.array([1,2,3,4,4])"
   ]
  },
  {
   "cell_type": "code",
   "execution_count": 886,
   "metadata": {},
   "outputs": [],
   "source": [
    "left = xx < 3\n",
    "bottom = yy < 3"
   ]
  },
  {
   "cell_type": "code",
   "execution_count": 891,
   "metadata": {},
   "outputs": [
    {
     "data": {
      "text/plain": [
       "array([1])"
      ]
     },
     "execution_count": 891,
     "metadata": {},
     "output_type": "execute_result"
    }
   ],
   "source": [
    "# bottom left\n",
    "xx[left & ~bottom]"
   ]
  },
  {
   "cell_type": "code",
   "execution_count": 892,
   "metadata": {},
   "outputs": [
    {
     "data": {
      "text/plain": [
       "array([4])"
      ]
     },
     "execution_count": 892,
     "metadata": {},
     "output_type": "execute_result"
    }
   ],
   "source": [
    "yy[left & ~bottom]"
   ]
  },
  {
   "cell_type": "code",
   "execution_count": null,
   "metadata": {},
   "outputs": [],
   "source": []
  }
 ],
 "metadata": {
  "kernelspec": {
   "display_name": "Python 3",
   "language": "python",
   "name": "python3"
  },
  "language_info": {
   "codemirror_mode": {
    "name": "ipython",
    "version": 3
   },
   "file_extension": ".py",
   "mimetype": "text/x-python",
   "name": "python",
   "nbconvert_exporter": "python",
   "pygments_lexer": "ipython3",
   "version": "3.7.4"
  }
 },
 "nbformat": 4,
 "nbformat_minor": 2
}
