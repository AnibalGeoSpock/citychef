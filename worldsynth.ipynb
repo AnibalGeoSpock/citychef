{
 "cells": [
  {
   "cell_type": "code",
   "execution_count": null,
   "metadata": {},
   "outputs": [],
   "source": [
    "import numpy as np  # NumPy package for arrays, random number generation, etc\n",
    "import matplotlib.pyplot as plt  # For plotting\n",
    "from shapely.geometry import Point\n",
    "import pandas as pd\n",
    "from sklearn.neighbors import KDTree\n",
    "\n",
    "from faker import random_point_processes as rpp"
   ]
  },
  {
   "cell_type": "code",
   "execution_count": null,
   "metadata": {},
   "outputs": [],
   "source": [
    "c = 1.2\n",
    "n=100\n",
    "a = np.random.zipf(c,n)\n",
    "plt.hist(a[a<50])"
   ]
  },
  {
   "cell_type": "code",
   "execution_count": null,
   "metadata": {
    "scrolled": false
   },
   "outputs": [],
   "source": [
    "from scipy import special\n",
    "limit = 100\n",
    "count, bins, ignored = plt.hist(a[a<limit], limit, normed=True)\n",
    "x = np.arange(1., limit)\n",
    "y = x**(-c) / special.zetac(c)\n",
    "plt.plot(x, y/max(y), linewidth=2, color='r')\n",
    "print(a)\n",
    "plt.show()"
   ]
  },
  {
   "cell_type": "code",
   "execution_count": null,
   "metadata": {},
   "outputs": [],
   "source": [
    "max(a)"
   ]
  },
  {
   "cell_type": "code",
   "execution_count": null,
   "metadata": {},
   "outputs": [],
   "source": [
    "a"
   ]
  },
  {
   "cell_type": "code",
   "execution_count": null,
   "metadata": {},
   "outputs": [],
   "source": []
  },
  {
   "cell_type": "code",
   "execution_count": null,
   "metadata": {},
   "outputs": [],
   "source": []
  },
  {
   "cell_type": "code",
   "execution_count": null,
   "metadata": {},
   "outputs": [],
   "source": []
  },
  {
   "cell_type": "code",
   "execution_count": null,
   "metadata": {},
   "outputs": [],
   "source": [
    "import logging\n",
    "logging.basicConfig(level=logging.INFO)"
   ]
  },
  {
   "cell_type": "code",
   "execution_count": null,
   "metadata": {
    "scrolled": false
   },
   "outputs": [],
   "source": [
    "xx, yy, xx_parent_repeated, yy_parent_repeated, xx_parent, yy_parent, centre_ids = rpp.thomas_cluster_process(\n",
    "    xmin = 0,\n",
    "    xmax = 1000,\n",
    "    ymin = 0,\n",
    "    ymax = 1000,\n",
    "    lambda_parent = .0001, # density of parent Poisson point process\n",
    "    lambda_daughter = 10000, # mean number of points in each cluster\n",
    "    sigma = 15 # sigma for normal variables (ie random locations) of daughters\n",
    ")\n",
    "print(len(xx_parent), 'centres.', len(xx), 'households.')\n",
    "plt.scatter(xx, yy, alpha=0.5, marker='.')\n",
    "plt.xlabel(\"x\")\n",
    "plt.ylabel(\"y\")\n",
    "plt.axis('equal')"
   ]
  },
  {
   "cell_type": "code",
   "execution_count": null,
   "metadata": {},
   "outputs": [],
   "source": [
    "pop_size = len(xx)\n",
    "pop_size"
   ]
  },
  {
   "cell_type": "code",
   "execution_count": null,
   "metadata": {},
   "outputs": [],
   "source": [
    "def minmax(array):\n",
    "    assert isinstance(array, np.ndarray)\n",
    "    return (array - min(array)) / (max(array) - min(array))"
   ]
  },
  {
   "cell_type": "code",
   "execution_count": null,
   "metadata": {},
   "outputs": [],
   "source": [
    "# build some hidden features"
   ]
  },
  {
   "cell_type": "code",
   "execution_count": null,
   "metadata": {},
   "outputs": [],
   "source": [
    "pop_locs = [Point(x, y) for x, y in zip(xx,yy)]"
   ]
  },
  {
   "cell_type": "code",
   "execution_count": null,
   "metadata": {},
   "outputs": [],
   "source": [
    "pop_centres = [Point(x, y) for x, y in zip(xx_parent, yy_parent)]\n",
    "centres = [Point(x, y) for x, y in zip(xx_parent_repeated, yy_parent_repeated)]"
   ]
  },
  {
   "cell_type": "code",
   "execution_count": null,
   "metadata": {},
   "outputs": [],
   "source": [
    "dist_to_centre = np.array([x.distance(y) for x, y in zip(pop_locs, centres)])"
   ]
  },
  {
   "cell_type": "code",
   "execution_count": null,
   "metadata": {},
   "outputs": [],
   "source": [
    "loc_array = np.vstack((xx, yy)).T\n",
    "centre_array = np.vstack((xxParent, yyParent)).T"
   ]
  },
  {
   "cell_type": "code",
   "execution_count": null,
   "metadata": {},
   "outputs": [],
   "source": [
    "tree = KDTree(centre_array)"
   ]
  },
  {
   "cell_type": "code",
   "execution_count": null,
   "metadata": {},
   "outputs": [],
   "source": [
    "dist_closest_centre, _ = tree.query(loc_array, dualtree=True, k=1)\n",
    "dist_closest_centre = dist_closest_centre.reshape(-1)\n",
    "dist_closest_centre_mm = minmax(dist_closest_centre)\n",
    "len(dist_closest_centre_mm)"
   ]
  },
  {
   "cell_type": "code",
   "execution_count": null,
   "metadata": {},
   "outputs": [],
   "source": [
    "nearest_dist, _ = tree.query(loc_array, dualtree=True, k=3)\n",
    "dist_closest_centres = nearest_dist.sum(axis=1)\n",
    "dist_closest_centres_mm = minmax(dist_closest_centres)\n",
    "len(dist_closest_centres_mm)"
   ]
  },
  {
   "cell_type": "code",
   "execution_count": null,
   "metadata": {},
   "outputs": [],
   "source": [
    "tree = KDTree(loc_array)\n",
    "density = tree.query_radius(loc_array, count_only=True, r=1)\n",
    "density_mm = minmax(density)\n",
    "len(density_mm)"
   ]
  },
  {
   "cell_type": "code",
   "execution_count": null,
   "metadata": {},
   "outputs": [],
   "source": [
    "xx_mm = minmax(xx)\n",
    "yy_mm = minmax(yy)\n",
    "dist_to_centre_mm = minmax(dist_to_centre)\n",
    "centre_ids_mm = minmax(centre_ids)"
   ]
  },
  {
   "cell_type": "code",
   "execution_count": null,
   "metadata": {},
   "outputs": [],
   "source": [
    "# build some attributes based on these hidden features and on each other"
   ]
  },
  {
   "cell_type": "code",
   "execution_count": null,
   "metadata": {},
   "outputs": [],
   "source": [
    "def get_gender(pman=.49, n=4):\n",
    "    return np.random.choice([0, 1], size=n, p=[pman, 1-pman])"
   ]
  },
  {
   "cell_type": "code",
   "execution_count": null,
   "metadata": {},
   "outputs": [],
   "source": [
    "genders = get_gender(n=pop_size)"
   ]
  },
  {
   "cell_type": "code",
   "execution_count": null,
   "metadata": {},
   "outputs": [],
   "source": [
    "def get_ethnicity(xx, yy, density):\n",
    "    p1 = np.random.poisson(xx*10)\n",
    "    p2 = np.random.poisson(density*10)\n",
    "    p3 = np.random.poisson(density*xx*10)\n",
    "    p4 = np.random.poisson(((xx - .5)*10)**2)\n",
    "    p5 = np.random.poisson(yy*10)\n",
    "    choice = np.array([p1,p2,p3,p4,p5])\n",
    "    choice = choice/sum(choice)\n",
    "    return np.random.choice([1,2,3,4,5], p=choice)\n",
    "    "
   ]
  },
  {
   "cell_type": "code",
   "execution_count": null,
   "metadata": {},
   "outputs": [],
   "source": [
    "ethnicity = np.array([get_ethnicity(x,y,d) for x,y,d in zip(xx_mm, yy_mm, density)])"
   ]
  },
  {
   "cell_type": "code",
   "execution_count": null,
   "metadata": {},
   "outputs": [],
   "source": [
    "def get_hh_people(ethnicity, density):\n",
    "    p1 = density*50 + ethnicity*2\n",
    "    p2 = density*40 + ethnicity*4\n",
    "    p3 = density*30 + ethnicity*6\n",
    "    p4 = density*20 + ethnicity*8\n",
    "    p5 = density*10 + ethnicity*10\n",
    "    choice = np.array([p1,p2,p3,p4,p5])\n",
    "    choice = choice/sum(choice)\n",
    "    return np.random.choice([1,2,3,4,5], p=choice)"
   ]
  },
  {
   "cell_type": "code",
   "execution_count": null,
   "metadata": {},
   "outputs": [],
   "source": [
    "hh_people = np.array([get_hh_people(e,d) for e,d in zip(ethnicity, density)])"
   ]
  },
  {
   "cell_type": "code",
   "execution_count": null,
   "metadata": {},
   "outputs": [],
   "source": [
    "def get_age(centre_id, density, dist_closest_centre):\n",
    "    old = 70\n",
    "    adult = 30 + (12*centre_id)\n",
    "    child = 20 - (12*centre_id)\n",
    "    return np.random.choice(\n",
    "        [\n",
    "            int(np.random.poisson(old)),\n",
    "            int(np.random.poisson(adult)),\n",
    "            int(np.random.poisson(child))\n",
    "        ],\n",
    "        p=(.3-(density*dist_closest_centre/5),.3,.4+(density*dist_closest_centre/5))\n",
    "    )"
   ]
  },
  {
   "cell_type": "code",
   "execution_count": null,
   "metadata": {},
   "outputs": [],
   "source": [
    "age = np.array([get_age(c,d,dist) for c,d,dist in zip(centre_ids_mm, density_mm, dist_closest_centre_mm)])"
   ]
  },
  {
   "cell_type": "code",
   "execution_count": null,
   "metadata": {},
   "outputs": [],
   "source": [
    "def get_dist_pt(dist_closest_centre):\n",
    "    return np.random.normal(1-dist_closest_centre)**2"
   ]
  },
  {
   "cell_type": "code",
   "execution_count": null,
   "metadata": {},
   "outputs": [],
   "source": [
    "dist_pt = np.array([get_dist_pt(d) for d in dist_closest_centre])"
   ]
  },
  {
   "cell_type": "code",
   "execution_count": null,
   "metadata": {},
   "outputs": [],
   "source": [
    "def get_income(dist_closest_centres):\n",
    "    return (15 + np.random.poisson(5*(dist_closest_centres+1))*5)*1000"
   ]
  },
  {
   "cell_type": "code",
   "execution_count": null,
   "metadata": {},
   "outputs": [],
   "source": [
    "income = np.array([get_income(d) for d in dist_closest_centres_mm])"
   ]
  },
  {
   "cell_type": "code",
   "execution_count": null,
   "metadata": {},
   "outputs": [],
   "source": [
    "income_mm = minmax(income)"
   ]
  },
  {
   "cell_type": "code",
   "execution_count": null,
   "metadata": {},
   "outputs": [],
   "source": [
    "def get_car(ethnicity, income_mm, density_mm):\n",
    "    p = income_mm * (1 - density_mm)\n",
    "    if ethnicity < 3:\n",
    "        p /=2 \n",
    "    choice = np.array([p, 1-p])\n",
    "    return np.random.choice([1, 0], p=choice)"
   ]
  },
  {
   "cell_type": "code",
   "execution_count": null,
   "metadata": {},
   "outputs": [],
   "source": [
    "has_car = np.array([get_car(e, i, d) for e, i, d in zip(ethnicity, income_mm, density_mm)])"
   ]
  },
  {
   "cell_type": "code",
   "execution_count": null,
   "metadata": {},
   "outputs": [],
   "source": [
    "# build df"
   ]
  },
  {
   "cell_type": "code",
   "execution_count": null,
   "metadata": {},
   "outputs": [],
   "source": [
    "data_dict =  {\n",
    "        'x': xx,\n",
    "        'y': yy,\n",
    "        'centre_id': centre_ids,\n",
    "        'dist_centre': dist_to_centre,\n",
    "        'density': density,\n",
    "        'gender': genders,\n",
    "        'ethnicity': ethnicity,\n",
    "        'hh_people': hh_people,\n",
    "        'age': age,\n",
    "        'dist_pt': dist_pt,\n",
    "        'income': income,\n",
    "        'has_car': has_car\n",
    "    }"
   ]
  },
  {
   "cell_type": "code",
   "execution_count": null,
   "metadata": {},
   "outputs": [],
   "source": [
    "for k,v in data_dict.items():\n",
    "    print(k, len(v))"
   ]
  },
  {
   "cell_type": "code",
   "execution_count": null,
   "metadata": {},
   "outputs": [],
   "source": [
    "data = pd.DataFrame(data_dict)"
   ]
  },
  {
   "cell_type": "code",
   "execution_count": null,
   "metadata": {},
   "outputs": [],
   "source": [
    "data.head()"
   ]
  },
  {
   "cell_type": "code",
   "execution_count": null,
   "metadata": {},
   "outputs": [],
   "source": [
    "data.to_csv('data.csv', index=False)"
   ]
  },
  {
   "cell_type": "code",
   "execution_count": null,
   "metadata": {},
   "outputs": [],
   "source": []
  },
  {
   "cell_type": "code",
   "execution_count": 9,
   "metadata": {},
   "outputs": [],
   "source": [
    "from faker.tree import RegularBlock\n",
    "import numpy as np"
   ]
  },
  {
   "cell_type": "code",
   "execution_count": 10,
   "metadata": {},
   "outputs": [],
   "source": [
    "xx = np.array((2,1,2,3,6,1,9,1,7))\n",
    "yy = np.array((0,1,1,3,3,4,1,9,9))"
   ]
  },
  {
   "cell_type": "code",
   "execution_count": 11,
   "metadata": {},
   "outputs": [],
   "source": [
    "locs = np.stack((xx,yy), axis=1)"
   ]
  },
  {
   "cell_type": "code",
   "execution_count": 14,
   "metadata": {},
   "outputs": [],
   "source": [
    "ind = np.array(range(len(locs))).reshape((-1,1))"
   ]
  },
  {
   "cell_type": "code",
   "execution_count": 15,
   "metadata": {},
   "outputs": [
    {
     "data": {
      "text/plain": [
       "array([[0, 2, 0],\n",
       "       [1, 1, 1],\n",
       "       [2, 2, 1],\n",
       "       [3, 3, 3],\n",
       "       [4, 6, 3],\n",
       "       [5, 1, 4],\n",
       "       [6, 9, 1],\n",
       "       [7, 1, 9],\n",
       "       [8, 7, 9]])"
      ]
     },
     "execution_count": 15,
     "metadata": {},
     "output_type": "execute_result"
    }
   ],
   "source": [
    "data = np.concatenate((ind,locs), axis=1)\n",
    "data"
   ]
  },
  {
   "cell_type": "code",
   "execution_count": 6,
   "metadata": {},
   "outputs": [],
   "source": [
    "bbox = np.array([[0,0],[10,10]])"
   ]
  },
  {
   "cell_type": "code",
   "execution_count": 7,
   "metadata": {},
   "outputs": [
    {
     "name": "stdout",
     "output_type": "stream",
     "text": [
      "9\n",
      "[5. 5.]\n",
      "5\n",
      "[2.5 2.5]\n",
      "3\n",
      "[1.25 1.25]\n",
      "[[0.  0. ]\n",
      " [2.5 2.5]]\n",
      "1\n",
      "[1.25 3.75]\n",
      "[[0.  2.5]\n",
      " [2.5 5. ]]\n",
      "1\n",
      "[3.75 3.75]\n",
      "[[2.5 2.5]\n",
      " [5.  5. ]]\n",
      "0\n",
      "[3.75 1.25]\n",
      "[[2.5 0. ]\n",
      " [5.  2.5]]\n",
      "1\n",
      "[2.5 7.5]\n",
      "[[ 0.  5.]\n",
      " [ 5. 10.]]\n",
      "1\n",
      "[7.5 7.5]\n",
      "[[ 5.  5.]\n",
      " [10. 10.]]\n",
      "2\n",
      "[7.5 2.5]\n",
      "[[ 5.  0.]\n",
      " [10.  5.]]\n"
     ]
    }
   ],
   "source": [
    "grid = RegularBlock(bbox, data, 4)"
   ]
  },
  {
   "cell_type": "code",
   "execution_count": 8,
   "metadata": {},
   "outputs": [
    {
     "name": "stdout",
     "output_type": "stream",
     "text": [
      "[1.25 1.25]\n",
      "[1.25 3.75]\n",
      "[3.75 3.75]\n",
      "[3.75 1.25]\n",
      "[2.5 7.5]\n",
      "[7.5 7.5]\n",
      "[7.5 2.5]\n"
     ]
    }
   ],
   "source": [
    "for leaf in grid.traverse():\n",
    "    if leaf.leaf:\n",
    "        print(leaf.centre)"
   ]
  },
  {
   "cell_type": "code",
   "execution_count": null,
   "metadata": {},
   "outputs": [],
   "source": [
    "bbox = np.array([[0,0],[10,10]])\n",
    "print(bbox)\n",
    "centre = bbox.mean(axis=0)\n",
    "print(centre)\n",
    "left = data[:, 1] < centre[0]\n",
    "bottom = data[:, 2] < centre[1]\n",
    "print(left)\n",
    "print(bottom)\n",
    "# bottom left\n",
    "minx, miny, maxx, maxy = bbox[0, 0], bbox[0, 1], centre[0], centre[1]\n",
    "bbox = np.array([[minx, miny], [maxx, maxy]])\n",
    "bbox"
   ]
  },
  {
   "cell_type": "code",
   "execution_count": null,
   "metadata": {},
   "outputs": [],
   "source": []
  },
  {
   "cell_type": "code",
   "execution_count": null,
   "metadata": {},
   "outputs": [],
   "source": [
    "bb = np.array([[2,-2],[10,10]])\n",
    "bb"
   ]
  },
  {
   "cell_type": "code",
   "execution_count": null,
   "metadata": {},
   "outputs": [],
   "source": [
    "bb.mean(axis=0)"
   ]
  },
  {
   "cell_type": "code",
   "execution_count": null,
   "metadata": {},
   "outputs": [],
   "source": []
  }
 ],
 "metadata": {
  "kernelspec": {
   "display_name": "Python 3",
   "language": "python",
   "name": "python3"
  },
  "language_info": {
   "codemirror_mode": {
    "name": "ipython",
    "version": 3
   },
   "file_extension": ".py",
   "mimetype": "text/x-python",
   "name": "python",
   "nbconvert_exporter": "python",
   "pygments_lexer": "ipython3",
   "version": "3.7.4"
  }
 },
 "nbformat": 4,
 "nbformat_minor": 2
}
