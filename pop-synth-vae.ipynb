{
 "cells": [
  {
   "cell_type": "code",
   "execution_count": null,
   "metadata": {},
   "outputs": [],
   "source": [
    "import os\n",
    "import time\n",
    "import json\n",
    "import pickle\n",
    "import pandas as pd\n",
    "%matplotlib inline\n",
    "import matplotlib.pyplot as plt\n",
    "import numpy as np\n",
    "import random as rn\n",
    "import copy\n",
    "from pprint import pprint\n",
    "import tensorflow as tf\n",
    "import keras"
   ]
  },
  {
   "cell_type": "code",
   "execution_count": 65,
   "metadata": {},
   "outputs": [
    {
     "data": {
      "text/plain": [
       "'2.0.0'"
      ]
     },
     "execution_count": 65,
     "metadata": {},
     "output_type": "execute_result"
    }
   ],
   "source": [
    "tf.__version__"
   ]
  },
  {
   "cell_type": "code",
   "execution_count": 66,
   "metadata": {},
   "outputs": [],
   "source": [
    "# reproducible results \n",
    "# https://keras.io/getting-started/faq/#how-can-i-obtain-reproducible-results-using-keras-during-development\n",
    "\n",
    "# The below is necessary in Python 3.2.3 onwards to\n",
    "# have reproducible behavior for certain hash-based operations.\n",
    "# See these references for further details:\n",
    "# https://docs.python.org/3.4/using/cmdline.html#envvar-PYTHONHASHSEED\n",
    "# https://github.com/keras-team/keras/issues/2280#issuecomment-306959926\n",
    "\n",
    "os.environ['PYTHONHASHSEED'] = '0'\n",
    "\n",
    "# The below is necessary for starting Numpy generated random numbers\n",
    "# in a well-defined initial state.\n",
    "\n",
    "np.random.seed(42)\n",
    "\n",
    "# The below is necessary for starting core Python generated random numbers\n",
    "# in a well-defined state.\n",
    "\n",
    "rn.seed(12345)\n",
    "\n",
    "# Force TensorFlow to use single thread.\n",
    "# Multiple threads are a potential source of\n",
    "# non-reproducible results.\n",
    "# For further details, see: https://stackoverflow.com/questions/42022950/which-seeds-have-to-be-set-where-to-realize-100-reproducibility-of-training-res\n",
    "\n",
    "#session_conf = tf.ConfigProto(intra_op_parallelism_threads=1, inter_op_parallelism_threads=1)\n",
    "\n",
    "# The below tf.set_random_seed() will make random number generation\n",
    "# in the TensorFlow backend have a well-defined initial state.\n",
    "# For further details, see: https://www.tensorflow.org/api_docs/python/tf/set_random_seed\n",
    "\n",
    "tf.random.set_seed(1234)\n",
    "\n",
    "#sess = tf.Session(graph=tf.get_default_graph(), config=session_conf)\n",
    "#set_session(sess)"
   ]
  },
  {
   "cell_type": "code",
   "execution_count": 67,
   "metadata": {},
   "outputs": [],
   "source": [
    "# prevent tensorflow from allocating the entire GPU memory at once\n",
    "from keras.backend.tensorflow_backend import set_session\n",
    "# config = tf.ConfigProto()\n",
    "config = tf.compat.v1.ConfigProto()\n",
    "config.gpu_options.allow_growth = True\n",
    "config.gpu_options.visible_device_list = \"0\"\n",
    "# set_session(tf.Session(config=config))"
   ]
  },
  {
   "cell_type": "markdown",
   "metadata": {},
   "source": [
    "# Load data"
   ]
  },
  {
   "cell_type": "code",
   "execution_count": 68,
   "metadata": {},
   "outputs": [
    {
     "name": "stdout",
     "output_type": "stream",
     "text": [
      "<class 'pandas.core.frame.DataFrame'>\n",
      "RangeIndex: 1020004 entries, 0 to 1020003\n",
      "Data columns (total 12 columns):\n",
      "x             1020004 non-null float64\n",
      "y             1020004 non-null float64\n",
      "centreid      1020004 non-null int64\n",
      "distcentre    1020004 non-null float64\n",
      "density       1020004 non-null int64\n",
      "gender        1020004 non-null int64\n",
      "ethnicity     1020004 non-null int64\n",
      "hhpeople      1020004 non-null int64\n",
      "age           1020004 non-null int64\n",
      "distpt        1020004 non-null float64\n",
      "income        1020004 non-null int64\n",
      "hascar        1020004 non-null int64\n",
      "dtypes: float64(4), int64(8)\n",
      "memory usage: 93.4 MB\n",
      "None\n"
     ]
    }
   ],
   "source": [
    "\"\"\"\n",
    "input data format (csv):\n",
    "\n",
    "\"attribute_1_name\", \"attribute_2_name\", ..., \"attribute_n_name\"\n",
    "agent_1_attribute_1_val, agent_1_attribute_1_val, ..., agent_1_attribute_1_val\n",
    "...\n",
    "agent_N_attribute_1_val, agent_N_attribute_2_val, ..., agent_N_attribute_n_val\n",
    "\n",
    "\"\"\" \n",
    "\n",
    "data_dir = '.'\n",
    "data_filename = \"data.csv\"\n",
    "data_file = os.path.join(data_dir, data_filename)\n",
    "delimiter = ','\n",
    "df_all = pd.read_csv(data_file, delimiter=delimiter)\n",
    "df_all.columns = [c.replace('_', '') for c in df_all.columns]\n",
    "print(df_all.info())"
   ]
  },
  {
   "cell_type": "code",
   "execution_count": 69,
   "metadata": {},
   "outputs": [
    {
     "data": {
      "text/html": [
       "<div>\n",
       "<style scoped>\n",
       "    .dataframe tbody tr th:only-of-type {\n",
       "        vertical-align: middle;\n",
       "    }\n",
       "\n",
       "    .dataframe tbody tr th {\n",
       "        vertical-align: top;\n",
       "    }\n",
       "\n",
       "    .dataframe thead th {\n",
       "        text-align: right;\n",
       "    }\n",
       "</style>\n",
       "<table border=\"1\" class=\"dataframe\">\n",
       "  <thead>\n",
       "    <tr style=\"text-align: right;\">\n",
       "      <th></th>\n",
       "      <th>x</th>\n",
       "      <th>y</th>\n",
       "      <th>centreid</th>\n",
       "      <th>distcentre</th>\n",
       "      <th>density</th>\n",
       "      <th>gender</th>\n",
       "      <th>ethnicity</th>\n",
       "      <th>hhpeople</th>\n",
       "      <th>age</th>\n",
       "      <th>distpt</th>\n",
       "      <th>income</th>\n",
       "      <th>hascar</th>\n",
       "    </tr>\n",
       "  </thead>\n",
       "  <tbody>\n",
       "    <tr>\n",
       "      <th>count</th>\n",
       "      <td>1.020004e+06</td>\n",
       "      <td>1.020004e+06</td>\n",
       "      <td>1.020004e+06</td>\n",
       "      <td>1.020004e+06</td>\n",
       "      <td>1.020004e+06</td>\n",
       "      <td>1.020004e+06</td>\n",
       "      <td>1.020004e+06</td>\n",
       "      <td>1.020004e+06</td>\n",
       "      <td>1.020004e+06</td>\n",
       "      <td>1.020004e+06</td>\n",
       "      <td>1.020004e+06</td>\n",
       "      <td>1.020004e+06</td>\n",
       "    </tr>\n",
       "    <tr>\n",
       "      <th>mean</th>\n",
       "      <td>4.878402e+02</td>\n",
       "      <td>5.183318e+02</td>\n",
       "      <td>5.052465e+01</td>\n",
       "      <td>1.879241e+01</td>\n",
       "      <td>1.509936e+01</td>\n",
       "      <td>5.103656e-01</td>\n",
       "      <td>2.430959e+00</td>\n",
       "      <td>2.408035e+00</td>\n",
       "      <td>3.645734e+01</td>\n",
       "      <td>2.001595e+00</td>\n",
       "      <td>4.982052e+04</td>\n",
       "      <td>1.510818e-01</td>\n",
       "    </tr>\n",
       "    <tr>\n",
       "      <th>std</th>\n",
       "      <td>2.564923e+02</td>\n",
       "      <td>2.906490e+02</td>\n",
       "      <td>2.942734e+01</td>\n",
       "      <td>9.832022e+00</td>\n",
       "      <td>9.008658e+00</td>\n",
       "      <td>4.998928e-01</td>\n",
       "      <td>7.664313e-01</td>\n",
       "      <td>1.283970e+00</td>\n",
       "      <td>2.396312e+01</td>\n",
       "      <td>2.450428e+00</td>\n",
       "      <td>1.380828e+04</td>\n",
       "      <td>3.581287e-01</td>\n",
       "    </tr>\n",
       "    <tr>\n",
       "      <th>min</th>\n",
       "      <td>-5.647516e+01</td>\n",
       "      <td>-3.484334e+01</td>\n",
       "      <td>0.000000e+00</td>\n",
       "      <td>1.986474e-02</td>\n",
       "      <td>1.000000e+00</td>\n",
       "      <td>0.000000e+00</td>\n",
       "      <td>1.000000e+00</td>\n",
       "      <td>1.000000e+00</td>\n",
       "      <td>0.000000e+00</td>\n",
       "      <td>1.026223e-14</td>\n",
       "      <td>1.500000e+04</td>\n",
       "      <td>0.000000e+00</td>\n",
       "    </tr>\n",
       "    <tr>\n",
       "      <th>25%</th>\n",
       "      <td>2.853194e+02</td>\n",
       "      <td>2.561770e+02</td>\n",
       "      <td>2.500000e+01</td>\n",
       "      <td>1.136724e+01</td>\n",
       "      <td>8.000000e+00</td>\n",
       "      <td>0.000000e+00</td>\n",
       "      <td>2.000000e+00</td>\n",
       "      <td>1.000000e+00</td>\n",
       "      <td>1.500000e+01</td>\n",
       "      <td>2.674966e-01</td>\n",
       "      <td>4.000000e+04</td>\n",
       "      <td>0.000000e+00</td>\n",
       "    </tr>\n",
       "    <tr>\n",
       "      <th>50%</th>\n",
       "      <td>4.938090e+02</td>\n",
       "      <td>5.606744e+02</td>\n",
       "      <td>5.100000e+01</td>\n",
       "      <td>1.765580e+01</td>\n",
       "      <td>1.400000e+01</td>\n",
       "      <td>1.000000e+00</td>\n",
       "      <td>2.000000e+00</td>\n",
       "      <td>2.000000e+00</td>\n",
       "      <td>3.200000e+01</td>\n",
       "      <td>1.105243e+00</td>\n",
       "      <td>5.000000e+04</td>\n",
       "      <td>0.000000e+00</td>\n",
       "    </tr>\n",
       "    <tr>\n",
       "      <th>75%</th>\n",
       "      <td>6.997529e+02</td>\n",
       "      <td>7.507163e+02</td>\n",
       "      <td>7.600000e+01</td>\n",
       "      <td>2.496815e+01</td>\n",
       "      <td>2.100000e+01</td>\n",
       "      <td>1.000000e+00</td>\n",
       "      <td>3.000000e+00</td>\n",
       "      <td>3.000000e+00</td>\n",
       "      <td>6.000000e+01</td>\n",
       "      <td>2.843508e+00</td>\n",
       "      <td>6.000000e+04</td>\n",
       "      <td>0.000000e+00</td>\n",
       "    </tr>\n",
       "    <tr>\n",
       "      <th>max</th>\n",
       "      <td>1.037505e+03</td>\n",
       "      <td>1.046971e+03</td>\n",
       "      <td>1.010000e+02</td>\n",
       "      <td>7.867950e+01</td>\n",
       "      <td>6.100000e+01</td>\n",
       "      <td>1.000000e+00</td>\n",
       "      <td>5.000000e+00</td>\n",
       "      <td>5.000000e+00</td>\n",
       "      <td>1.100000e+02</td>\n",
       "      <td>3.527279e+01</td>\n",
       "      <td>1.350000e+05</td>\n",
       "      <td>1.000000e+00</td>\n",
       "    </tr>\n",
       "    <tr>\n",
       "      <th>isnull</th>\n",
       "      <td>0.000000e+00</td>\n",
       "      <td>0.000000e+00</td>\n",
       "      <td>0.000000e+00</td>\n",
       "      <td>0.000000e+00</td>\n",
       "      <td>0.000000e+00</td>\n",
       "      <td>0.000000e+00</td>\n",
       "      <td>0.000000e+00</td>\n",
       "      <td>0.000000e+00</td>\n",
       "      <td>0.000000e+00</td>\n",
       "      <td>0.000000e+00</td>\n",
       "      <td>0.000000e+00</td>\n",
       "      <td>0.000000e+00</td>\n",
       "    </tr>\n",
       "  </tbody>\n",
       "</table>\n",
       "</div>"
      ],
      "text/plain": [
       "                   x             y      centreid    distcentre       density  \\\n",
       "count   1.020004e+06  1.020004e+06  1.020004e+06  1.020004e+06  1.020004e+06   \n",
       "mean    4.878402e+02  5.183318e+02  5.052465e+01  1.879241e+01  1.509936e+01   \n",
       "std     2.564923e+02  2.906490e+02  2.942734e+01  9.832022e+00  9.008658e+00   \n",
       "min    -5.647516e+01 -3.484334e+01  0.000000e+00  1.986474e-02  1.000000e+00   \n",
       "25%     2.853194e+02  2.561770e+02  2.500000e+01  1.136724e+01  8.000000e+00   \n",
       "50%     4.938090e+02  5.606744e+02  5.100000e+01  1.765580e+01  1.400000e+01   \n",
       "75%     6.997529e+02  7.507163e+02  7.600000e+01  2.496815e+01  2.100000e+01   \n",
       "max     1.037505e+03  1.046971e+03  1.010000e+02  7.867950e+01  6.100000e+01   \n",
       "isnull  0.000000e+00  0.000000e+00  0.000000e+00  0.000000e+00  0.000000e+00   \n",
       "\n",
       "              gender     ethnicity      hhpeople           age        distpt  \\\n",
       "count   1.020004e+06  1.020004e+06  1.020004e+06  1.020004e+06  1.020004e+06   \n",
       "mean    5.103656e-01  2.430959e+00  2.408035e+00  3.645734e+01  2.001595e+00   \n",
       "std     4.998928e-01  7.664313e-01  1.283970e+00  2.396312e+01  2.450428e+00   \n",
       "min     0.000000e+00  1.000000e+00  1.000000e+00  0.000000e+00  1.026223e-14   \n",
       "25%     0.000000e+00  2.000000e+00  1.000000e+00  1.500000e+01  2.674966e-01   \n",
       "50%     1.000000e+00  2.000000e+00  2.000000e+00  3.200000e+01  1.105243e+00   \n",
       "75%     1.000000e+00  3.000000e+00  3.000000e+00  6.000000e+01  2.843508e+00   \n",
       "max     1.000000e+00  5.000000e+00  5.000000e+00  1.100000e+02  3.527279e+01   \n",
       "isnull  0.000000e+00  0.000000e+00  0.000000e+00  0.000000e+00  0.000000e+00   \n",
       "\n",
       "              income        hascar  \n",
       "count   1.020004e+06  1.020004e+06  \n",
       "mean    4.982052e+04  1.510818e-01  \n",
       "std     1.380828e+04  3.581287e-01  \n",
       "min     1.500000e+04  0.000000e+00  \n",
       "25%     4.000000e+04  0.000000e+00  \n",
       "50%     5.000000e+04  0.000000e+00  \n",
       "75%     6.000000e+04  0.000000e+00  \n",
       "max     1.350000e+05  1.000000e+00  \n",
       "isnull  0.000000e+00  0.000000e+00  "
      ]
     },
     "execution_count": 69,
     "metadata": {},
     "output_type": "execute_result"
    }
   ],
   "source": [
    "# data statistics\n",
    "df_all.describe().append(df_all.isnull().sum().rename('isnull'))"
   ]
  },
  {
   "cell_type": "markdown",
   "metadata": {},
   "source": [
    "# Prepare data"
   ]
  },
  {
   "cell_type": "code",
   "execution_count": 70,
   "metadata": {},
   "outputs": [],
   "source": [
    "# names of categorical attributes\n",
    "categorical = [\n",
    "    \"centreid\",\n",
    "    \"gender\",\n",
    "    \"ethnicity\",\n",
    "    \"hhpeople\",\n",
    "    #...\n",
    "    \"hascar\"\n",
    "]\n",
    "\n",
    "# names of numerical attributes\n",
    "numerical = [\n",
    "    \"x\",\n",
    "    \"y\",\n",
    "    \"distcentre\",\n",
    "    \"density\",\n",
    "    \"age\",\n",
    "    \"distpt\",\n",
    "    #...\n",
    "    \"income\"\n",
    "]\n",
    "\n",
    "# names of real-valued numerical attributes (a subset of numerical)\n",
    "numerical_float = [\n",
    "    \"x\",\n",
    "    \"y\",\n",
    "    \"distcentre\",\n",
    "    \"density\",\n",
    "    \"distpt\",\n",
    "    #...\n",
    "]\n",
    "\n",
    "# names of integer-valued numerical attributes (a subset of numerical)\n",
    "numerical_int = [\n",
    "    \"age\",\n",
    "    \"income\"\n",
    "    #...\n",
    "]\n",
    "\n",
    "columns_all = categorical + numerical\n",
    "\n",
    "# attributes to model\n",
    "columns_to_use = columns_all\n",
    "\n",
    "# removing duplicates just in case\n",
    "columns_to_use = list(set(columns_to_use))"
   ]
  },
  {
   "cell_type": "code",
   "execution_count": 77,
   "metadata": {},
   "outputs": [],
   "source": [
    "# bins used for the comparison of the joint distribution / discretization of the numerical variables\n",
    "min_max_bins = { \n",
    "    'scheme_1': {\n",
    "        # name: [minimum_value, maximum_value, number of bins]\n",
    "        'mumerical_float_attribute_name_i': [0, 99, 100], # 100 bins: [0,1), [1,2), ..., [99,>99)     \n",
    "        \"x\": [-100, 1100, 13],\n",
    "        \"y\": [-100, 1100, 13],\n",
    "        \"distcentre\": [0, 10, 11],\n",
    "        \"density\": [0, 10, 11],\n",
    "        \"distpt\": [0, 10, 11],\n",
    "        \"age\": [0,90,10],\n",
    "        \"income\": [0, 150000, 16]\n",
    "    },\n",
    "    # ...\n",
    "}"
   ]
  },
  {
   "cell_type": "code",
   "execution_count": 78,
   "metadata": {},
   "outputs": [],
   "source": [
    "# caching routine\n",
    "def get_file_suffix(train_test_ratio, columns_to_use, data_dir, data_filename_name):\n",
    "    index_file = data_filename_name + '_index' + '.txt'\n",
    "    index_file = os.path.join(data_dir, index_file)\n",
    "    is_index_file = os.path.isfile(index_file) \n",
    "    if not is_index_file:\n",
    "        if not os.path.exists(data_dir): \n",
    "            os.makedirs(data_dir)\n",
    "        with open(index_file, 'w') as f:\n",
    "            f.write('')\n",
    "    with open(index_file) as f:    \n",
    "        index = f.readlines()\n",
    "        index = [x.strip() for x in index]\n",
    "    key = str(train_test_ratio) + '---'\n",
    "    key += '---'.join(sorted(columns_to_use))\n",
    "    if key in index:\n",
    "        file_suffix = str(index.index(key))\n",
    "    else:\n",
    "        file_suffix = str(len(index))\n",
    "        index.append(key)\n",
    "        with open(index_file, 'w') as f:\n",
    "            f.write('\\n'.join(index))\n",
    "    return file_suffix\n",
    "\n",
    "\n",
    "# get record ids for the train/test split\n",
    "def get_split_ids(df, split_data_dir, sample, train_test_ratio, file_suffix):\n",
    "    ids = df.index.tolist()\n",
    "    num_samples = int(len(ids) * sample)\n",
    "    num_samples_train = int(num_samples * train_test_ratio)\n",
    "    train_ids = ids[:num_samples_train]\n",
    "    test_ids = ids[num_samples_train:num_samples]  \n",
    "    print(len(train_ids), len(test_ids))\n",
    "    return train_ids, test_ids\n",
    "\n",
    "\n",
    "# data cleaning and one-hot encoding of categorical variables\n",
    "def prepare_data(df, columns_to_use, categorical, numerical):\n",
    "    numerical = [x for x in numerical if x in columns_to_use]\n",
    "    categorical = [x for x in categorical if x in columns_to_use]\n",
    "    df = df[columns_to_use].copy()\n",
    "    if numerical:\n",
    "        df[numerical] = df[numerical].apply(pd.to_numeric, errors='coerce')\n",
    "        df.fillna(df.mean()[numerical], inplace=True)\n",
    "    if categorical:\n",
    "        names = list(df[categorical].select_dtypes(include=['float64', 'int64']).columns)\n",
    "        df[names] = df[names].fillna(-1).astype(int).astype(str)\n",
    "        # one-hot encoding of categorical variables\n",
    "        df = pd.get_dummies(data=df, columns=categorical)\n",
    "    return df"
   ]
  },
  {
   "cell_type": "code",
   "execution_count": 79,
   "metadata": {},
   "outputs": [],
   "source": [
    "# convert numerical variables to categorical\n",
    "def add_num_cat_res(df):\n",
    "    col_cats = []\n",
    "    for col_name in min_max_bins['scheme_1']:\n",
    "        if col_name not in df: continue\n",
    "        b0, b1, bn = min_max_bins['scheme_1'][col_name]\n",
    "        bin_width = (b1 - b0) / bn\n",
    "        bins = [b0 + i * bin_width for i in range(bn + 1)]\n",
    "        col_cat_name = col_name + '--cat-res'\n",
    "        df[col_cat_name] = df[col_name]\n",
    "        df[col_cat_name] = df[col_cat_name].apply(lambda x: x if x < b1 else b1 - 10e-10)\n",
    "        df[col_cat_name] = df[col_cat_name].apply(lambda x: x if x >= b0 else b0)\n",
    "        df[col_cat_name] = df[col_cat_name].apply(lambda x: b0 + bin_width * int((x - b0) / (b1 - b0) * bn))\n",
    "        df[col_cat_name] = df[col_cat_name].astype(int)\n",
    "        categorical += col_cat_name\n",
    "    df = df.drop(list(min_max_bins['scheme_1'].keys()), axis=1)\n",
    "    return df"
   ]
  },
  {
   "cell_type": "code",
   "execution_count": 80,
   "metadata": {
    "scrolled": false
   },
   "outputs": [
    {
     "name": "stdout",
     "output_type": "stream",
     "text": [
      "df loaded from file\n",
      "./shuffled_one_hot/data.csv\n",
      "<class 'pandas.core.frame.DataFrame'>\n",
      "RangeIndex: 1020004 entries, 0 to 1020003\n",
      "Columns: 123 entries, x to hascar_1\n",
      "dtypes: float64(4), int64(3), uint8(116)\n",
      "memory usage: 167.3 MB\n",
      "None\n",
      "Index(['x', 'y', 'distcentre', 'density', 'age', 'distpt', 'income',\n",
      "       'centreid_0', 'centreid_1', 'centreid_10',\n",
      "       ...\n",
      "       'ethnicity_3', 'ethnicity_4', 'ethnicity_5', 'hhpeople_1', 'hhpeople_2',\n",
      "       'hhpeople_3', 'hhpeople_4', 'hhpeople_5', 'hascar_0', 'hascar_1'],\n",
      "      dtype='object', length=123)\n"
     ]
    }
   ],
   "source": [
    "reshuffle = False # reshuffle previous random test/train split\n",
    "convert_numerical_to_categorical = False\n",
    "#\n",
    "data_filename_name, data_filename_ext = data_filename.split('.')\n",
    "shuffled_data_dir = os.path.join(data_dir, 'shuffled_one_hot')\n",
    "if not os.path.exists(shuffled_data_dir): \n",
    "    os.makedirs(shuffled_data_dir)\n",
    "shuffled_data_file = os.path.join(shuffled_data_dir, data_filename)   \n",
    "is_shuffled_data_file = os.path.isfile(shuffled_data_file)\n",
    "if reshuffle or not is_shuffled_data_file:\n",
    "    print(\"preparing df...\")\n",
    "    if convert_numerical_to_categorical:\n",
    "        df = add_num_cat_res(df)\n",
    "    df = prepare_data(df_all, columns_all, categorical, numerical)\n",
    "    df = df.sample(frac=1).reset_index(drop=True) # reshuffle dataframe records\n",
    "    df.to_pickle(shuffled_data_file)\n",
    "else:\n",
    "    df = pd.read_pickle(shuffled_data_file)\n",
    "    print(\"df loaded from file\")\n",
    "#\n",
    "print(shuffled_data_file)\n",
    "print(df.info())\n",
    "print(df.columns)"
   ]
  },
  {
   "cell_type": "code",
   "execution_count": 81,
   "metadata": {},
   "outputs": [
    {
     "name": "stdout",
     "output_type": "stream",
     "text": [
      "2040 8160\n"
     ]
    }
   ],
   "source": [
    "sample = 0.01\n",
    "train_test_ratio = 0.2 # 20% train / 80% test\n",
    "#\n",
    "split_data_dir = 'split'\n",
    "file_suffix = get_file_suffix(train_test_ratio, columns_to_use, split_data_dir, data_filename_name)\n",
    "train_ids, test_ids = get_split_ids(df, split_data_dir, sample, train_test_ratio, file_suffix)\n",
    "# drop unsused variables in the dataframe\n",
    "numerical = [x for x in numerical if x in columns_to_use]\n",
    "categorical = [x for x in categorical if x in columns_to_use]\n",
    "categorical_one_hot = []\n",
    "for cat in categorical:\n",
    "    for col in df:\n",
    "        if cat + '_' in col:\n",
    "            categorical_one_hot.append(col)\n",
    "df = df[numerical + categorical_one_hot]"
   ]
  },
  {
   "cell_type": "code",
   "execution_count": 82,
   "metadata": {},
   "outputs": [
    {
     "name": "stdout",
     "output_type": "stream",
     "text": [
      "7 [0, 1, 2, 3, 4, 5, 6]\n",
      "116 [7, 8, 9, 10, 11, 12, 13, 14, 15, 16, 17, 18, 19, 20, 21, 22, 23, 24, 25, 26, 27, 28, 29, 30, 31, 32, 33, 34, 35, 36, 37, 38, 39, 40, 41, 42, 43, 44, 45, 46, 47, 48, 49, 50, 51, 52, 53, 54, 55, 56, 57, 58, 59, 60, 61, 62, 63, 64, 65, 66, 67, 68, 69, 70, 71, 72, 73, 74, 75, 76, 77, 78, 79, 80, 81, 82, 83, 84, 85, 86, 87, 88, 89, 90, 91, 92, 93, 94, 95, 96, 97, 98, 99, 100, 101, 102, 103, 104, 105, 106, 107, 108, 109, 110, 111, 112, 113, 114, 115, 116, 117, 118, 119, 120, 121, 122]\n",
      "5 [7, 109, 111, 116, 121, 123]\n"
     ]
    }
   ],
   "source": [
    "# column indices for numerical and categorical variables\n",
    "# numerical variables: always the first numerical_col_n columns\n",
    "# categorical variables: cat_groups [first_index, last_index+1]\n",
    "numerical_col, categorical_col, cat_groups = [], [], []\n",
    "col_name_prev = ''\n",
    "for i, col_name in enumerate(df.columns):\n",
    "    col_name = col_name.split(\"_\")[0]\n",
    "    if col_name in numerical:\n",
    "        numerical_col.append(i)\n",
    "    elif col_name in categorical:\n",
    "        categorical_col.append(i)\n",
    "        if col_name != col_name_prev:\n",
    "            cat_groups.append(i)\n",
    "    else:\n",
    "        raise Exception(\"unknown column type: \" + col_name)\n",
    "    col_name_prev = col_name\n",
    "numerical_col_n = len(numerical_col)\n",
    "categorical_col_n = len(categorical_col)\n",
    "cat_groups.append(i + 1)\n",
    "cat_groups_n = len(cat_groups) - 1\n",
    "#\n",
    "print(numerical_col_n, numerical_col)\n",
    "print(categorical_col_n, categorical_col)\n",
    "print(cat_groups_n, cat_groups)"
   ]
  },
  {
   "cell_type": "code",
   "execution_count": 83,
   "metadata": {
    "scrolled": true
   },
   "outputs": [
    {
     "name": "stdout",
     "output_type": "stream",
     "text": [
      "123\n",
      "(2040, 123)\n",
      "(8160, 123)\n"
     ]
    }
   ],
   "source": [
    "data = df.as_matrix()\n",
    "data = data.astype(np.float32, copy=False)\n",
    "features_n = len(data[0])\n",
    "#\n",
    "data_train = data[train_ids]\n",
    "data_test = data[test_ids]\n",
    "#\n",
    "print(features_n)\n",
    "print(data_train.shape)\n",
    "print(data_test.shape)\n",
    "#print(data[:2, 0:29])"
   ]
  },
  {
   "cell_type": "code",
   "execution_count": 84,
   "metadata": {},
   "outputs": [
    {
     "name": "stdout",
     "output_type": "stream",
     "text": [
      "\n",
      "--- CATEGORICAL ---\n",
      "--------------------------------------------------------------------------------\n",
      "centreid 102\n",
      "--------------------------------------------------------------------------------\n",
      "gender 2\n",
      "--------------------------------------------------------------------------------\n",
      "ethnicity 5\n",
      "--------------------------------------------------------------------------------\n",
      "hhpeople 5\n",
      "--------------------------------------------------------------------------------\n",
      "hascar 2\n"
     ]
    }
   ],
   "source": [
    "print('\\n--- CATEGORICAL ---')\n",
    "col_names = df.columns.tolist()\n",
    "for g_i in range(cat_groups_n):\n",
    "    g_i_beg = cat_groups[g_i]\n",
    "    g_i_end = cat_groups[g_i + 1]\n",
    "    group_i_names = col_names[g_i_beg: g_i_end]\n",
    "    col_name = '_'.join(col_names[g_i_beg].split('_')[:-1])\n",
    "    print(80*'-')\n",
    "    print(col_name, len(group_i_names))"
   ]
  },
  {
   "cell_type": "markdown",
   "metadata": {},
   "source": [
    "# Validation and caching helper functions"
   ]
  },
  {
   "cell_type": "code",
   "execution_count": 85,
   "metadata": {},
   "outputs": [],
   "source": [
    "# caching and temp directories\n",
    "model_cache_dir = 'model_cache'\n",
    "temp_dir = 'temp'\n",
    "if not os.path.exists(temp_dir): \n",
    "    os.makedirs(temp_dir)"
   ]
  },
  {
   "cell_type": "code",
   "execution_count": 86,
   "metadata": {},
   "outputs": [],
   "source": [
    "import matplotlib.ticker as ticker\n",
    "from matplotlib import rcParams\n",
    "rcParams.update({'figure.autolayout': True})\n",
    "\n",
    "    \n",
    "# check and plot marginals \n",
    "def check_marginals(data, bins=None, title=None):\n",
    "    fig, ax = plt.subplots(figsize=(3, 3), dpi=200, facecolor='w', edgecolor='k')\n",
    "    colors = ['cornflowerblue', 'seagreen', 'tomato', 'darkorchid']\n",
    "    labels = ['true', 'pred', 'bla1', 'bla2']\n",
    "    data_len = len(data)\n",
    "    colors = colors[:data_len]\n",
    "    labels = labels[:data_len]\n",
    "    weights = [np.ones_like(d)/float(len(d)) for d in data]\n",
    "    if bins is not None:\n",
    "        counts, bins, patches = ax.hist(data, histtype='bar', color=colors, \n",
    "                                        label=labels, normed=False, bins=bins, weights=weights, rwidth=None)#5\n",
    "    else:\n",
    "        counts, bins, patches = ax.hist(data, histtype='bar', color=colors, \n",
    "                                        label=labels, normed=False, weights=weights, rwidth=None)#20\n",
    "    ax.set_yscale('log')\n",
    "    ax.xaxis.set_major_formatter(ticker.FormatStrFormatter('%0.2f'))\n",
    "    plt.tick_params(\n",
    "        axis='x',          # changes apply to the x-axis\n",
    "        which='both',      # both major and minor ticks are affected\n",
    "        bottom=False,      # ticks along the bottom edge are off\n",
    "        top=False,         # ticks along the top edge are off\n",
    "        labelbottom=False) # labels along the bottom edge are off\n",
    "    if title is not None:\n",
    "        plt.title(title)\n",
    "    plt.ylim((1e-5, 1))\n",
    "    plt.tight_layout()\n",
    "    fig.savefig(os.path.join(temp_dir, '{}.pdf'.format(title)), dpi=fig.dpi)\n",
    "    plt.show()\n",
    "    corr = np.corrcoef(counts[0], counts[1])[0, 1]\n",
    "    rmse = ((counts[0] - counts[1]) ** 2).mean() ** .5\n",
    "    print(\"corr =\", corr)\n",
    "    print(\"rmse =\", rmse)\n",
    "    \n",
    "    \n",
    "# compare two vectors: Y_test (true) and Y_pred (predicted)\n",
    "def compute_stat(Y_test, Y_pred, do_plot, plot_log):\n",
    "    Y_test, Y_pred = np.array(Y_test), np.array(Y_pred)\n",
    "    corr_mat = np.corrcoef(Y_test, Y_pred)\n",
    "    corr = corr_mat[0, 1]\n",
    "    if np.isnan(corr): corr = 0.0\n",
    "    # MAE\n",
    "    mae = np.absolute(Y_test - Y_pred).mean()\n",
    "    # RMSE\n",
    "    rmse = np.linalg.norm(Y_test - Y_pred) / np.sqrt(len(Y_test))\n",
    "    # SRMSE\n",
    "    ybar = Y_test.mean()\n",
    "    srmse = rmse / ybar\n",
    "    # r-square\n",
    "    u = np.sum((Y_pred - Y_test)**2)\n",
    "    v = np.sum((Y_test - ybar)**2)\n",
    "    r2 = 1.0 - u / v\n",
    "    stat = {'mae': mae, 'rmse': rmse, 'r2': r2, 'srmse': srmse, 'corr': corr}\n",
    "    if do_plot:\n",
    "        fig = plt.figure(figsize=(3, 3), dpi=200, facecolor='w', edgecolor='k')\n",
    "        #plot\n",
    "        print('corr = %f' % (corr))\n",
    "        print('MAE = %f' % (mae))\n",
    "        print('RMSE = %f' % (rmse))\n",
    "        print('SRMSE = %f' % (srmse))\n",
    "        print('r2 = %f' % (r2))\n",
    "        min_Y = min([min(Y_test),min(Y_pred)])\n",
    "        max_Y = max([max(Y_test),max(Y_pred)])\n",
    "        w = max_Y - min_Y\n",
    "        max_Y += w * 0.05\n",
    "        text = ['SMRSE = {:.3f}'.format(stat['srmse']),\n",
    "                'Corr = {:.3f}'.format(stat['corr']),\n",
    "                '$R^2$ = {:.3f}'.format(stat['r2'])]\n",
    "        text = '\\n'.join(text)\n",
    "        plt.text(w * 0.08, w * 0.8, text)\n",
    "        plt.plot(Y_test, Y_pred, '.', alpha=0.5, ms=10, color='seagreen', markeredgewidth=0)\n",
    "        plt.plot([min_Y, max_Y], [min_Y, max_Y], ls='--', color='gray', linewidth=1.0)\n",
    "        plt.axis([min_Y, max_Y, min_Y, max_Y])\n",
    "        plt.xlabel('true')\n",
    "        plt.ylabel('predicted')\n",
    "        if plot_log:\n",
    "            eps = 1e-6\n",
    "            plt.axis([max(min_Y, eps), max_Y, max(min_Y, eps), max_Y])\n",
    "            plt.yscale('log')\n",
    "            plt.xscale('log')\n",
    "        #fig.savefig(os.path.join(temp_dir, '{}.pdf'.format(ylabel)), dpi=fig.dpi)\n",
    "        plt.show()\n",
    "    return stat"
   ]
  },
  {
   "cell_type": "code",
   "execution_count": 87,
   "metadata": {},
   "outputs": [],
   "source": [
    "# The functions below are for the comparison of joint distributions \n",
    "# and calculation of conditionals for the Gibbs sampler\n",
    "# ! Global variables, like \"min_max_bins\", are used !\n",
    "\n",
    "# get bin id for a numerical value\n",
    "def get_bin_i(min_val, max_val, val, bins_n):\n",
    "    #print(val, max_val, min_val)\n",
    "    if val >= max_val: val = max_val - 1e-10\n",
    "    if val < min_val: val = min_val\n",
    "    return int((val - min_val) / (max_val - min_val) * bins_n)\n",
    "\n",
    "\n",
    "# calculate frequency of bins\n",
    "def calc_data_freq(data, min_max_num_bin, var_is_ignore, var_g_is_ignore):\n",
    "    data_freq = {}\n",
    "    #print(var_is_ignore, var_g_is_ignore)\n",
    "    for vals in data:\n",
    "        bin_key = get_bin_key(vals, min_max_num_bin, var_is_ignore, var_g_is_ignore)\n",
    "        #print(bin_key)\n",
    "        #raise Exception(\"test\")\n",
    "        if bin_key not in data_freq:\n",
    "            data_freq[bin_key] = 0\n",
    "        data_freq[bin_key] += 1\n",
    "    for k in data_freq.keys():\n",
    "        data_freq[k] /= len(data)\n",
    "    return data_freq\n",
    "\n",
    "\n",
    "# frequency of bins + caching\n",
    "def get_data_freq(data, min_max_num_bin, var_is_ignore, var_g_is_ignore, cache_file=None):\n",
    "    print(cache_file)\n",
    "    if cache_file is not None:\n",
    "        is_cache_file = os.path.isfile(cache_file)\n",
    "        if is_cache_file:\n",
    "            with open(cache_file, 'rb') as f:\n",
    "                data_freq = pickle.load(f)\n",
    "            print(\"data_freq loaded from file:\", cache_file)\n",
    "        else:\n",
    "            print('calc_data_freq started')\n",
    "            start = time.time()\n",
    "            data_freq = calc_data_freq(data, min_max_num_bin, var_is_ignore, var_g_is_ignore)\n",
    "            duration = time.time() - start\n",
    "            print(\"Took {} seconds to calc_data_freq\".format(duration))\n",
    "            with open(cache_file, 'wb') as f:\n",
    "                pickle.dump(data_freq, f)\n",
    "            print(\"data_freq saved to file:\", cache_file)\n",
    "    else:\n",
    "        data_freq = calc_data_freq(data, min_max_num_bin, var_is_ignore, var_g_is_ignore)\n",
    "    return data_freq\n",
    "\n",
    "\n",
    "# calculate min_max_bins for an arbitrary discretization scheme\n",
    "def get_min_max_num_bin(data_test, data_pred, num_bin):\n",
    "    if num_bin in min_max_bins:\n",
    "        min_max_num_bin = min_max_bins[num_bin]\n",
    "    else:\n",
    "        col_names_num = df.columns.tolist()[:numerical_col_n]\n",
    "        # calculate min max for nmerical columns\n",
    "        min_max = {col_names_num[i]: [0, 0, num_bin] for i in range(numerical_col_n)}\n",
    "        \n",
    "        for i in range(numerical_col_n):\n",
    "            col_test = data_test[:, i]\n",
    "            col_pred = data_pred[:, i]\n",
    "            min_max[col_names_num[i]][0] = min(np.min(col_test), np.min(col_pred))\n",
    "            min_max[col_names_num[i]][1] = max(np.max(col_test), np.max(col_pred))\n",
    "        #print(min_max)\n",
    "        eps = 1e-10\n",
    "        for i in range(numerical_col_n):\n",
    "            min_max[col_names_num[i]][0] -= eps\n",
    "            min_max[col_names_num[i]][1] += eps\n",
    "        #\n",
    "        min_max_num_bin = min_max\n",
    "    return min_max_num_bin\n",
    "\n",
    "\n",
    "# comare distributions\n",
    "def compare_joints_bins(data_test, data_pred, num_bin, \n",
    "                        data_test_freq=None, min_max_num_bin=None,\n",
    "                        var_is_ignore=None, var_g_is_ignore=None,\n",
    "                        cache_file_test=None, cache_file_pred=None):\n",
    "    if min_max_num_bin is None:\n",
    "        min_max_num_bin = get_min_max_num_bin(data_test, data_pred, num_bin)\n",
    "    #\n",
    "    if data_test_freq is None:\n",
    "        data_test_freq = get_data_freq(data_test, min_max_num_bin, \n",
    "                                        var_is_ignore, var_g_is_ignore,\n",
    "                                        cache_file_test) \n",
    "    data_pred_freq = get_data_freq(data_pred, min_max_num_bin,\n",
    "                                    var_is_ignore, var_g_is_ignore,\n",
    "                                    cache_file_pred) \n",
    "    #print(\"data_test_freq:\", data_test_freq)\n",
    "    #print(\"data_pred_freq:\", data_pred_freq)\n",
    "    #\n",
    "    print(80 * '-')\n",
    "    print(\"numerical var bins_n =\", num_bin)\n",
    "    data_test_freq_list, data_pred_freq_list = [], []\n",
    "    for k in data_test_freq.keys():\n",
    "        data_test_freq_list.append(data_test_freq[k])\n",
    "        if k in data_pred_freq:\n",
    "            data_pred_freq_list.append(data_pred_freq[k])\n",
    "        else:\n",
    "            data_pred_freq_list.append(0.0)\n",
    "    for k in data_pred_freq.keys():\n",
    "        if k not in data_test_freq:\n",
    "            data_pred_freq_list.append(data_pred_freq[k])\n",
    "            data_test_freq_list.append(0.0)\n",
    "    #\n",
    "    data_space_size = len(data_test_freq_list)\n",
    "    stat = compute_stat(data_test_freq_list, data_pred_freq_list, True, False)\n",
    "    print(\"data_space_size =\", data_space_size)\n",
    "    print(stat)\n",
    "    print(80 * '-')\n",
    "    return stat\n",
    "\n",
    "\n",
    "# basically the same as get_min_max_num_bin but the min/max values are used for one set of samples\n",
    "def calc_min_max_num_bin(data, num_bin):\n",
    "    col_names_num = df.columns.tolist()[:numerical_col_n]\n",
    "    # calculate min max for nmerical columns\n",
    "    min_max = {col_names_num[i]: [0, 0, num_bin] for i in range(numerical_col_n)}\n",
    "    for i in range(numerical_col_n):\n",
    "        min_max[col_names_num[i]][0] = np.min(vals)\n",
    "        min_max[col_names_num[i]][1] = np.max(vals)\n",
    "    #print(min_max)\n",
    "    eps = 1e-10\n",
    "    for i in range(numerical_col_n):\n",
    "        min_max[col_names_num[i]][0] -= eps\n",
    "        min_max[col_names_num[i]][1] += eps\n",
    "    return min_max\n",
    "\n",
    "\n",
    "# key of a bin in the frequecy table (aka joint distribution), like \"var_1=val_1,var_2=_val_2,...\"\n",
    "def get_bin_key(vals, min_max_num_bin, var_is_ignore, var_g_is_ignore):\n",
    "    bin_key = []\n",
    "    col_names_num = df.columns.tolist()[:numerical_col_n]\n",
    "    for i, val in enumerate(vals[: numerical_col_n]):\n",
    "        if var_is_ignore is not None and i in var_is_ignore:\n",
    "            continue\n",
    "            \n",
    "        bin_i = get_bin_i(min_max_num_bin[col_names_num[i]][0], \n",
    "                          min_max_num_bin[col_names_num[i]][1], \n",
    "                          val, \n",
    "                          min_max_num_bin[col_names_num[i]][2])\n",
    "        bin_key.append('num' + str(i) + \":bin\" + str(bin_i))\n",
    "    for g_i in range(cat_groups_n): \n",
    "        if var_g_is_ignore is not None and g_i in var_g_is_ignore: continue\n",
    "        g_i_beg = cat_groups[g_i]\n",
    "        g_i_end = cat_groups[g_i + 1]\n",
    "        val_cat = vals[g_i_beg: g_i_end]\n",
    "        bin_i = np.argmax(val_cat)\n",
    "        bin_key.append('cat' + str(g_i) + \":bin\" + str(bin_i))\n",
    "    bin_key = \"--\".join(bin_key)\n",
    "    return bin_key\n",
    "\n",
    "\n",
    "# conditionals of the numerical variables for the Gibbs sampler\n",
    "def calc_full_conditionals_num(args):\n",
    "    var_i, full_cond, data, min_max_num_bin = args\n",
    "    print(\"var_i={}\".format(var_i))\n",
    "    var_name = 'num' + str(var_i)\n",
    "    full_cond[var_name] = {}\n",
    "    for vals in data:\n",
    "        bin_key = get_bin_key(vals, min_max_num_bin, [var_i], None)\n",
    "        if bin_key not in full_cond[var_name]:\n",
    "            full_cond[var_name][bin_key] = []\n",
    "        full_cond[var_name][bin_key].append(vals[var_i])\n",
    "\n",
    "\n",
    "# conditionals of the categorical variables for the Gibbs sampler\n",
    "def calc_full_conditionals_cat(args):\n",
    "    var_g_i, full_cond, data, min_max_num_bin, cat_groups = args\n",
    "    print(\"var_g_i={}\".format(var_g_i))\n",
    "    var_name = 'cat' + str(var_g_i)\n",
    "    full_cond[var_name] = {}\n",
    "    for vals in data:\n",
    "        bin_key = get_bin_key(vals, min_max_num_bin, None, [var_g_i])\n",
    "        if bin_key not in full_cond[var_name]:\n",
    "            full_cond[var_name][bin_key] = []\n",
    "        var_g_i_beg = cat_groups[var_g_i]\n",
    "        var_g_i_end = cat_groups[var_g_i + 1]\n",
    "        full_cond[var_name][bin_key].append(vals[var_g_i_beg: var_g_i_end])\n",
    "        \n",
    "\n",
    "# conditionals for the Gibbs sampler\n",
    "def calc_full_conditionals(data, num_bin):\n",
    "    print(\"caclulating conditional for num_bin={}\".format(num_bin))\n",
    "    # full_cond = {var_name: {bin_key: [vals_of_var_name]}}\n",
    "    full_cond = {}\n",
    "    #\n",
    "    if num_bin in min_max_bins:\n",
    "        min_max_num_bin = min_max_bins[num_bin]\n",
    "    else:\n",
    "        min_max_num_bin = calc_min_max_num_bin(data, num_bin)\n",
    "    for var_i in range(numerical_col_n):\n",
    "        args = (var_i, full_cond, data, min_max_num_bin)\n",
    "        calc_full_conditionals_num(args)\n",
    "    for var_g_i in range(cat_groups_n):\n",
    "        args = (var_g_i, full_cond, data, min_max_num_bin, cat_groups)\n",
    "        calc_full_conditionals_cat(args)\n",
    "    data_space_size = 0\n",
    "    for var_name in full_cond:\n",
    "        data_space_size += len(full_cond[var_name])\n",
    "    print(\"data_space_size =\", data_space_size)\n",
    "    #\n",
    "    return full_cond"
   ]
  },
  {
   "cell_type": "code",
   "execution_count": 88,
   "metadata": {},
   "outputs": [],
   "source": [
    "# compare marginal distributions of the samples\n",
    "# argument data = [samples_vae, samples_test, ...]\n",
    "\n",
    "def check_marginals_numerical(data, num_bin):\n",
    "    print('\\n--- NUMERICAL ---')\n",
    "    col_names_num = df.columns.tolist()[:numerical_col_n]\n",
    "    for col_ind, col_name in enumerate(col_names_num):\n",
    "        print(80*'-')\n",
    "        print(col_name)\n",
    "        d_cols = []\n",
    "        for d in data:\n",
    "            d_col = d[:, col_ind]\n",
    "            if col_name in numerical_int:\n",
    "                d_col = np.around(d_col)\n",
    "                print(\"//int//\")\n",
    "            d_col = np.clip(d_col, \n",
    "                            min_max_bins[num_bin][col_name][0], \n",
    "                            min_max_bins[num_bin][col_name][1])\n",
    "            d_cols.append(d_col)\n",
    "            print(d_col[:10])\n",
    "        title = col_name.split('--')[0]\n",
    "        check_marginals(d_cols, bins=min_max_bins[num_bin][col_name][2], title=title)\n",
    "        print(80*'-')\n",
    "        \n",
    "    \n",
    "def check_marginals_categorical(data):\n",
    "    print('\\n--- CATEGORICAL ---')\n",
    "    col_names = df.columns.tolist()\n",
    "    for g_i in range(cat_groups_n):\n",
    "        g_i_beg = cat_groups[g_i]\n",
    "        g_i_end = cat_groups[g_i + 1]\n",
    "        group_i_names = col_names[g_i_beg: g_i_end]\n",
    "        col_name = '_'.join(col_names[g_i_beg].split('_')[:-1])\n",
    "        print(80*'-')\n",
    "        print(col_name, len(group_i_names))\n",
    "        d_cols = []\n",
    "        for d in data:\n",
    "            d_col = d[:, g_i_beg:g_i_end]\n",
    "            d_col = np.argmax(d_col, axis=1)\n",
    "            d_cols.append(d_col)\n",
    "            print(d_col[:10])\n",
    "        title = col_name.split('--')[0]\n",
    "        check_marginals(d_cols, title=title)\n",
    "        print(80*'-')"
   ]
  },
  {
   "cell_type": "code",
   "execution_count": 89,
   "metadata": {},
   "outputs": [],
   "source": [
    "# finding nearest samples for the diversity test\n",
    "\n",
    "from sklearn.neighbors import BallTree\n",
    "\n",
    "def get_k_nearest_samples_dist(data_test, data_pred, k, N, var_is_ignore, var_g_is_ignore):\n",
    "    cols_to_use = []\n",
    "    for col_i in range(numerical_col_n + categorical_col_n):\n",
    "        add_col = True\n",
    "        if var_is_ignore is not None and col_i in var_is_ignore: \n",
    "            add_col = False\n",
    "        if var_g_is_ignore is not None:\n",
    "            for g_i in var_g_is_ignore:\n",
    "                if cat_groups[g_i] <= col_i < cat_groups[g_i + 1]:\n",
    "                    add_col = False\n",
    "        if add_col:\n",
    "            cols_to_use.append(col_i)\n",
    "    #\n",
    "    tree = BallTree(data_test[:, cols_to_use], leaf_size=k)\n",
    "    dist_all = []\n",
    "    data_ind = np.arange(len(data_pred))\n",
    "    np.random.shuffle(data_ind)\n",
    "    data_ind = data_ind[:N]\n",
    "    for i in data_ind:\n",
    "        sample_pred = data_pred[i, cols_to_use]\n",
    "        dist, ind = tree.query([sample_pred], k=k)\n",
    "        dist[0] /= np.sqrt(len(cols_to_use))\n",
    "        dist_all += dist[0].tolist()\n",
    "    return np.array(dist_all), data_ind"
   ]
  },
  {
   "cell_type": "code",
   "execution_count": 90,
   "metadata": {},
   "outputs": [],
   "source": [
    "# calculate data for the plots of models' performance (used in the plot_res function)\n",
    "def get_perform_plot_data(stat, bin_n_comparisons, samples_keys, sort=False):\n",
    "    errors, diversity_1, diversity_2, xticks = {}, {}, {}, {}\n",
    "    x = range(len(samples_keys))\n",
    "    for bin_n_c in bin_n_comparisons:\n",
    "        print(80 * \"-\")\n",
    "        print(\"bin_n_comparison =\", bin_n_c)\n",
    "        errors[bin_n_c] = [stat[bin_n_c][k]['joint_pdf'][error_measure] \n",
    "                           for k in samples_keys]\n",
    "        diversity_1[bin_n_c] = [stat[bin_n_c][k]['nearest_samples_dist'][diversity_measure_1]\n",
    "                                for k in samples_keys]\n",
    "        diversity_2[bin_n_c] = [stat[bin_n_c][k]['nearest_samples_dist'][diversity_measure_2]\n",
    "                                for k in samples_keys]\n",
    "        #\n",
    "        if sort:\n",
    "            errors_sorted = list(enumerate(errors[bin_n_c]))\n",
    "            errors_sorted = sorted(errors_sorted, key=lambda x: x[1], reverse=True)\n",
    "            ind = [x[0] for x in errors_sorted]\n",
    "            errors[bin_n_c] = [errors[bin_n_c][i] for i in ind]\n",
    "            diversity_1[bin_n_c] = [diversity_1[bin_n_c][i] for i in ind]\n",
    "            diversity_2[bin_n_c] = [diversity_2[bin_n_c][i] for i in ind]\n",
    "            xticks[bin_n_c] = [samples_keys[i] for i in ind]\n",
    "        else:\n",
    "            xticks[bin_n_c] = samples_keys\n",
    "        #\n",
    "        plot_res(x, errors[bin_n_c], xticks=xticks[bin_n_c],\n",
    "                 **error_plot_params[error_measure])\n",
    "        plot_res(x, diversity_1[bin_n_c], xticks=xticks[bin_n_c], \n",
    "                 **diversity_plot_params[diversity_measure_1])\n",
    "        plot_res(x, diversity_2[bin_n_c], xticks=xticks[bin_n_c], \n",
    "                 **diversity_plot_params[diversity_measure_2])\n",
    "        print(80 * \"-\")\n",
    "    return errors, diversity_1, diversity_2, xticks\n",
    "\n",
    "\n",
    "# plot performance of the models\n",
    "def plot_res(x, y, ylim=None, color=None, ylabel=None, xticks=None, \n",
    "             h_lines=None, h_labels=None, title=None):\n",
    "    figsize = (18, 9)\n",
    "    #linestyles = ['--', '-.', ':', '-']\n",
    "    linestyles = [\n",
    "        (0, ()),\n",
    "        (0, (1, 10)),\n",
    "        (0, (1, 1)),\n",
    "        (0, (5, 5)),\n",
    "        (0, (3, 5, 1, 5)),\n",
    "        (0, (3, 5, 1, 5, 1, 5)),\n",
    "    ]\n",
    "    \"\"\"\n",
    "    linestyles = OrderedDict(\n",
    "    [('solid',               (0, ())),\n",
    "     ('loosely dotted',      (0, (1, 10))),\n",
    "     ('dotted',              (0, (1, 5))),\n",
    "     ('densely dotted',      (0, (1, 1))),\n",
    "\n",
    "     ('loosely dashed',      (0, (5, 10))),\n",
    "     ('dashed',              (0, (5, 5))),\n",
    "     ('densely dashed',      (0, (5, 1))),\n",
    "\n",
    "     ('loosely dashdotted',  (0, (3, 10, 1, 10))),\n",
    "     ('dashdotted',          (0, (3, 5, 1, 5))),\n",
    "     ('densely dashdotted',  (0, (3, 1, 1, 1))),\n",
    "\n",
    "     ('loosely dashdotdotted', (0, (3, 10, 1, 10, 1, 10))),\n",
    "     ('dashdotdotted',         (0, (3, 5, 1, 5, 1, 5))),\n",
    "     ('densely dashdotdotted', (0, (3, 1, 1, 1, 1, 1)))])\n",
    "    \"\"\"\n",
    "    fig, ax = plt.subplots(figsize=figsize)\n",
    "    if xticks is not None:\n",
    "        plt.xticks(x, xticks, rotation='vertical')\n",
    "    ax.set_ylabel(ylabel, color=color)\n",
    "    ax.plot(x, y, color=color)\n",
    "    ax.plot(x, y, 'o', color=color)\n",
    "    #\n",
    "    text = []\n",
    "    text.append('model min = {}'.format(min(y)))\n",
    "    #\n",
    "    if h_lines is not None:\n",
    "        for i, line_y in enumerate(h_lines):\n",
    "            if ylim[0] <= line_y <= ylim[1]:\n",
    "                ax.axhline(line_y, ls=linestyles[i], color=color)\n",
    "                if h_labels is not None:\n",
    "                    ax.text(0.0, line_y + (ylim[1] - ylim[0]) / 250, h_labels[i], color=color)\n",
    "            text.append('{} = {:.3f}'.format(h_labels[i], line_y))\n",
    "    #\n",
    "    text = '\\n'.join(text)\n",
    "    ax.text(0.0, ylim[1], text, color=color)\n",
    "    print(text)\n",
    "    #\n",
    "    ax.tick_params(axis='y', labelcolor=color)\n",
    "    ax.set_ylim(ylim)\n",
    "    ax.set_title(title)\n",
    "    #\n",
    "    #fig.savefig('{}.pdf'.format(ylabel), dpi=fig.dpi)\n",
    "    plt.show()"
   ]
  },
  {
   "cell_type": "code",
   "execution_count": 105,
   "metadata": {},
   "outputs": [],
   "source": [
    "# calculate performance of the models + caching\n",
    "def get_stat(samples_true, samples_pred, samples_train, bin_n_comparisons, \n",
    "             samples_true_cache_dir, samples_pred_cache_dir,\n",
    "             var_is_ignore=None, var_g_is_ignore=None):\n",
    "    tree_k = 1\n",
    "    stat = {}\n",
    "    N = len(bin_n_comparisons) * len(samples_pred)\n",
    "    i = 0\n",
    "    if not os.path.exists(samples_true_cache_dir): \n",
    "        os.makedirs(samples_true_cache_dir)\n",
    "    cache_filename = 'freq_cache_file'\n",
    "    cache_filename += '--' + 'var_is_ignore=' + str(var_is_ignore)\n",
    "    cache_filename += '--' + 'var_g_is_ignore=' + str(var_g_is_ignore)\n",
    "    if len(cache_filename) > 255:\n",
    "        cache_filename = cache_filename.replace(' ', '')\n",
    "    #\n",
    "    for bin_n_c in bin_n_comparisons:\n",
    "        #\n",
    "        data_test_freq_cache_file = os.path.join(samples_true_cache_dir, cache_filename \n",
    "                                                 + '--' + 'bin_n_c=' + str(bin_n_c) \n",
    "                                                 + '--' + file_suffix + '.pickle')\n",
    "        print(data_test_freq_cache_file)\n",
    "        #\n",
    "        min_max_num_bin = get_min_max_num_bin(data_test, data_train, bin_n_c)\n",
    "        \n",
    "        \n",
    "        \n",
    "        \n",
    "        \n",
    "        data_test_freq = get_data_freq(data_test, min_max_num_bin, \n",
    "                                       var_is_ignore, var_g_is_ignore,\n",
    "                                       data_test_freq_cache_file)\n",
    "        stat[bin_n_c] = {}\n",
    "        for k in samples_pred:\n",
    "            print(80 * '+')\n",
    "            print(\"bin_n_c =\", bin_n_c)\n",
    "            print(\"samples:\", k)\n",
    "            i += 1\n",
    "            print(\"Calculating {} out of {}\".format(i, N))\n",
    "            #\n",
    "            if np.isnan(samples_pred[k]).any():\n",
    "                print(\"!!! nan in samples_pred !!!\")\n",
    "                samples_pred[k] = np.nan_to_num(samples_pred[k])\n",
    "            #\n",
    "            if '.' in k:\n",
    "                samples_pred_cache_dir_ = os.path.join(samples_pred_cache_dir, \n",
    "                                                       \",\".join(k.split('.')[:-1]))\n",
    "            else:\n",
    "                samples_pred_cache_dir_ = os.path.join(samples_pred_cache_dir, k)\n",
    "            if not os.path.exists(samples_pred_cache_dir_): \n",
    "                os.makedirs(samples_pred_cache_dir_)\n",
    "            #print(k, samples_pred_cache_dir_)\n",
    "            data_pred_freq_cache_file = os.path.join(samples_pred_cache_dir_, cache_filename \n",
    "                                                     + '--' + 'bin_n_c=' + str(bin_n_c) \n",
    "                                                     + '--' + file_suffix + '.pickle')\n",
    "            #\n",
    "            stat[bin_n_c][k] = {}\n",
    "            start = time.time()\n",
    "            stat[bin_n_c][k]['joint_pdf'] = compare_joints_bins(samples_true, samples_pred[k], bin_n_c\n",
    "                                                   , data_test_freq, min_max_num_bin,\n",
    "                                                    var_is_ignore, var_g_is_ignore,\n",
    "                                                    data_test_freq_cache_file, data_pred_freq_cache_file\n",
    "                                                  )\n",
    "            duration = time.time() - start\n",
    "            print(\"Took {} seconds to compare_joints_bins\".format(duration))\n",
    "            nearest_samples_dist_filename = 'nearest_samples_dist--'\\\n",
    "                                                     + 'samples_train--'\\\n",
    "                                                     + cache_filename\\\n",
    "                                                     + '--' + file_suffix + '.pickle'\n",
    "            nearest_samples_ind_filename = 'nearest_samples_ind--'\\\n",
    "                                                     + 'samples_train--'\\\n",
    "                                                     + cache_filename\\\n",
    "                                                     + '--' + file_suffix + '.pickle'\n",
    "            if len(nearest_samples_dist_filename) > 255:\n",
    "                nearest_samples_dist_filename = nearest_samples_dist_filename.replace(' ', '')\n",
    "            if len(nearest_samples_ind_filename) > 255:\n",
    "                nearest_samples_ind_filename = nearest_samples_ind_filename.replace(' ', '')\n",
    "            nearest_samples_dist_file = os.path.join(samples_pred_cache_dir_, \n",
    "                                                     nearest_samples_dist_filename)\n",
    "            nearest_samples_ind_file = os.path.join(samples_pred_cache_dir_, \n",
    "                                                     nearest_samples_ind_filename)\n",
    "            is_nearest_samples_dist_file = os.path.isfile(nearest_samples_dist_file)\n",
    "            is_nearest_samples_ind_file = os.path.isfile(nearest_samples_ind_file)\n",
    "            if is_nearest_samples_dist_file and is_nearest_samples_ind_file:\n",
    "                with open(nearest_samples_dist_file, 'rb') as f:\n",
    "                    nearest_samples_dist = pickle.load(f)\n",
    "                print(\"nearest_samples_dist loaded from file:\", nearest_samples_dist_file)\n",
    "                with open(nearest_samples_ind_file, 'rb') as f:\n",
    "                    nearest_samples_ind = pickle.load(f)\n",
    "                print(\"nearest_samples_ind loaded from file:\", nearest_samples_ind_file)\n",
    "            else:\n",
    "                start = time.time()\n",
    "                nearest_samples_dist, nearest_samples_ind = get_k_nearest_samples_dist(samples_train, \n",
    "                        samples_pred[k], tree_k, len(samples_train), var_is_ignore, var_g_is_ignore)\n",
    "                duration = time.time() - start\n",
    "                print(\"Took {} seconds to get_k_nearest_samples_dist\".format(duration))\n",
    "                with open(nearest_samples_dist_file, 'wb') as f:\n",
    "                    pickle.dump(nearest_samples_dist, f)\n",
    "                print(\"nearest_samples_dist saved to file:\", nearest_samples_dist_file)\n",
    "                with open(nearest_samples_ind_file, 'wb') as f:\n",
    "                    pickle.dump(nearest_samples_ind, f)\n",
    "                print(\"nearest_samples_ind saved to file:\", nearest_samples_ind_file)\n",
    "            \n",
    "            # calc errors / diversity\n",
    "            stat[bin_n_c][k]['nearest_samples_dist'] = {}\n",
    "            stat[bin_n_c][k]['nearest_samples_dist']['mean'] = nearest_samples_dist.mean()\n",
    "            stat[bin_n_c][k]['nearest_samples_dist']['stddev'] = nearest_samples_dist.std()\n",
    "            stat[bin_n_c][k]['nearest_samples_dist']['frac0'] = \\\n",
    "                np.count_nonzero(nearest_samples_dist == 0) / len(nearest_samples_dist)\n",
    "            #\n",
    "            stat[bin_n_c][k]['nearest_samples_dist']['dist'] = nearest_samples_dist\n",
    "            stat[bin_n_c][k]['nearest_samples_dist']['ind'] = nearest_samples_ind\n",
    "            #\n",
    "            print('nearest_samples_dist =', stat[bin_n_c][k]['nearest_samples_dist'])\n",
    "            print(80 * '+')\n",
    "    return stat"
   ]
  },
  {
   "cell_type": "code",
   "execution_count": 106,
   "metadata": {},
   "outputs": [],
   "source": [
    "# calculate attribute column ids to ignore during comparison of the models\n",
    "# e.g. ignore all attributes except for the Basic\n",
    "def get_columns_to_ignore(selected_columns):\n",
    "    col_names = df.columns.tolist()\n",
    "    #print(len(col_names), col_names)\n",
    "    #print(cat_groups_n, cat_groups)\n",
    "    var_is_ignore, var_g_is_ignore = [], []\n",
    "    for col_i, col_name in enumerate(col_names):\n",
    "        ignore_column = True\n",
    "        for col_name_selected in selected_columns:\n",
    "            if col_name_selected == col_name.split(\"_\")[0]:\n",
    "                ignore_column = False\n",
    "                break\n",
    "        if ignore_column:\n",
    "            if col_i in numerical_col:\n",
    "                var_is_ignore.append(col_i)\n",
    "            else:\n",
    "                var_g_i = -1\n",
    "                for g_i, upper_limit in enumerate(cat_groups):\n",
    "                    #print(col_i, upper_limit)\n",
    "                    if col_i < upper_limit:\n",
    "                        var_g_i = g_i - 1\n",
    "                        break\n",
    "                var_g_is_ignore.append(var_g_i)\n",
    "    var_g_is_ignore = list(set(var_g_is_ignore))\n",
    "    return var_is_ignore, var_g_is_ignore"
   ]
  },
  {
   "cell_type": "markdown",
   "metadata": {},
   "source": [
    "# Performance measure parameters"
   ]
  },
  {
   "cell_type": "code",
   "execution_count": 107,
   "metadata": {},
   "outputs": [
    {
     "name": "stdout",
     "output_type": "stream",
     "text": [
      "['centreid', 'age', 'x', 'y', 'gender', 'hascar', 'ethnicity', 'income', 'distcentre', 'distpt', 'hhpeople', 'density']\n"
     ]
    }
   ],
   "source": [
    "# compare numercal distributions using 1) scheme_1 in min_max_bins, 2) 10 uniform bins\n",
    "bin_n_comparisons = ['scheme_1', 10]\n",
    "error_measure = 'srmse'\n",
    "diversity_measure_1 = 'mean'\n",
    "diversity_measure_2 = 'stddev'\n",
    "samples_true_cache_dir = os.path.join(model_cache_dir, 'data_test')\n",
    "samples_train_cache_dir = os.path.join(model_cache_dir, 'data_train')\n",
    "#\n",
    "error_plot_params = {\n",
    "    'srmse': {\n",
    "        'ylabel': 'srmse',\n",
    "        'ylim': (0, 5),\n",
    "        #'color': 'tab:red',\n",
    "        'color': 'k',\n",
    "        'title': 'real vs synthetic samples: joint pdf comparison'\n",
    "    },\n",
    "    'r2': {\n",
    "        'ylabel': 'r2',\n",
    "        'ylim': (-5, 1.1),\n",
    "        #'color': 'tab:red',\n",
    "        'color': 'k',\n",
    "        'title': 'real vs synthetic samples: joint pdf comparison'\n",
    "    },\n",
    "    'corr': {\n",
    "        'ylabel': 'corr',\n",
    "        'ylim': (0, 1.1),\n",
    "        #'color': 'tab:red',\n",
    "        'color': 'k',\n",
    "        'title': 'real vs synthetic samples: joint pdf comparison'\n",
    "    }\n",
    "}\n",
    "diversity_plot_params = {\n",
    "    'mean': {\n",
    "        'ylabel': 'mean',\n",
    "        'ylim': (0, 0.15),\n",
    "        #'color': 'tab:blue',\n",
    "        'color': 'k',\n",
    "        'title': 'distance to the closest sample in the training data'\n",
    "    },\n",
    "    'stddev': {\n",
    "        'ylabel': 'stddev',\n",
    "        'ylim': (0, 0.2),\n",
    "        #'color': 'tab:green',\n",
    "        'color': 'k',\n",
    "        'title': 'distance to the closest sample in the training data'\n",
    "    },\n",
    "    'frac0': {\n",
    "        'ylabel': 'fraction of 0',\n",
    "        'ylim': (0, 1.1),\n",
    "        #'color': 'tab:blue',\n",
    "        'color': 'k',\n",
    "        'title': 'distance to the closest sample in the training data'\n",
    "    }\n",
    "}\n",
    "# compare subset of features for high-dimensional cases. The rest will be ignored\n",
    "selected_columns = categorical + numerical\n",
    "#\n",
    "selected_columns = list(set(selected_columns))\n",
    "var_is_ignore, var_g_is_ignore = get_columns_to_ignore(selected_columns)\n",
    "if not var_is_ignore:\n",
    "    var_is_ignore = None\n",
    "else:\n",
    "    print(len(var_is_ignore), var_is_ignore)\n",
    "if not var_g_is_ignore:\n",
    "    var_g_is_ignore = None\n",
    "else:\n",
    "    print(len(var_g_is_ignore), var_g_is_ignore)\n",
    "print(selected_columns)"
   ]
  },
  {
   "cell_type": "markdown",
   "metadata": {},
   "source": [
    "# Train vs test: performance of the micro sample"
   ]
  },
  {
   "cell_type": "code",
   "execution_count": 108,
   "metadata": {
    "scrolled": true
   },
   "outputs": [],
   "source": [
    "samples_train_keys =[\"data_train\"]\n",
    "samples_pred_cache_dir = os.path.join(model_cache_dir, 'data_train')"
   ]
  },
  {
   "cell_type": "code",
   "execution_count": 109,
   "metadata": {
    "scrolled": false
   },
   "outputs": [
    {
     "name": "stdout",
     "output_type": "stream",
     "text": [
      "model_cache/data_test/freq_cache_file--var_is_ignore=None--var_g_is_ignore=None--bin_n_c=scheme_1--0.pickle\n",
      "model_cache/data_test/freq_cache_file--var_is_ignore=None--var_g_is_ignore=None--bin_n_c=scheme_1--0.pickle\n",
      "data_freq loaded from file: model_cache/data_test/freq_cache_file--var_is_ignore=None--var_g_is_ignore=None--bin_n_c=scheme_1--0.pickle\n",
      "++++++++++++++++++++++++++++++++++++++++++++++++++++++++++++++++++++++++++++++++\n",
      "bin_n_c = scheme_1\n",
      "samples: data_train\n",
      "Calculating 1 out of 2\n",
      "model_cache/data_train/data_train/freq_cache_file--var_is_ignore=None--var_g_is_ignore=None--bin_n_c=scheme_1--0.pickle\n",
      "data_freq loaded from file: model_cache/data_train/data_train/freq_cache_file--var_is_ignore=None--var_g_is_ignore=None--bin_n_c=scheme_1--0.pickle\n",
      "--------------------------------------------------------------------------------\n",
      "numerical var bins_n = scheme_1\n",
      "corr = -0.985204\n",
      "MAE = 0.000197\n",
      "RMSE = 0.000246\n",
      "SRMSE = 2.493010\n",
      "r2 = -23.611096\n"
     ]
    },
    {
     "name": "stderr",
     "output_type": "stream",
     "text": [
      "/Users/fredshone/tensorflow/lib/python3.6/site-packages/matplotlib/figure.py:2022: UserWarning: This figure includes Axes that are not compatible with tight_layout, so results might be incorrect.\n",
      "  warnings.warn(\"This figure includes Axes that are not compatible \"\n"
     ]
    },
    {
     "data": {
      "image/png": "[encoded data removed]",
      "text/plain": [
       "<matplotlib.figure.Figure at 0x137e15e48>"
      ]
     },
     "metadata": {},
     "output_type": "display_data"
    },
    {
     "name": "stdout",
     "output_type": "stream",
     "text": [
      "data_space_size = 10151\n",
      "{'mae': 0.00019656616463943472, 'rmse': 0.0002455925172485509, 'r2': -23.61109570160385, 'srmse': 2.49300964259004, 'corr': -0.985203561166786}\n",
      "--------------------------------------------------------------------------------\n",
      "Took 0.28441715240478516 seconds to compare_joints_bins\n",
      "nearest_samples_dist loaded from file: model_cache/data_train/data_train/nearest_samples_dist--samples_train--freq_cache_file--var_is_ignore=None--var_g_is_ignore=None--0.pickle\n",
      "nearest_samples_ind loaded from file: model_cache/data_train/data_train/nearest_samples_ind--samples_train--freq_cache_file--var_is_ignore=None--var_g_is_ignore=None--0.pickle\n",
      "nearest_samples_dist = {'mean': 2.210974260643268, 'stddev': 2.0752819715715867, 'frac0': 0.0, 'dist': array([ 2.5704478 ,  1.43267312,  2.00107424, ..., 10.79046686,\n",
      "        0.65295013,  2.16443652]), 'ind': array([1880,  954,  998, ..., 1304,  817,  140])}\n",
      "++++++++++++++++++++++++++++++++++++++++++++++++++++++++++++++++++++++++++++++++\n",
      "model_cache/data_test/freq_cache_file--var_is_ignore=None--var_g_is_ignore=None--bin_n_c=10--0.pickle\n",
      "model_cache/data_test/freq_cache_file--var_is_ignore=None--var_g_is_ignore=None--bin_n_c=10--0.pickle\n",
      "calc_data_freq started\n",
      "Took 0.9235069751739502 seconds to calc_data_freq\n",
      "data_freq saved to file: model_cache/data_test/freq_cache_file--var_is_ignore=None--var_g_is_ignore=None--bin_n_c=10--0.pickle\n",
      "++++++++++++++++++++++++++++++++++++++++++++++++++++++++++++++++++++++++++++++++\n",
      "bin_n_c = 10\n",
      "samples: data_train\n",
      "Calculating 2 out of 2\n",
      "model_cache/data_train/data_train/freq_cache_file--var_is_ignore=None--var_g_is_ignore=None--bin_n_c=10--0.pickle\n",
      "calc_data_freq started\n",
      "Took 0.27336716651916504 seconds to calc_data_freq\n",
      "data_freq saved to file: model_cache/data_train/data_train/freq_cache_file--var_is_ignore=None--var_g_is_ignore=None--bin_n_c=10--0.pickle\n",
      "--------------------------------------------------------------------------------\n",
      "numerical var bins_n = 10\n",
      "corr = -0.992699\n",
      "MAE = 0.000196\n",
      "RMSE = 0.000245\n",
      "SRMSE = 2.495465\n",
      "r2 = -23.776789\n"
     ]
    },
    {
     "data": {
      "image/png": "[encoded data removed]",
      "text/plain": [
       "<matplotlib.figure.Figure at 0x13512e5f8>"
      ]
     },
     "metadata": {},
     "output_type": "display_data"
    },
    {
     "name": "stdout",
     "output_type": "stream",
     "text": [
      "data_space_size = 10176\n",
      "{'mae': 0.00019630002158095943, 'rmse': 0.00024523047584238983, 'r2': -23.776788582442293, 'srmse': 2.495465322172159, 'corr': -0.9926989845105415}\n",
      "--------------------------------------------------------------------------------\n",
      "Took 0.6359601020812988 seconds to compare_joints_bins\n",
      "nearest_samples_dist loaded from file: model_cache/data_train/data_train/nearest_samples_dist--samples_train--freq_cache_file--var_is_ignore=None--var_g_is_ignore=None--0.pickle\n",
      "nearest_samples_ind loaded from file: model_cache/data_train/data_train/nearest_samples_ind--samples_train--freq_cache_file--var_is_ignore=None--var_g_is_ignore=None--0.pickle\n",
      "nearest_samples_dist = {'mean': 2.210974260643268, 'stddev': 2.0752819715715867, 'frac0': 0.0, 'dist': array([ 2.5704478 ,  1.43267312,  2.00107424, ..., 10.79046686,\n",
      "        0.65295013,  2.16443652]), 'ind': array([1880,  954,  998, ..., 1304,  817,  140])}\n",
      "++++++++++++++++++++++++++++++++++++++++++++++++++++++++++++++++++++++++++++++++\n"
     ]
    }
   ],
   "source": [
    "# performance for all atributes\n",
    "stat_train = get_stat(data_test, {samples_train_keys[0]: data_train},\n",
    "                      data_test, bin_n_comparisons,\n",
    "                      samples_true_cache_dir, samples_pred_cache_dir,\n",
    "                     )"
   ]
  },
  {
   "cell_type": "code",
   "execution_count": 110,
   "metadata": {
    "scrolled": false
   },
   "outputs": [
    {
     "name": "stdout",
     "output_type": "stream",
     "text": [
      "--------------------------------------------------------------------------------\n",
      "bin_n_comparison = scheme_1\n",
      "model min = 2.49300964259004\n"
     ]
    },
    {
     "name": "stderr",
     "output_type": "stream",
     "text": [
      "/Users/fredshone/tensorflow/lib/python3.6/site-packages/matplotlib/figure.py:2022: UserWarning: This figure includes Axes that are not compatible with tight_layout, so results might be incorrect.\n",
      "  warnings.warn(\"This figure includes Axes that are not compatible \"\n"
     ]
    },
    {
     "data": {
      "image/png": "[encoded data removed]",
      "text/plain": [
       "<matplotlib.figure.Figure at 0x138e8f7f0>"
      ]
     },
     "metadata": {},
     "output_type": "display_data"
    },
    {
     "name": "stdout",
     "output_type": "stream",
     "text": [
      "model min = 2.210974260643268\n"
     ]
    },
    {
     "data": {
      "image/png": "[encoded data removed]",
      "text/plain": [
       "<matplotlib.figure.Figure at 0x138e8f588>"
      ]
     },
     "metadata": {},
     "output_type": "display_data"
    },
    {
     "name": "stdout",
     "output_type": "stream",
     "text": [
      "model min = 2.0752819715715867\n"
     ]
    },
    {
     "data": {
      "image/png": "[encoded data removed]",
      "text/plain": [
       "<matplotlib.figure.Figure at 0x139106f28>"
      ]
     },
     "metadata": {},
     "output_type": "display_data"
    },
    {
     "name": "stdout",
     "output_type": "stream",
     "text": [
      "--------------------------------------------------------------------------------\n",
      "--------------------------------------------------------------------------------\n",
      "bin_n_comparison = 10\n",
      "model min = 2.495465322172159\n"
     ]
    },
    {
     "data": {
      "image/png": "[encoded data removed]",
      "text/plain": [
       "<matplotlib.figure.Figure at 0x137e159e8>"
      ]
     },
     "metadata": {},
     "output_type": "display_data"
    },
    {
     "name": "stdout",
     "output_type": "stream",
     "text": [
      "model min = 2.210974260643268\n"
     ]
    },
    {
     "data": {
      "image/png": "[encoded data removed]",
      "text/plain": [
       "<matplotlib.figure.Figure at 0x1381ff8d0>"
      ]
     },
     "metadata": {},
     "output_type": "display_data"
    },
    {
     "name": "stdout",
     "output_type": "stream",
     "text": [
      "model min = 2.0752819715715867\n"
     ]
    },
    {
     "data": {
      "image/png": "[encoded data removed]",
      "text/plain": [
       "<matplotlib.figure.Figure at 0x138378470>"
      ]
     },
     "metadata": {},
     "output_type": "display_data"
    },
    {
     "name": "stdout",
     "output_type": "stream",
     "text": [
      "--------------------------------------------------------------------------------\n"
     ]
    }
   ],
   "source": [
    "# performance for all atributes\n",
    "(errors_train, \n",
    " diversity_1_train, \n",
    " diversity_2_train,\n",
    " xticks_train) = get_perform_plot_data(stat_train, bin_n_comparisons, samples_train_keys)"
   ]
  },
  {
   "cell_type": "code",
   "execution_count": 111,
   "metadata": {
    "scrolled": false
   },
   "outputs": [
    {
     "name": "stdout",
     "output_type": "stream",
     "text": [
      "model_cache/data_test/freq_cache_file--var_is_ignore=None--var_g_is_ignore=None--bin_n_c=scheme_1--0.pickle\n",
      "model_cache/data_test/freq_cache_file--var_is_ignore=None--var_g_is_ignore=None--bin_n_c=scheme_1--0.pickle\n",
      "data_freq loaded from file: model_cache/data_test/freq_cache_file--var_is_ignore=None--var_g_is_ignore=None--bin_n_c=scheme_1--0.pickle\n",
      "++++++++++++++++++++++++++++++++++++++++++++++++++++++++++++++++++++++++++++++++\n",
      "bin_n_c = scheme_1\n",
      "samples: data_train\n",
      "Calculating 1 out of 2\n",
      "model_cache/data_train/data_train/freq_cache_file--var_is_ignore=None--var_g_is_ignore=None--bin_n_c=scheme_1--0.pickle\n",
      "data_freq loaded from file: model_cache/data_train/data_train/freq_cache_file--var_is_ignore=None--var_g_is_ignore=None--bin_n_c=scheme_1--0.pickle\n",
      "--------------------------------------------------------------------------------\n",
      "numerical var bins_n = scheme_1\n",
      "corr = -0.985204\n",
      "MAE = 0.000197\n",
      "RMSE = 0.000246\n",
      "SRMSE = 2.493010\n",
      "r2 = -23.611096\n"
     ]
    },
    {
     "name": "stderr",
     "output_type": "stream",
     "text": [
      "/Users/fredshone/tensorflow/lib/python3.6/site-packages/matplotlib/figure.py:2022: UserWarning: This figure includes Axes that are not compatible with tight_layout, so results might be incorrect.\n",
      "  warnings.warn(\"This figure includes Axes that are not compatible \"\n"
     ]
    },
    {
     "data": {
      "image/png": "[encoded data removed]",
      "text/plain": [
       "<matplotlib.figure.Figure at 0x174da8358>"
      ]
     },
     "metadata": {},
     "output_type": "display_data"
    },
    {
     "name": "stdout",
     "output_type": "stream",
     "text": [
      "data_space_size = 10151\n",
      "{'mae': 0.00019656616463943472, 'rmse': 0.0002455925172485509, 'r2': -23.61109570160385, 'srmse': 2.49300964259004, 'corr': -0.985203561166786}\n",
      "--------------------------------------------------------------------------------\n",
      "Took 0.29723501205444336 seconds to compare_joints_bins\n",
      "nearest_samples_dist loaded from file: model_cache/data_train/data_train/nearest_samples_dist--samples_train--freq_cache_file--var_is_ignore=None--var_g_is_ignore=None--0.pickle\n",
      "nearest_samples_ind loaded from file: model_cache/data_train/data_train/nearest_samples_ind--samples_train--freq_cache_file--var_is_ignore=None--var_g_is_ignore=None--0.pickle\n",
      "nearest_samples_dist = {'mean': 2.210974260643268, 'stddev': 2.0752819715715867, 'frac0': 0.0, 'dist': array([ 2.5704478 ,  1.43267312,  2.00107424, ..., 10.79046686,\n",
      "        0.65295013,  2.16443652]), 'ind': array([1880,  954,  998, ..., 1304,  817,  140])}\n",
      "++++++++++++++++++++++++++++++++++++++++++++++++++++++++++++++++++++++++++++++++\n",
      "model_cache/data_test/freq_cache_file--var_is_ignore=None--var_g_is_ignore=None--bin_n_c=10--0.pickle\n",
      "model_cache/data_test/freq_cache_file--var_is_ignore=None--var_g_is_ignore=None--bin_n_c=10--0.pickle\n",
      "data_freq loaded from file: model_cache/data_test/freq_cache_file--var_is_ignore=None--var_g_is_ignore=None--bin_n_c=10--0.pickle\n",
      "++++++++++++++++++++++++++++++++++++++++++++++++++++++++++++++++++++++++++++++++\n",
      "bin_n_c = 10\n",
      "samples: data_train\n",
      "Calculating 2 out of 2\n",
      "model_cache/data_train/data_train/freq_cache_file--var_is_ignore=None--var_g_is_ignore=None--bin_n_c=10--0.pickle\n",
      "data_freq loaded from file: model_cache/data_train/data_train/freq_cache_file--var_is_ignore=None--var_g_is_ignore=None--bin_n_c=10--0.pickle\n",
      "--------------------------------------------------------------------------------\n",
      "numerical var bins_n = 10\n",
      "corr = -0.992699\n",
      "MAE = 0.000196\n",
      "RMSE = 0.000245\n",
      "SRMSE = 2.495465\n",
      "r2 = -23.776789\n"
     ]
    },
    {
     "data": {
      "image/png": "[encoded data removed]",
      "text/plain": [
       "<matplotlib.figure.Figure at 0x138335860>"
      ]
     },
     "metadata": {},
     "output_type": "display_data"
    },
    {
     "name": "stdout",
     "output_type": "stream",
     "text": [
      "data_space_size = 10176\n",
      "{'mae': 0.00019630002158095943, 'rmse': 0.00024523047584238983, 'r2': -23.776788582442293, 'srmse': 2.495465322172159, 'corr': -0.9926989845105415}\n",
      "--------------------------------------------------------------------------------\n",
      "Took 0.26718688011169434 seconds to compare_joints_bins\n",
      "nearest_samples_dist loaded from file: model_cache/data_train/data_train/nearest_samples_dist--samples_train--freq_cache_file--var_is_ignore=None--var_g_is_ignore=None--0.pickle\n",
      "nearest_samples_ind loaded from file: model_cache/data_train/data_train/nearest_samples_ind--samples_train--freq_cache_file--var_is_ignore=None--var_g_is_ignore=None--0.pickle\n",
      "nearest_samples_dist = {'mean': 2.210974260643268, 'stddev': 2.0752819715715867, 'frac0': 0.0, 'dist': array([ 2.5704478 ,  1.43267312,  2.00107424, ..., 10.79046686,\n",
      "        0.65295013,  2.16443652]), 'ind': array([1880,  954,  998, ..., 1304,  817,  140])}\n",
      "++++++++++++++++++++++++++++++++++++++++++++++++++++++++++++++++++++++++++++++++\n"
     ]
    }
   ],
   "source": [
    "# performance for the selected atributes\n",
    "stat_train_selected = get_stat(data_test, {samples_train_keys[0]: data_train}, \n",
    "                               data_test, bin_n_comparisons, \n",
    "                               samples_true_cache_dir, samples_pred_cache_dir,\n",
    "                               var_is_ignore, var_g_is_ignore)"
   ]
  },
  {
   "cell_type": "code",
   "execution_count": 112,
   "metadata": {
    "scrolled": false
   },
   "outputs": [
    {
     "name": "stdout",
     "output_type": "stream",
     "text": [
      "--------------------------------------------------------------------------------\n",
      "bin_n_comparison = scheme_1\n",
      "model min = 2.49300964259004\n"
     ]
    },
    {
     "name": "stderr",
     "output_type": "stream",
     "text": [
      "/Users/fredshone/tensorflow/lib/python3.6/site-packages/matplotlib/figure.py:2022: UserWarning: This figure includes Axes that are not compatible with tight_layout, so results might be incorrect.\n",
      "  warnings.warn(\"This figure includes Axes that are not compatible \"\n"
     ]
    },
    {
     "data": {
      "image/png": "[encoded data removed]",
      "text/plain": [
       "<matplotlib.figure.Figure at 0x13856e8d0>"
      ]
     },
     "metadata": {},
     "output_type": "display_data"
    },
    {
     "name": "stdout",
     "output_type": "stream",
     "text": [
      "model min = 2.210974260643268\n"
     ]
    },
    {
     "data": {
      "image/png": "[encoded data removed]",
      "text/plain": [
       "<matplotlib.figure.Figure at 0x1360465f8>"
      ]
     },
     "metadata": {},
     "output_type": "display_data"
    },
    {
     "name": "stdout",
     "output_type": "stream",
     "text": [
      "model min = 2.0752819715715867\n"
     ]
    },
    {
     "data": {
      "image/png": "[encoded data removed]",
      "text/plain": [
       "<matplotlib.figure.Figure at 0x18e494470>"
      ]
     },
     "metadata": {},
     "output_type": "display_data"
    },
    {
     "name": "stdout",
     "output_type": "stream",
     "text": [
      "--------------------------------------------------------------------------------\n",
      "--------------------------------------------------------------------------------\n",
      "bin_n_comparison = 10\n",
      "model min = 2.495465322172159\n"
     ]
    },
    {
     "data": {
      "image/png": "[encoded data removed]",
      "text/plain": [
       "<matplotlib.figure.Figure at 0x173b85278>"
      ]
     },
     "metadata": {},
     "output_type": "display_data"
    },
    {
     "name": "stdout",
     "output_type": "stream",
     "text": [
      "model min = 2.210974260643268\n"
     ]
    },
    {
     "data": {
      "image/png": "[encoded data removed]",
      "text/plain": [
       "<matplotlib.figure.Figure at 0x138e65518>"
      ]
     },
     "metadata": {},
     "output_type": "display_data"
    },
    {
     "name": "stdout",
     "output_type": "stream",
     "text": [
      "model min = 2.0752819715715867\n"
     ]
    },
    {
     "data": {
      "image/png": "[encoded data removed]",
      "text/plain": [
       "<matplotlib.figure.Figure at 0x13a3b5630>"
      ]
     },
     "metadata": {},
     "output_type": "display_data"
    },
    {
     "name": "stdout",
     "output_type": "stream",
     "text": [
      "--------------------------------------------------------------------------------\n"
     ]
    }
   ],
   "source": [
    "# performance for the selected atributes\n",
    "(errors_train_selected, \n",
    " diversity_1_train_selected, \n",
    " diversity_2_train_selected,\n",
    " xticks_train_selected) = get_perform_plot_data(stat_train_selected, \n",
    "                                            bin_n_comparisons, \n",
    "                                            samples_train_keys)"
   ]
  },
  {
   "cell_type": "markdown",
   "metadata": {},
   "source": [
    "# VAE"
   ]
  },
  {
   "cell_type": "code",
   "execution_count": 113,
   "metadata": {},
   "outputs": [],
   "source": [
    "import numpy as np\n",
    "import matplotlib.pyplot as plt\n",
    "from scipy.stats import norm\n",
    "from keras.layers import Input, Dense, Lambda, Layer, Reshape, BatchNormalization, Flatten, Concatenate\n",
    "from keras.models import Model\n",
    "from keras import backend as K\n",
    "from keras import metrics, losses\n",
    "from keras import optimizers\n",
    "from sklearn.preprocessing import StandardScaler"
   ]
  },
  {
   "cell_type": "code",
   "execution_count": 114,
   "metadata": {},
   "outputs": [],
   "source": [
    "# updatable plot for the training\n",
    "\n",
    "from IPython.display import clear_output\n",
    "\n",
    "class PlotLosses(keras.callbacks.Callback):\n",
    "    def on_train_begin(self, logs={}):\n",
    "        self.i = 0\n",
    "        self.x = []\n",
    "        self.losses = []\n",
    "        self.val_losses = []        \n",
    "        self.fig = plt.figure()        \n",
    "        self.logs = []\n",
    "\n",
    "    def on_epoch_end(self, epoch, logs={}):\n",
    "        m1, m2 = 'loss', 'val_loss'\n",
    "        self.logs.append(logs)\n",
    "        self.x.append(self.i)\n",
    "        self.losses.append(logs.get(m1))\n",
    "        self.val_losses.append(logs.get(m2))\n",
    "        self.i += 1\n",
    "        clear_output(wait=True)\n",
    "        plt.plot(self.x, self.losses, label=m1)\n",
    "        plt.plot(self.x, self.val_losses, label=m2)\n",
    "        plt.legend()\n",
    "        plt.show();\n",
    "        \n",
    "plot_learning = PlotLosses()"
   ]
  },
  {
   "cell_type": "code",
   "execution_count": 119,
   "metadata": {},
   "outputs": [
    {
     "name": "stdout",
     "output_type": "stream",
     "text": [
      "[1.0]\n",
      "[0.01, 0.05, 0.1, 0.5, 1.0, 10.0, 100.0]\n",
      "[5, 10, 25]\n",
      "[[100, 50, 25], [100, 50], [100], [50, 25], [50], [25]]\n",
      "['tanh']\n",
      "126\n"
     ]
    }
   ],
   "source": [
    "# Hyperparameters grid\n",
    "activation_grid = ['tanh'] # ANN activation\n",
    "cat_loss_weight_grid = [1.0] # weight of the categorical loss term\n",
    "beta_grid = [0.01, 0.05, 0.1, 0.5, 1.0, 10.0, 100.0] # weight of the KL loss term\n",
    "latent_dim_grid = [5, 10, 25] # latent dimensionality\n",
    "hidden_layers_shape_grid = [\n",
    "    [100, 50, 25], [100, 50], [100], [50, 25], [50], [25]\n",
    "] # number of neurons in hidden layers [neurons_number_hidden_layer_1, neurons_number_hidden_layer_2, ...]\n",
    "if numerical_col_n == 0 or categorical_col_n == 0:\n",
    "    cat_loss_weight_grid = [1.0]\n",
    "# number of epochs and mini-batch size\n",
    "epochs = 100\n",
    "batch_size = 64\n",
    "# number of samples from VAE\n",
    "n_samples = 100000\n",
    "# train / development set (to tune hyperparameters) ratio\n",
    "train_dev_ratio = 0.8\n",
    "samples_dev_cache_dir = os.path.join(model_cache_dir, 'data_dev_{}-{}'.format(train_dev_ratio, file_suffix))\n",
    "#\n",
    "pprint(cat_loss_weight_grid)\n",
    "pprint(beta_grid)\n",
    "pprint(latent_dim_grid)\n",
    "pprint(hidden_layers_shape_grid)\n",
    "pprint(activation_grid)\n",
    "print(len(cat_loss_weight_grid) * len(beta_grid) * len(latent_dim_grid) \n",
    "      * len(hidden_layers_shape_grid) * len(activation_grid))"
   ]
  },
  {
   "cell_type": "code",
   "execution_count": 120,
   "metadata": {},
   "outputs": [],
   "source": [
    "# train VAE\n",
    "# ! a lot of global variables, like data_train, numerical_col_n, etc, are used !\n",
    "# ...like probably everywhere in this code :(\n",
    "def vae_train(cat_loss_weight, beta, activation, latent_dim, hidden_layers_shape):\n",
    "    # split data\n",
    "    train_dev_ind = int(len(data_train) * train_dev_ratio)\n",
    "    data_train_01 = copy.deepcopy(data_train[:train_dev_ind])\n",
    "    data_test_01 = copy.deepcopy(data_train[train_dev_ind:])\n",
    "    # scale numerical variables to N(0, 1)\n",
    "    if numerical_col_n > 0:\n",
    "        scaler = StandardScaler()\n",
    "        scaler = scaler.fit(data_train[:, :numerical_col_n])\n",
    "        data_train_01[:, :numerical_col_n] = scaler.transform(\n",
    "            data_train_01[:, :numerical_col_n])\n",
    "        data_test_01[:, :numerical_col_n] = scaler.transform(\n",
    "            data_test_01[:, :numerical_col_n])\n",
    "    else:\n",
    "        scaler = None\n",
    "    #\n",
    "    original_dim = features_n\n",
    "    # specify optimizer\n",
    "    optimizer = optimizers.RMSprop(lr=0.001, rho=0.9, epsilon=None, decay=0.0)\n",
    "    # encoder\n",
    "    x = Input(shape=(original_dim,))\n",
    "    h = x\n",
    "    for hl_shape in hidden_layers_shape:\n",
    "        h = Dense(hl_shape, activation=activation)(h)\n",
    "    z_mean = Dense(latent_dim)(h)\n",
    "    z_log_var = Dense(latent_dim)(h)\n",
    "    # reparameterization\n",
    "    def sampling(args):\n",
    "        z_mean, z_log_var = args\n",
    "        epsilon = K.random_normal(shape=(K.shape(z_mean)[0], latent_dim), mean=0.0, stddev=1.0)\n",
    "        return z_mean + K.exp(z_log_var / 2) * epsilon\n",
    "    z = Lambda(sampling)([z_mean, z_log_var])\n",
    "    # decoder\n",
    "    \n",
    "    \n",
    "    \n",
    "    decoder_h = [Dense(hl_shape, activation=activation) for hl_shape in reversed(hidden_layers_shape)]\n",
    "    if numerical_col_n > 0:\n",
    "        x_decoder_mean_num = Dense(numerical_col_n)\n",
    "    if categorical_col_n > 0:\n",
    "        x_decoder_mean_cat = [Dense(cat_groups[g_i + 1] - cat_groups[g_i], activation='softmax') \n",
    "                              for g_i in range(cat_groups_n)]\n",
    "    h_decoded = decoder_h[0](z)\n",
    "    for decoder_h_ in decoder_h[1:]:\n",
    "        h_decoded = decoder_h_(h_decoded)\n",
    "    if numerical_col_n > 0:\n",
    "        x_decoded_mean_num = x_decoder_mean_num(h_decoded)\n",
    "    if categorical_col_n > 0:\n",
    "        x_decoded_mean_cat = [x_decoder_mean_cat_(h_decoded)\n",
    "                              for x_decoder_mean_cat_ in x_decoder_mean_cat]\n",
    "    if numerical_col_n > 0 and categorical_col_n > 0:\n",
    "        x_decoded_mean = Concatenate()([x_decoded_mean_num] + x_decoded_mean_cat)\n",
    "    elif numerical_col_n > 0:\n",
    "        x_decoded_mean = x_decoded_mean_num\n",
    "    elif categorical_col_n > 0:\n",
    "        x_decoded_mean = Concatenate()(x_decoded_mean_cat)\n",
    "    else:\n",
    "        raise Exception(\"NO FEATURES\")\n",
    "    # custom losses\n",
    "    # total loss (used as loss in model.compile below)\n",
    "    def vae_loss(y_true, y_pred):\n",
    "        # numerical loss\n",
    "        recon_num = 0\n",
    "        if numerical_col_n > 0:\n",
    "            recon_num = K.sum(K.square(y_pred[:, :numerical_col_n] - y_true[:, :numerical_col_n]), axis=-1)\n",
    "        # categorical loss\n",
    "        recon_cat = 0\n",
    "        for g_i in range(cat_groups_n):    \n",
    "            g_i_beg = cat_groups[g_i]\n",
    "            g_i_end = cat_groups[g_i + 1]\n",
    "            recon_cat += metrics.categorical_crossentropy(y_true[:, g_i_beg:g_i_end], y_pred[:, g_i_beg:g_i_end])\n",
    "        # KL loss\n",
    "        kl = - 0.5 * K.sum(1. + z_log_var - K.square(z_mean) - K.exp(z_log_var), axis=-1)\n",
    "        # total loss\n",
    "        loss = K.mean(recon_num + recon_cat * cat_loss_weight + beta * kl)\n",
    "        return loss\n",
    "    # KL loss (used as metrics in model.compile below)\n",
    "    def KL_loss(y_true, y_pred):\n",
    "        kl = - 0.5 * K.sum(1. + z_log_var - K.square(z_mean) - K.exp(z_log_var), axis=-1)\n",
    "        return K.mean(beta * kl)\n",
    "    # numerical loss (used as metrics in model.compile below)\n",
    "    def recon_loss_num(y_true, y_pred):\n",
    "        recon_num = 0\n",
    "        if numerical_col_n > 0:\n",
    "            recon_num = K.sum(K.square(y_pred[:, :numerical_col_n] - y_true[:, :numerical_col_n]), axis=-1)\n",
    "        return K.mean(recon_num)\n",
    "    # categorical loss (used as metrics in model.compile below)\n",
    "    def recon_loss_cat(y_true, y_pred):\n",
    "        recon_cat = 0\n",
    "        for g_i in range(cat_groups_n):    \n",
    "            g_i_beg = cat_groups[g_i]\n",
    "            g_i_end = cat_groups[g_i + 1]\n",
    "            recon_cat += metrics.categorical_crossentropy(y_true[:, g_i_beg:g_i_end], y_pred[:, g_i_beg:g_i_end])\n",
    "        return K.mean(recon_cat * cat_loss_weight)\n",
    "    # build a VAE model (encoder+decoder)\n",
    "    model = Model(x, x_decoded_mean)\n",
    "    # Run training\n",
    "    if numerical_col_n > 0 and categorical_col_n > 0:\n",
    "        model.compile(optimizer=optimizer, loss=vae_loss, metrics=[KL_loss, recon_loss_num, recon_loss_cat])\n",
    "    elif numerical_col_n > 0:\n",
    "        model.compile(optimizer=optimizer, loss=vae_loss, metrics=[KL_loss, recon_loss_num])\n",
    "    elif categorical_col_n > 0:\n",
    "        model.compile(optimizer=optimizer, loss=vae_loss, metrics=[KL_loss, recon_loss_cat])\n",
    "    else:\n",
    "        raise Exception(\"NO FEATURES\")\n",
    "    model.fit(data_train_01, data_train_01,\n",
    "              shuffle=True,\n",
    "              batch_size=batch_size,\n",
    "              epochs=epochs,\n",
    "              validation_data=(data_test_01, data_test_01),\n",
    "              callbacks=[plot_learning],\n",
    "             )\n",
    "    # build a model to project inputs on the latent space (encoder only)\n",
    "    encoder = Model(x, z_mean)\n",
    "    # display a 2D plot to check the latent space embedding of the training data\n",
    "    x_train_encoded = encoder.predict(data_train_01, batch_size=batch_size)\n",
    "    # dummy labels are used\n",
    "    labels = [sum(np.count_nonzero(a) for a in x) for x in data_train_01]\n",
    "    plt.figure(figsize=(6, 6))\n",
    "    plt.scatter(x_train_encoded[:, 0], x_train_encoded[:, 1], c=labels, alpha=0.05)\n",
    "    plt.colorbar()\n",
    "    plt.show()\n",
    "    # define a sampling model (decoder only)\n",
    "    z_sample = Input(shape=(latent_dim,))\n",
    "    h_decoded_sample = decoder_h[0](z_sample)\n",
    "    for decoder_h_ in decoder_h[1:]:\n",
    "        h_decoded_sample = decoder_h_(h_decoded_sample)\n",
    "    if numerical_col_n > 0:\n",
    "        x_decoded_sample_num = x_decoder_mean_num(h_decoded_sample)\n",
    "    if categorical_col_n > 0:\n",
    "        x_decoded_sample_cat = [x_decoder_mean_cat_(h_decoded_sample)\n",
    "                                for x_decoder_mean_cat_ in x_decoder_mean_cat]\n",
    "    if numerical_col_n > 0 and categorical_col_n > 0:\n",
    "        x_decoded_sample = Concatenate()([x_decoded_sample_num] + x_decoded_sample_cat)\n",
    "    elif numerical_col_n > 0:\n",
    "        x_decoded_sample = x_decoded_sample_num\n",
    "    elif categorical_col_n > 0:\n",
    "        x_decoded_sample = Concatenate()(x_decoded_sample_cat)\n",
    "    else:\n",
    "        raise Exception(\"NO FEATURES\")\n",
    "    # biuld the sampling model\n",
    "    model_sample = Model(z_sample, x_decoded_sample)\n",
    "    # the full VAE model is not saved\n",
    "    return model_sample, scaler"
   ]
  },
  {
   "cell_type": "code",
   "execution_count": 117,
   "metadata": {
    "scrolled": true
   },
   "outputs": [],
   "source": [
    "# get samples from VAE\n",
    "def vae_get_samples(model_sample, n_samples, scaler):\n",
    "    z_sample = np.random.normal(0., 1.0, size=(n_samples, latent_dim))\n",
    "    samples = model_sample.predict(z_sample)\n",
    "    # scale back\n",
    "    if numerical_col_n > 0:\n",
    "        samples[:, :numerical_col_n] = scaler.inverse_transform(samples[:, :numerical_col_n])\n",
    "    # back from categorical softmax to one-hot\n",
    "    for g_i in range(cat_groups_n):\n",
    "        g_i_beg = cat_groups[g_i]\n",
    "        g_i_end = cat_groups[g_i + 1]\n",
    "        data_pred_col = samples[:, g_i_beg:g_i_end]\n",
    "        data_pred_col = np.argmax(data_pred_col, axis=1)\n",
    "        for row_i, row in enumerate(samples):\n",
    "            for col_i in range(g_i_beg, g_i_end):\n",
    "                if col_i - g_i_beg != data_pred_col[row_i]:\n",
    "                    samples[row_i, col_i] = 0\n",
    "                else:\n",
    "                    samples[row_i, col_i] = 1\n",
    "    # deal with the integer variables and clip using min/max values\n",
    "    if numerical_col_n > 0:\n",
    "        min_max_scheme = 'scheme_1'\n",
    "        col_names_num = df.columns.tolist()[:numerical_col_n]\n",
    "        for col_ind, col_name in enumerate(col_names_num):\n",
    "            if col_name in numerical_int:\n",
    "                samples[:, col_ind] = np.around(samples[:, col_ind])\n",
    "            # \n",
    "            samples[:, col_ind] = np.clip(samples[:, col_ind], \n",
    "                                    min_max_bins[min_max_scheme][col_name][0], \n",
    "                                    min_max_bins[min_max_scheme][col_name][1])\n",
    "    return samples"
   ]
  },
  {
   "cell_type": "code",
   "execution_count": 118,
   "metadata": {
    "scrolled": false
   },
   "outputs": [
    {
     "name": "stdout",
     "output_type": "stream",
     "text": [
      "len(model_cache_files_vae) = 126\n",
      "model_cache_filename: model--beta=0,01--activation=tanh--latent_dim=5--hidden_layers_shape=[100, 50, 25]--0.h5\n",
      "training model\n"
     ]
    },
    {
     "ename": "ValueError",
     "evalue": "Duplicate node name in graph: 'lambda_2/random_normal/shape'",
     "output_type": "error",
     "traceback": [
      "\u001b[0;31m---------------------------------------------------------------------------\u001b[0m",
      "\u001b[0;31mInvalidArgumentError\u001b[0m                      Traceback (most recent call last)",
      "\u001b[0;32m~/tensorflow/lib/python3.6/site-packages/tensorflow_core/python/framework/ops.py\u001b[0m in \u001b[0;36m_create_c_op\u001b[0;34m(graph, node_def, inputs, control_inputs)\u001b[0m\n\u001b[1;32m   1609\u001b[0m   \u001b[0;32mtry\u001b[0m\u001b[0;34m:\u001b[0m\u001b[0;34m\u001b[0m\u001b[0m\n\u001b[0;32m-> 1610\u001b[0;31m     \u001b[0mc_op\u001b[0m \u001b[0;34m=\u001b[0m \u001b[0mc_api\u001b[0m\u001b[0;34m.\u001b[0m\u001b[0mTF_FinishOperation\u001b[0m\u001b[0;34m(\u001b[0m\u001b[0mop_desc\u001b[0m\u001b[0;34m)\u001b[0m\u001b[0;34m\u001b[0m\u001b[0m\n\u001b[0m\u001b[1;32m   1611\u001b[0m   \u001b[0;32mexcept\u001b[0m \u001b[0merrors\u001b[0m\u001b[0;34m.\u001b[0m\u001b[0mInvalidArgumentError\u001b[0m \u001b[0;32mas\u001b[0m \u001b[0me\u001b[0m\u001b[0;34m:\u001b[0m\u001b[0;34m\u001b[0m\u001b[0m\n",
      "\u001b[0;31mInvalidArgumentError\u001b[0m: Duplicate node name in graph: 'lambda_2/random_normal/shape'",
      "\nDuring handling of the above exception, another exception occurred:\n",
      "\u001b[0;31mValueError\u001b[0m                                Traceback (most recent call last)",
      "\u001b[0;32m<ipython-input-118-1077a258d4f1>\u001b[0m in \u001b[0;36m<module>\u001b[0;34m()\u001b[0m\n\u001b[1;32m     53\u001b[0m             \u001b[0mprint\u001b[0m\u001b[0;34m(\u001b[0m\u001b[0;34m'training model'\u001b[0m\u001b[0;34m)\u001b[0m\u001b[0;34m\u001b[0m\u001b[0m\n\u001b[1;32m     54\u001b[0m             \u001b[0mstart\u001b[0m \u001b[0;34m=\u001b[0m \u001b[0mtime\u001b[0m\u001b[0;34m.\u001b[0m\u001b[0mtime\u001b[0m\u001b[0;34m(\u001b[0m\u001b[0;34m)\u001b[0m\u001b[0;34m\u001b[0m\u001b[0m\n\u001b[0;32m---> 55\u001b[0;31m             \u001b[0mmodel_sample\u001b[0m\u001b[0;34m,\u001b[0m \u001b[0mscaler\u001b[0m \u001b[0;34m=\u001b[0m \u001b[0mvae_train\u001b[0m\u001b[0;34m(\u001b[0m\u001b[0;34m*\u001b[0m\u001b[0mmodel_parameters_vae\u001b[0m\u001b[0;34m[\u001b[0m\u001b[0mi\u001b[0m\u001b[0;34m]\u001b[0m\u001b[0;34m)\u001b[0m\u001b[0;34m\u001b[0m\u001b[0m\n\u001b[0m\u001b[1;32m     56\u001b[0m             \u001b[0mduration\u001b[0m \u001b[0;34m=\u001b[0m \u001b[0mtime\u001b[0m\u001b[0;34m.\u001b[0m\u001b[0mtime\u001b[0m\u001b[0;34m(\u001b[0m\u001b[0;34m)\u001b[0m \u001b[0;34m-\u001b[0m \u001b[0mstart\u001b[0m\u001b[0;34m\u001b[0m\u001b[0m\n\u001b[1;32m     57\u001b[0m             \u001b[0mprint\u001b[0m\u001b[0;34m(\u001b[0m\u001b[0mmodel_cache_filename\u001b[0m\u001b[0;34m)\u001b[0m\u001b[0;34m\u001b[0m\u001b[0m\n",
      "\u001b[0;32m<ipython-input-116-84003d0d31ff>\u001b[0m in \u001b[0;36mvae_train\u001b[0;34m(cat_loss_weight, beta, activation, latent_dim, hidden_layers_shape)\u001b[0m\n\u001b[1;32m     33\u001b[0m         \u001b[0mepsilon\u001b[0m \u001b[0;34m=\u001b[0m \u001b[0mK\u001b[0m\u001b[0;34m.\u001b[0m\u001b[0mrandom_normal\u001b[0m\u001b[0;34m(\u001b[0m\u001b[0mshape\u001b[0m\u001b[0;34m=\u001b[0m\u001b[0;34m(\u001b[0m\u001b[0mK\u001b[0m\u001b[0;34m.\u001b[0m\u001b[0mshape\u001b[0m\u001b[0;34m(\u001b[0m\u001b[0mz_mean\u001b[0m\u001b[0;34m)\u001b[0m\u001b[0;34m[\u001b[0m\u001b[0;36m0\u001b[0m\u001b[0;34m]\u001b[0m\u001b[0;34m,\u001b[0m \u001b[0mlatent_dim\u001b[0m\u001b[0;34m)\u001b[0m\u001b[0;34m,\u001b[0m \u001b[0mmean\u001b[0m\u001b[0;34m=\u001b[0m\u001b[0;36m0.0\u001b[0m\u001b[0;34m,\u001b[0m \u001b[0mstddev\u001b[0m\u001b[0;34m=\u001b[0m\u001b[0;36m1.0\u001b[0m\u001b[0;34m)\u001b[0m\u001b[0;34m\u001b[0m\u001b[0m\n\u001b[1;32m     34\u001b[0m         \u001b[0;32mreturn\u001b[0m \u001b[0mz_mean\u001b[0m \u001b[0;34m+\u001b[0m \u001b[0mK\u001b[0m\u001b[0;34m.\u001b[0m\u001b[0mexp\u001b[0m\u001b[0;34m(\u001b[0m\u001b[0mz_log_var\u001b[0m \u001b[0;34m/\u001b[0m \u001b[0;36m2\u001b[0m\u001b[0;34m)\u001b[0m \u001b[0;34m*\u001b[0m \u001b[0mepsilon\u001b[0m\u001b[0;34m\u001b[0m\u001b[0m\n\u001b[0;32m---> 35\u001b[0;31m     \u001b[0mz\u001b[0m \u001b[0;34m=\u001b[0m \u001b[0mLambda\u001b[0m\u001b[0;34m(\u001b[0m\u001b[0msampling\u001b[0m\u001b[0;34m)\u001b[0m\u001b[0;34m(\u001b[0m\u001b[0;34m[\u001b[0m\u001b[0mz_mean\u001b[0m\u001b[0;34m,\u001b[0m \u001b[0mz_log_var\u001b[0m\u001b[0;34m]\u001b[0m\u001b[0;34m)\u001b[0m\u001b[0;34m\u001b[0m\u001b[0m\n\u001b[0m\u001b[1;32m     36\u001b[0m     \u001b[0;31m# decoder\u001b[0m\u001b[0;34m\u001b[0m\u001b[0;34m\u001b[0m\u001b[0m\n\u001b[1;32m     37\u001b[0m     \u001b[0mdecoder_h\u001b[0m \u001b[0;34m=\u001b[0m \u001b[0;34m[\u001b[0m\u001b[0mDense\u001b[0m\u001b[0;34m(\u001b[0m\u001b[0mhl_shape\u001b[0m\u001b[0;34m,\u001b[0m \u001b[0mactivation\u001b[0m\u001b[0;34m=\u001b[0m\u001b[0mactivation\u001b[0m\u001b[0;34m)\u001b[0m \u001b[0;32mfor\u001b[0m \u001b[0mhl_shape\u001b[0m \u001b[0;32min\u001b[0m \u001b[0mreversed\u001b[0m\u001b[0;34m(\u001b[0m\u001b[0mhidden_layers_shape\u001b[0m\u001b[0;34m)\u001b[0m\u001b[0;34m]\u001b[0m\u001b[0;34m\u001b[0m\u001b[0m\n",
      "\u001b[0;32m~/tensorflow/lib/python3.6/site-packages/keras/backend/tensorflow_backend.py\u001b[0m in \u001b[0;36msymbolic_fn_wrapper\u001b[0;34m(*args, **kwargs)\u001b[0m\n\u001b[1;32m     73\u001b[0m         \u001b[0;32mif\u001b[0m \u001b[0m_SYMBOLIC_SCOPE\u001b[0m\u001b[0;34m.\u001b[0m\u001b[0mvalue\u001b[0m\u001b[0;34m:\u001b[0m\u001b[0;34m\u001b[0m\u001b[0m\n\u001b[1;32m     74\u001b[0m             \u001b[0;32mwith\u001b[0m \u001b[0mget_graph\u001b[0m\u001b[0;34m(\u001b[0m\u001b[0;34m)\u001b[0m\u001b[0;34m.\u001b[0m\u001b[0mas_default\u001b[0m\u001b[0;34m(\u001b[0m\u001b[0;34m)\u001b[0m\u001b[0;34m:\u001b[0m\u001b[0;34m\u001b[0m\u001b[0m\n\u001b[0;32m---> 75\u001b[0;31m                 \u001b[0;32mreturn\u001b[0m \u001b[0mfunc\u001b[0m\u001b[0;34m(\u001b[0m\u001b[0;34m*\u001b[0m\u001b[0margs\u001b[0m\u001b[0;34m,\u001b[0m \u001b[0;34m**\u001b[0m\u001b[0mkwargs\u001b[0m\u001b[0;34m)\u001b[0m\u001b[0;34m\u001b[0m\u001b[0m\n\u001b[0m\u001b[1;32m     76\u001b[0m         \u001b[0;32melse\u001b[0m\u001b[0;34m:\u001b[0m\u001b[0;34m\u001b[0m\u001b[0m\n\u001b[1;32m     77\u001b[0m             \u001b[0;32mreturn\u001b[0m \u001b[0mfunc\u001b[0m\u001b[0;34m(\u001b[0m\u001b[0;34m*\u001b[0m\u001b[0margs\u001b[0m\u001b[0;34m,\u001b[0m \u001b[0;34m**\u001b[0m\u001b[0mkwargs\u001b[0m\u001b[0;34m)\u001b[0m\u001b[0;34m\u001b[0m\u001b[0m\n",
      "\u001b[0;32m~/tensorflow/lib/python3.6/site-packages/keras/engine/base_layer.py\u001b[0m in \u001b[0;36m__call__\u001b[0;34m(self, inputs, **kwargs)\u001b[0m\n\u001b[1;32m    504\u001b[0m             if all([s is not None\n\u001b[1;32m    505\u001b[0m                     for s in to_list(input_shape)]):\n\u001b[0;32m--> 506\u001b[0;31m                 \u001b[0moutput_shape\u001b[0m \u001b[0;34m=\u001b[0m \u001b[0mself\u001b[0m\u001b[0;34m.\u001b[0m\u001b[0mcompute_output_shape\u001b[0m\u001b[0;34m(\u001b[0m\u001b[0minput_shape\u001b[0m\u001b[0;34m)\u001b[0m\u001b[0;34m\u001b[0m\u001b[0m\n\u001b[0m\u001b[1;32m    507\u001b[0m             \u001b[0;32melse\u001b[0m\u001b[0;34m:\u001b[0m\u001b[0;34m\u001b[0m\u001b[0m\n\u001b[1;32m    508\u001b[0m                 \u001b[0;32mif\u001b[0m \u001b[0misinstance\u001b[0m\u001b[0;34m(\u001b[0m\u001b[0minput_shape\u001b[0m\u001b[0;34m,\u001b[0m \u001b[0mlist\u001b[0m\u001b[0;34m)\u001b[0m\u001b[0;34m:\u001b[0m\u001b[0;34m\u001b[0m\u001b[0m\n",
      "\u001b[0;32m~/tensorflow/lib/python3.6/site-packages/keras/layers/core.py\u001b[0m in \u001b[0;36mcompute_output_shape\u001b[0;34m(self, input_shape)\u001b[0m\n\u001b[1;32m    672\u001b[0m                     xs = [K.placeholder(shape=shape, dtype=dtype)\n\u001b[1;32m    673\u001b[0m                           for shape, dtype in zip(input_shape, self._input_dtypes)]\n\u001b[0;32m--> 674\u001b[0;31m                     \u001b[0mx\u001b[0m \u001b[0;34m=\u001b[0m \u001b[0mself\u001b[0m\u001b[0;34m.\u001b[0m\u001b[0mcall\u001b[0m\u001b[0;34m(\u001b[0m\u001b[0mxs\u001b[0m\u001b[0;34m)\u001b[0m\u001b[0;34m\u001b[0m\u001b[0m\n\u001b[0m\u001b[1;32m    675\u001b[0m                 \u001b[0;32melse\u001b[0m\u001b[0;34m:\u001b[0m\u001b[0;34m\u001b[0m\u001b[0m\n\u001b[1;32m    676\u001b[0m                     \u001b[0mx\u001b[0m \u001b[0;34m=\u001b[0m \u001b[0mK\u001b[0m\u001b[0;34m.\u001b[0m\u001b[0mplaceholder\u001b[0m\u001b[0;34m(\u001b[0m\u001b[0mshape\u001b[0m\u001b[0;34m=\u001b[0m\u001b[0minput_shape\u001b[0m\u001b[0;34m,\u001b[0m \u001b[0mdtype\u001b[0m\u001b[0;34m=\u001b[0m\u001b[0mself\u001b[0m\u001b[0;34m.\u001b[0m\u001b[0m_input_dtypes\u001b[0m\u001b[0;34m)\u001b[0m\u001b[0;34m\u001b[0m\u001b[0m\n",
      "\u001b[0;32m~/tensorflow/lib/python3.6/site-packages/keras/layers/core.py\u001b[0m in \u001b[0;36mcall\u001b[0;34m(self, inputs, mask)\u001b[0m\n\u001b[1;32m    714\u001b[0m         \u001b[0;32melse\u001b[0m\u001b[0;34m:\u001b[0m\u001b[0;34m\u001b[0m\u001b[0m\n\u001b[1;32m    715\u001b[0m             \u001b[0mself\u001b[0m\u001b[0;34m.\u001b[0m\u001b[0m_input_dtypes\u001b[0m \u001b[0;34m=\u001b[0m \u001b[0mK\u001b[0m\u001b[0;34m.\u001b[0m\u001b[0mdtype\u001b[0m\u001b[0;34m(\u001b[0m\u001b[0minputs\u001b[0m\u001b[0;34m)\u001b[0m\u001b[0;34m\u001b[0m\u001b[0m\n\u001b[0;32m--> 716\u001b[0;31m         \u001b[0;32mreturn\u001b[0m \u001b[0mself\u001b[0m\u001b[0;34m.\u001b[0m\u001b[0mfunction\u001b[0m\u001b[0;34m(\u001b[0m\u001b[0minputs\u001b[0m\u001b[0;34m,\u001b[0m \u001b[0;34m**\u001b[0m\u001b[0marguments\u001b[0m\u001b[0;34m)\u001b[0m\u001b[0;34m\u001b[0m\u001b[0m\n\u001b[0m\u001b[1;32m    717\u001b[0m \u001b[0;34m\u001b[0m\u001b[0m\n\u001b[1;32m    718\u001b[0m     \u001b[0;32mdef\u001b[0m \u001b[0mcompute_mask\u001b[0m\u001b[0;34m(\u001b[0m\u001b[0mself\u001b[0m\u001b[0;34m,\u001b[0m \u001b[0minputs\u001b[0m\u001b[0;34m,\u001b[0m \u001b[0mmask\u001b[0m\u001b[0;34m=\u001b[0m\u001b[0;32mNone\u001b[0m\u001b[0;34m)\u001b[0m\u001b[0;34m:\u001b[0m\u001b[0;34m\u001b[0m\u001b[0m\n",
      "\u001b[0;32m<ipython-input-116-84003d0d31ff>\u001b[0m in \u001b[0;36msampling\u001b[0;34m(args)\u001b[0m\n\u001b[1;32m     31\u001b[0m     \u001b[0;32mdef\u001b[0m \u001b[0msampling\u001b[0m\u001b[0;34m(\u001b[0m\u001b[0margs\u001b[0m\u001b[0;34m)\u001b[0m\u001b[0;34m:\u001b[0m\u001b[0;34m\u001b[0m\u001b[0m\n\u001b[1;32m     32\u001b[0m         \u001b[0mz_mean\u001b[0m\u001b[0;34m,\u001b[0m \u001b[0mz_log_var\u001b[0m \u001b[0;34m=\u001b[0m \u001b[0margs\u001b[0m\u001b[0;34m\u001b[0m\u001b[0m\n\u001b[0;32m---> 33\u001b[0;31m         \u001b[0mepsilon\u001b[0m \u001b[0;34m=\u001b[0m \u001b[0mK\u001b[0m\u001b[0;34m.\u001b[0m\u001b[0mrandom_normal\u001b[0m\u001b[0;34m(\u001b[0m\u001b[0mshape\u001b[0m\u001b[0;34m=\u001b[0m\u001b[0;34m(\u001b[0m\u001b[0mK\u001b[0m\u001b[0;34m.\u001b[0m\u001b[0mshape\u001b[0m\u001b[0;34m(\u001b[0m\u001b[0mz_mean\u001b[0m\u001b[0;34m)\u001b[0m\u001b[0;34m[\u001b[0m\u001b[0;36m0\u001b[0m\u001b[0;34m]\u001b[0m\u001b[0;34m,\u001b[0m \u001b[0mlatent_dim\u001b[0m\u001b[0;34m)\u001b[0m\u001b[0;34m,\u001b[0m \u001b[0mmean\u001b[0m\u001b[0;34m=\u001b[0m\u001b[0;36m0.0\u001b[0m\u001b[0;34m,\u001b[0m \u001b[0mstddev\u001b[0m\u001b[0;34m=\u001b[0m\u001b[0;36m1.0\u001b[0m\u001b[0;34m)\u001b[0m\u001b[0;34m\u001b[0m\u001b[0m\n\u001b[0m\u001b[1;32m     34\u001b[0m         \u001b[0;32mreturn\u001b[0m \u001b[0mz_mean\u001b[0m \u001b[0;34m+\u001b[0m \u001b[0mK\u001b[0m\u001b[0;34m.\u001b[0m\u001b[0mexp\u001b[0m\u001b[0;34m(\u001b[0m\u001b[0mz_log_var\u001b[0m \u001b[0;34m/\u001b[0m \u001b[0;36m2\u001b[0m\u001b[0;34m)\u001b[0m \u001b[0;34m*\u001b[0m \u001b[0mepsilon\u001b[0m\u001b[0;34m\u001b[0m\u001b[0m\n\u001b[1;32m     35\u001b[0m     \u001b[0mz\u001b[0m \u001b[0;34m=\u001b[0m \u001b[0mLambda\u001b[0m\u001b[0;34m(\u001b[0m\u001b[0msampling\u001b[0m\u001b[0;34m)\u001b[0m\u001b[0;34m(\u001b[0m\u001b[0;34m[\u001b[0m\u001b[0mz_mean\u001b[0m\u001b[0;34m,\u001b[0m \u001b[0mz_log_var\u001b[0m\u001b[0;34m]\u001b[0m\u001b[0;34m)\u001b[0m\u001b[0;34m\u001b[0m\u001b[0m\n",
      "\u001b[0;32m~/tensorflow/lib/python3.6/site-packages/keras/backend/tensorflow_backend.py\u001b[0m in \u001b[0;36mrandom_normal\u001b[0;34m(shape, mean, stddev, dtype, seed)\u001b[0m\n\u001b[1;32m   4327\u001b[0m     \u001b[0;32mwith\u001b[0m \u001b[0mtf_ops\u001b[0m\u001b[0;34m.\u001b[0m\u001b[0minit_scope\u001b[0m\u001b[0;34m(\u001b[0m\u001b[0;34m)\u001b[0m\u001b[0;34m:\u001b[0m\u001b[0;34m\u001b[0m\u001b[0m\n\u001b[1;32m   4328\u001b[0m         return tf_keras_backend.random_normal(\n\u001b[0;32m-> 4329\u001b[0;31m             shape, mean=mean, stddev=stddev, dtype=dtype, seed=seed)\n\u001b[0m\u001b[1;32m   4330\u001b[0m \u001b[0;34m\u001b[0m\u001b[0m\n\u001b[1;32m   4331\u001b[0m \u001b[0;34m\u001b[0m\u001b[0m\n",
      "\u001b[0;32m~/tensorflow/lib/python3.6/site-packages/tensorflow_core/python/keras/backend.py\u001b[0m in \u001b[0;36mrandom_normal\u001b[0;34m(shape, mean, stddev, dtype, seed)\u001b[0m\n\u001b[1;32m   5572\u001b[0m     \u001b[0mseed\u001b[0m \u001b[0;34m=\u001b[0m \u001b[0mnp\u001b[0m\u001b[0;34m.\u001b[0m\u001b[0mrandom\u001b[0m\u001b[0;34m.\u001b[0m\u001b[0mrandint\u001b[0m\u001b[0;34m(\u001b[0m\u001b[0;36m10e6\u001b[0m\u001b[0;34m)\u001b[0m\u001b[0;34m\u001b[0m\u001b[0m\n\u001b[1;32m   5573\u001b[0m   return random_ops.random_normal(\n\u001b[0;32m-> 5574\u001b[0;31m       shape, mean=mean, stddev=stddev, dtype=dtype, seed=seed)\n\u001b[0m\u001b[1;32m   5575\u001b[0m \u001b[0;34m\u001b[0m\u001b[0m\n\u001b[1;32m   5576\u001b[0m \u001b[0;34m\u001b[0m\u001b[0m\n",
      "\u001b[0;32m~/tensorflow/lib/python3.6/site-packages/tensorflow_core/python/ops/random_ops.py\u001b[0m in \u001b[0;36mrandom_normal\u001b[0;34m(shape, mean, stddev, dtype, seed, name)\u001b[0m\n\u001b[1;32m     67\u001b[0m   \"\"\"\n\u001b[1;32m     68\u001b[0m   \u001b[0;32mwith\u001b[0m \u001b[0mops\u001b[0m\u001b[0;34m.\u001b[0m\u001b[0mname_scope\u001b[0m\u001b[0;34m(\u001b[0m\u001b[0mname\u001b[0m\u001b[0;34m,\u001b[0m \u001b[0;34m\"random_normal\"\u001b[0m\u001b[0;34m,\u001b[0m \u001b[0;34m[\u001b[0m\u001b[0mshape\u001b[0m\u001b[0;34m,\u001b[0m \u001b[0mmean\u001b[0m\u001b[0;34m,\u001b[0m \u001b[0mstddev\u001b[0m\u001b[0;34m]\u001b[0m\u001b[0;34m)\u001b[0m \u001b[0;32mas\u001b[0m \u001b[0mname\u001b[0m\u001b[0;34m:\u001b[0m\u001b[0;34m\u001b[0m\u001b[0m\n\u001b[0;32m---> 69\u001b[0;31m     \u001b[0mshape_tensor\u001b[0m \u001b[0;34m=\u001b[0m \u001b[0mtensor_util\u001b[0m\u001b[0;34m.\u001b[0m\u001b[0mshape_tensor\u001b[0m\u001b[0;34m(\u001b[0m\u001b[0mshape\u001b[0m\u001b[0;34m)\u001b[0m\u001b[0;34m\u001b[0m\u001b[0m\n\u001b[0m\u001b[1;32m     70\u001b[0m     \u001b[0mmean_tensor\u001b[0m \u001b[0;34m=\u001b[0m \u001b[0mops\u001b[0m\u001b[0;34m.\u001b[0m\u001b[0mconvert_to_tensor\u001b[0m\u001b[0;34m(\u001b[0m\u001b[0mmean\u001b[0m\u001b[0;34m,\u001b[0m \u001b[0mdtype\u001b[0m\u001b[0;34m=\u001b[0m\u001b[0mdtype\u001b[0m\u001b[0;34m,\u001b[0m \u001b[0mname\u001b[0m\u001b[0;34m=\u001b[0m\u001b[0;34m\"mean\"\u001b[0m\u001b[0;34m)\u001b[0m\u001b[0;34m\u001b[0m\u001b[0m\n\u001b[1;32m     71\u001b[0m     \u001b[0mstddev_tensor\u001b[0m \u001b[0;34m=\u001b[0m \u001b[0mops\u001b[0m\u001b[0;34m.\u001b[0m\u001b[0mconvert_to_tensor\u001b[0m\u001b[0;34m(\u001b[0m\u001b[0mstddev\u001b[0m\u001b[0;34m,\u001b[0m \u001b[0mdtype\u001b[0m\u001b[0;34m=\u001b[0m\u001b[0mdtype\u001b[0m\u001b[0;34m,\u001b[0m \u001b[0mname\u001b[0m\u001b[0;34m=\u001b[0m\u001b[0;34m\"stddev\"\u001b[0m\u001b[0;34m)\u001b[0m\u001b[0;34m\u001b[0m\u001b[0m\n",
      "\u001b[0;32m~/tensorflow/lib/python3.6/site-packages/tensorflow_core/python/framework/tensor_util.py\u001b[0m in \u001b[0;36mshape_tensor\u001b[0;34m(shape)\u001b[0m\n\u001b[1;32m    962\u001b[0m       \u001b[0;31m# not convertible to Tensors becasue of mixed content.\u001b[0m\u001b[0;34m\u001b[0m\u001b[0;34m\u001b[0m\u001b[0m\n\u001b[1;32m    963\u001b[0m       \u001b[0mshape\u001b[0m \u001b[0;34m=\u001b[0m \u001b[0mtuple\u001b[0m\u001b[0;34m(\u001b[0m\u001b[0mmap\u001b[0m\u001b[0;34m(\u001b[0m\u001b[0mtensor_shape\u001b[0m\u001b[0;34m.\u001b[0m\u001b[0mdimension_value\u001b[0m\u001b[0;34m,\u001b[0m \u001b[0mshape\u001b[0m\u001b[0;34m)\u001b[0m\u001b[0;34m)\u001b[0m\u001b[0;34m\u001b[0m\u001b[0m\n\u001b[0;32m--> 964\u001b[0;31m   \u001b[0;32mreturn\u001b[0m \u001b[0mops\u001b[0m\u001b[0;34m.\u001b[0m\u001b[0mconvert_to_tensor\u001b[0m\u001b[0;34m(\u001b[0m\u001b[0mshape\u001b[0m\u001b[0;34m,\u001b[0m \u001b[0mdtype\u001b[0m\u001b[0;34m=\u001b[0m\u001b[0mdtype\u001b[0m\u001b[0;34m,\u001b[0m \u001b[0mname\u001b[0m\u001b[0;34m=\u001b[0m\u001b[0;34m\"shape\"\u001b[0m\u001b[0;34m)\u001b[0m\u001b[0;34m\u001b[0m\u001b[0m\n\u001b[0m\u001b[1;32m    965\u001b[0m \u001b[0;34m\u001b[0m\u001b[0m\n\u001b[1;32m    966\u001b[0m \u001b[0;34m\u001b[0m\u001b[0m\n",
      "\u001b[0;32m~/tensorflow/lib/python3.6/site-packages/tensorflow_core/python/framework/ops.py\u001b[0m in \u001b[0;36mconvert_to_tensor\u001b[0;34m(value, dtype, name, preferred_dtype, dtype_hint)\u001b[0m\n\u001b[1;32m   1182\u001b[0m   preferred_dtype = deprecation.deprecated_argument_lookup(\n\u001b[1;32m   1183\u001b[0m       \"dtype_hint\", dtype_hint, \"preferred_dtype\", preferred_dtype)\n\u001b[0;32m-> 1184\u001b[0;31m   \u001b[0;32mreturn\u001b[0m \u001b[0mconvert_to_tensor_v2\u001b[0m\u001b[0;34m(\u001b[0m\u001b[0mvalue\u001b[0m\u001b[0;34m,\u001b[0m \u001b[0mdtype\u001b[0m\u001b[0;34m,\u001b[0m \u001b[0mpreferred_dtype\u001b[0m\u001b[0;34m,\u001b[0m \u001b[0mname\u001b[0m\u001b[0;34m)\u001b[0m\u001b[0;34m\u001b[0m\u001b[0m\n\u001b[0m\u001b[1;32m   1185\u001b[0m \u001b[0;34m\u001b[0m\u001b[0m\n\u001b[1;32m   1186\u001b[0m \u001b[0;34m\u001b[0m\u001b[0m\n",
      "\u001b[0;32m~/tensorflow/lib/python3.6/site-packages/tensorflow_core/python/framework/ops.py\u001b[0m in \u001b[0;36mconvert_to_tensor_v2\u001b[0;34m(value, dtype, dtype_hint, name)\u001b[0m\n\u001b[1;32m   1240\u001b[0m       \u001b[0mname\u001b[0m\u001b[0;34m=\u001b[0m\u001b[0mname\u001b[0m\u001b[0;34m,\u001b[0m\u001b[0;34m\u001b[0m\u001b[0m\n\u001b[1;32m   1241\u001b[0m       \u001b[0mpreferred_dtype\u001b[0m\u001b[0;34m=\u001b[0m\u001b[0mdtype_hint\u001b[0m\u001b[0;34m,\u001b[0m\u001b[0;34m\u001b[0m\u001b[0m\n\u001b[0;32m-> 1242\u001b[0;31m       as_ref=False)\n\u001b[0m\u001b[1;32m   1243\u001b[0m \u001b[0;34m\u001b[0m\u001b[0m\n\u001b[1;32m   1244\u001b[0m \u001b[0;34m\u001b[0m\u001b[0m\n",
      "\u001b[0;32m~/tensorflow/lib/python3.6/site-packages/tensorflow_core/python/framework/ops.py\u001b[0m in \u001b[0;36minternal_convert_to_tensor\u001b[0;34m(value, dtype, name, as_ref, preferred_dtype, ctx, accept_composite_tensors)\u001b[0m\n\u001b[1;32m   1294\u001b[0m \u001b[0;34m\u001b[0m\u001b[0m\n\u001b[1;32m   1295\u001b[0m     \u001b[0;32mif\u001b[0m \u001b[0mret\u001b[0m \u001b[0;32mis\u001b[0m \u001b[0;32mNone\u001b[0m\u001b[0;34m:\u001b[0m\u001b[0;34m\u001b[0m\u001b[0m\n\u001b[0;32m-> 1296\u001b[0;31m       \u001b[0mret\u001b[0m \u001b[0;34m=\u001b[0m \u001b[0mconversion_func\u001b[0m\u001b[0;34m(\u001b[0m\u001b[0mvalue\u001b[0m\u001b[0;34m,\u001b[0m \u001b[0mdtype\u001b[0m\u001b[0;34m=\u001b[0m\u001b[0mdtype\u001b[0m\u001b[0;34m,\u001b[0m \u001b[0mname\u001b[0m\u001b[0;34m=\u001b[0m\u001b[0mname\u001b[0m\u001b[0;34m,\u001b[0m \u001b[0mas_ref\u001b[0m\u001b[0;34m=\u001b[0m\u001b[0mas_ref\u001b[0m\u001b[0;34m)\u001b[0m\u001b[0;34m\u001b[0m\u001b[0m\n\u001b[0m\u001b[1;32m   1297\u001b[0m \u001b[0;34m\u001b[0m\u001b[0m\n\u001b[1;32m   1298\u001b[0m     \u001b[0;32mif\u001b[0m \u001b[0mret\u001b[0m \u001b[0;32mis\u001b[0m \u001b[0mNotImplemented\u001b[0m\u001b[0;34m:\u001b[0m\u001b[0;34m\u001b[0m\u001b[0m\n",
      "\u001b[0;32m~/tensorflow/lib/python3.6/site-packages/tensorflow_core/python/ops/array_ops.py\u001b[0m in \u001b[0;36m_autopacking_conversion_function\u001b[0;34m(v, dtype, name, as_ref)\u001b[0m\n\u001b[1;32m   1276\u001b[0m   \u001b[0;32melif\u001b[0m \u001b[0mdtype\u001b[0m \u001b[0;34m!=\u001b[0m \u001b[0minferred_dtype\u001b[0m\u001b[0;34m:\u001b[0m\u001b[0;34m\u001b[0m\u001b[0m\n\u001b[1;32m   1277\u001b[0m     \u001b[0mv\u001b[0m \u001b[0;34m=\u001b[0m \u001b[0mnest\u001b[0m\u001b[0;34m.\u001b[0m\u001b[0mmap_structure\u001b[0m\u001b[0;34m(\u001b[0m\u001b[0m_cast_nested_seqs_to_dtype\u001b[0m\u001b[0;34m(\u001b[0m\u001b[0mdtype\u001b[0m\u001b[0;34m)\u001b[0m\u001b[0;34m,\u001b[0m \u001b[0mv\u001b[0m\u001b[0;34m)\u001b[0m\u001b[0;34m\u001b[0m\u001b[0m\n\u001b[0;32m-> 1278\u001b[0;31m   \u001b[0;32mreturn\u001b[0m \u001b[0m_autopacking_helper\u001b[0m\u001b[0;34m(\u001b[0m\u001b[0mv\u001b[0m\u001b[0;34m,\u001b[0m \u001b[0mdtype\u001b[0m\u001b[0;34m,\u001b[0m \u001b[0mname\u001b[0m \u001b[0;32mor\u001b[0m \u001b[0;34m\"packed\"\u001b[0m\u001b[0;34m)\u001b[0m\u001b[0;34m\u001b[0m\u001b[0m\n\u001b[0m\u001b[1;32m   1279\u001b[0m \u001b[0;34m\u001b[0m\u001b[0m\n\u001b[1;32m   1280\u001b[0m \u001b[0;34m\u001b[0m\u001b[0m\n",
      "\u001b[0;32m~/tensorflow/lib/python3.6/site-packages/tensorflow_core/python/ops/array_ops.py\u001b[0m in \u001b[0;36m_autopacking_helper\u001b[0;34m(list_or_tuple, dtype, name)\u001b[0m\n\u001b[1;32m   1212\u001b[0m           elems_as_tensors.append(\n\u001b[1;32m   1213\u001b[0m               constant_op.constant(elem, dtype=dtype, name=str(i)))\n\u001b[0;32m-> 1214\u001b[0;31m       \u001b[0;32mreturn\u001b[0m \u001b[0mgen_array_ops\u001b[0m\u001b[0;34m.\u001b[0m\u001b[0mpack\u001b[0m\u001b[0;34m(\u001b[0m\u001b[0melems_as_tensors\u001b[0m\u001b[0;34m,\u001b[0m \u001b[0mname\u001b[0m\u001b[0;34m=\u001b[0m\u001b[0mscope\u001b[0m\u001b[0;34m)\u001b[0m\u001b[0;34m\u001b[0m\u001b[0m\n\u001b[0m\u001b[1;32m   1215\u001b[0m     \u001b[0;32melse\u001b[0m\u001b[0;34m:\u001b[0m\u001b[0;34m\u001b[0m\u001b[0m\n\u001b[1;32m   1216\u001b[0m       \u001b[0;32mreturn\u001b[0m \u001b[0mconverted_elems\u001b[0m\u001b[0;34m\u001b[0m\u001b[0m\n",
      "\u001b[0;32m~/tensorflow/lib/python3.6/site-packages/tensorflow_core/python/ops/gen_array_ops.py\u001b[0m in \u001b[0;36mpack\u001b[0;34m(values, axis, name)\u001b[0m\n\u001b[1;32m   6302\u001b[0m   \u001b[0maxis\u001b[0m \u001b[0;34m=\u001b[0m \u001b[0m_execute\u001b[0m\u001b[0;34m.\u001b[0m\u001b[0mmake_int\u001b[0m\u001b[0;34m(\u001b[0m\u001b[0maxis\u001b[0m\u001b[0;34m,\u001b[0m \u001b[0;34m\"axis\"\u001b[0m\u001b[0;34m)\u001b[0m\u001b[0;34m\u001b[0m\u001b[0m\n\u001b[1;32m   6303\u001b[0m   _, _, _op = _op_def_lib._apply_op_helper(\n\u001b[0;32m-> 6304\u001b[0;31m         \"Pack\", values=values, axis=axis, name=name)\n\u001b[0m\u001b[1;32m   6305\u001b[0m   \u001b[0m_result\u001b[0m \u001b[0;34m=\u001b[0m \u001b[0m_op\u001b[0m\u001b[0;34m.\u001b[0m\u001b[0moutputs\u001b[0m\u001b[0;34m[\u001b[0m\u001b[0;34m:\u001b[0m\u001b[0;34m]\u001b[0m\u001b[0;34m\u001b[0m\u001b[0m\n\u001b[1;32m   6306\u001b[0m   \u001b[0m_inputs_flat\u001b[0m \u001b[0;34m=\u001b[0m \u001b[0m_op\u001b[0m\u001b[0;34m.\u001b[0m\u001b[0minputs\u001b[0m\u001b[0;34m\u001b[0m\u001b[0m\n",
      "\u001b[0;32m~/tensorflow/lib/python3.6/site-packages/tensorflow_core/python/framework/op_def_library.py\u001b[0m in \u001b[0;36m_apply_op_helper\u001b[0;34m(self, op_type_name, name, **keywords)\u001b[0m\n\u001b[1;32m    791\u001b[0m         op = g.create_op(op_type_name, inputs, dtypes=None, name=scope,\n\u001b[1;32m    792\u001b[0m                          \u001b[0minput_types\u001b[0m\u001b[0;34m=\u001b[0m\u001b[0minput_types\u001b[0m\u001b[0;34m,\u001b[0m \u001b[0mattrs\u001b[0m\u001b[0;34m=\u001b[0m\u001b[0mattr_protos\u001b[0m\u001b[0;34m,\u001b[0m\u001b[0;34m\u001b[0m\u001b[0m\n\u001b[0;32m--> 793\u001b[0;31m                          op_def=op_def)\n\u001b[0m\u001b[1;32m    794\u001b[0m       \u001b[0;32mreturn\u001b[0m \u001b[0moutput_structure\u001b[0m\u001b[0;34m,\u001b[0m \u001b[0mop_def\u001b[0m\u001b[0;34m.\u001b[0m\u001b[0mis_stateful\u001b[0m\u001b[0;34m,\u001b[0m \u001b[0mop\u001b[0m\u001b[0;34m\u001b[0m\u001b[0m\n\u001b[1;32m    795\u001b[0m \u001b[0;34m\u001b[0m\u001b[0m\n",
      "\u001b[0;32m~/tensorflow/lib/python3.6/site-packages/tensorflow_core/python/framework/func_graph.py\u001b[0m in \u001b[0;36mcreate_op\u001b[0;34m(***failed resolving arguments***)\u001b[0m\n\u001b[1;32m    546\u001b[0m     return super(FuncGraph, self)._create_op_internal(  # pylint: disable=protected-access\n\u001b[1;32m    547\u001b[0m         \u001b[0mop_type\u001b[0m\u001b[0;34m,\u001b[0m \u001b[0minputs\u001b[0m\u001b[0;34m,\u001b[0m \u001b[0mdtypes\u001b[0m\u001b[0;34m,\u001b[0m \u001b[0minput_types\u001b[0m\u001b[0;34m,\u001b[0m \u001b[0mname\u001b[0m\u001b[0;34m,\u001b[0m \u001b[0mattrs\u001b[0m\u001b[0;34m,\u001b[0m \u001b[0mop_def\u001b[0m\u001b[0;34m,\u001b[0m\u001b[0;34m\u001b[0m\u001b[0m\n\u001b[0;32m--> 548\u001b[0;31m         compute_device)\n\u001b[0m\u001b[1;32m    549\u001b[0m \u001b[0;34m\u001b[0m\u001b[0m\n\u001b[1;32m    550\u001b[0m   \u001b[0;32mdef\u001b[0m \u001b[0mcapture\u001b[0m\u001b[0;34m(\u001b[0m\u001b[0mself\u001b[0m\u001b[0;34m,\u001b[0m \u001b[0mtensor\u001b[0m\u001b[0;34m,\u001b[0m \u001b[0mname\u001b[0m\u001b[0;34m=\u001b[0m\u001b[0;32mNone\u001b[0m\u001b[0;34m)\u001b[0m\u001b[0;34m:\u001b[0m\u001b[0;34m\u001b[0m\u001b[0m\n",
      "\u001b[0;32m~/tensorflow/lib/python3.6/site-packages/tensorflow_core/python/framework/ops.py\u001b[0m in \u001b[0;36m_create_op_internal\u001b[0;34m(self, op_type, inputs, dtypes, input_types, name, attrs, op_def, compute_device)\u001b[0m\n\u001b[1;32m   3427\u001b[0m           \u001b[0minput_types\u001b[0m\u001b[0;34m=\u001b[0m\u001b[0minput_types\u001b[0m\u001b[0;34m,\u001b[0m\u001b[0;34m\u001b[0m\u001b[0m\n\u001b[1;32m   3428\u001b[0m           \u001b[0moriginal_op\u001b[0m\u001b[0;34m=\u001b[0m\u001b[0mself\u001b[0m\u001b[0;34m.\u001b[0m\u001b[0m_default_original_op\u001b[0m\u001b[0;34m,\u001b[0m\u001b[0;34m\u001b[0m\u001b[0m\n\u001b[0;32m-> 3429\u001b[0;31m           op_def=op_def)\n\u001b[0m\u001b[1;32m   3430\u001b[0m       \u001b[0mself\u001b[0m\u001b[0;34m.\u001b[0m\u001b[0m_create_op_helper\u001b[0m\u001b[0;34m(\u001b[0m\u001b[0mret\u001b[0m\u001b[0;34m,\u001b[0m \u001b[0mcompute_device\u001b[0m\u001b[0;34m=\u001b[0m\u001b[0mcompute_device\u001b[0m\u001b[0;34m)\u001b[0m\u001b[0;34m\u001b[0m\u001b[0m\n\u001b[1;32m   3431\u001b[0m     \u001b[0;32mreturn\u001b[0m \u001b[0mret\u001b[0m\u001b[0;34m\u001b[0m\u001b[0m\n",
      "\u001b[0;32m~/tensorflow/lib/python3.6/site-packages/tensorflow_core/python/framework/ops.py\u001b[0m in \u001b[0;36m__init__\u001b[0;34m(self, node_def, g, inputs, output_types, control_inputs, input_types, original_op, op_def)\u001b[0m\n\u001b[1;32m   1771\u001b[0m           op_def, inputs, node_def.attr)\n\u001b[1;32m   1772\u001b[0m       self._c_op = _create_c_op(self._graph, node_def, grouped_inputs,\n\u001b[0;32m-> 1773\u001b[0;31m                                 control_input_ops)\n\u001b[0m\u001b[1;32m   1774\u001b[0m     \u001b[0;31m# pylint: enable=protected-access\u001b[0m\u001b[0;34m\u001b[0m\u001b[0;34m\u001b[0m\u001b[0m\n\u001b[1;32m   1775\u001b[0m \u001b[0;34m\u001b[0m\u001b[0m\n",
      "\u001b[0;32m~/tensorflow/lib/python3.6/site-packages/tensorflow_core/python/framework/ops.py\u001b[0m in \u001b[0;36m_create_c_op\u001b[0;34m(graph, node_def, inputs, control_inputs)\u001b[0m\n\u001b[1;32m   1611\u001b[0m   \u001b[0;32mexcept\u001b[0m \u001b[0merrors\u001b[0m\u001b[0;34m.\u001b[0m\u001b[0mInvalidArgumentError\u001b[0m \u001b[0;32mas\u001b[0m \u001b[0me\u001b[0m\u001b[0;34m:\u001b[0m\u001b[0;34m\u001b[0m\u001b[0m\n\u001b[1;32m   1612\u001b[0m     \u001b[0;31m# Convert to ValueError for backwards compatibility.\u001b[0m\u001b[0;34m\u001b[0m\u001b[0;34m\u001b[0m\u001b[0m\n\u001b[0;32m-> 1613\u001b[0;31m     \u001b[0;32mraise\u001b[0m \u001b[0mValueError\u001b[0m\u001b[0;34m(\u001b[0m\u001b[0mstr\u001b[0m\u001b[0;34m(\u001b[0m\u001b[0me\u001b[0m\u001b[0;34m)\u001b[0m\u001b[0;34m)\u001b[0m\u001b[0;34m\u001b[0m\u001b[0m\n\u001b[0m\u001b[1;32m   1614\u001b[0m \u001b[0;34m\u001b[0m\u001b[0m\n\u001b[1;32m   1615\u001b[0m   \u001b[0;32mreturn\u001b[0m \u001b[0mc_op\u001b[0m\u001b[0;34m\u001b[0m\u001b[0m\n",
      "\u001b[0;31mValueError\u001b[0m: Duplicate node name in graph: 'lambda_2/random_normal/shape'"
     ]
    }
   ],
   "source": [
    "# training VAE for the hyperparameters grid + caching\n",
    "train_models = True # if False then just load all pretrained models\n",
    "vae_model_cache_dirname = 'vae--epochs={}--batch_size={}'.format(epochs, batch_size) # cache folder\n",
    "#\n",
    "vae_model_cache_dir = os.path.join(model_cache_dir, vae_model_cache_dirname)\n",
    "if not os.path.exists(vae_model_cache_dir): \n",
    "    os.makedirs(vae_model_cache_dir)\n",
    "if train_models: # get combinations of hyperparameters\n",
    "    model_cache_files_vae, model_parameters_vae = [], []\n",
    "    for cat_loss_weight in cat_loss_weight_grid:\n",
    "        for beta in beta_grid:\n",
    "            for activation in activation_grid:\n",
    "                for latent_dim in latent_dim_grid:\n",
    "                    for hidden_layers_shape in hidden_layers_shape_grid:\n",
    "                        model_cache_filename = 'model'\n",
    "                        if beta != 1.0:\n",
    "                            model_cache_filename += '--' + 'beta=' + str(beta).replace('.', ',') \n",
    "                        if cat_loss_weight != 1.0:\n",
    "                            model_cache_filename += '--' + 'clw=' + str(cat_loss_weight).replace('.', ',') \n",
    "                        model_cache_filename += '--' + 'activation=' + str(activation) \n",
    "                        model_cache_filename += '--' + 'latent_dim=' + str(latent_dim)\n",
    "                        model_cache_filename += '--' + 'hidden_layers_shape=' + str(hidden_layers_shape) \n",
    "                        model_cache_filename += '--' + file_suffix + '.h5'\n",
    "                        model_cache_files_vae.append(model_cache_filename)\n",
    "                        model_parameters_vae.append((cat_loss_weight, beta, \n",
    "                                                     activation, latent_dim, hidden_layers_shape))\n",
    "else: # just load all pretrained models\n",
    "    import glob, os\n",
    "    cwd = os.getcwd()\n",
    "    filename_patten = \"model*--\" + file_suffix + \".h5\"\n",
    "    model_cache_files_vae = list(glob.glob(os.path.join(cwd, vae_model_cache_dir, filename_patten)))\n",
    "    model_cache_files_vae = [os.path.split(x)[1] for x in model_cache_files_vae]\n",
    "# number of models\n",
    "n_calc = len(model_cache_files_vae)\n",
    "print(\"len(model_cache_files_vae) =\", len(model_cache_files_vae))\n",
    "# iterate through the models\n",
    "samples_vae = {}\n",
    "for i, model_cache_filename in enumerate(model_cache_files_vae):\n",
    "    # get a model\n",
    "    scaler_cache_filename = 'scaler_' + model_cache_filename\n",
    "    model_cache_file = os.path.join(vae_model_cache_dir, model_cache_filename)\n",
    "    scaler_cache_file = os.path.join(vae_model_cache_dir, scaler_cache_filename)\n",
    "    print(\"model_cache_filename:\", model_cache_filename)\n",
    "    if train_models:\n",
    "        is_model_cache_file = os.path.isfile(model_cache_file)            \n",
    "        # It is not recommended to use pickle or cPickle to save a Keras model\n",
    "        if is_model_cache_file:\n",
    "            model_sample = keras.models.load_model(model_cache_file)\n",
    "            with open(scaler_cache_file, 'rb') as f:\n",
    "                scaler = pickle.load(f)\n",
    "            print('model loaded from file: ' + model_cache_file)\n",
    "        else:\n",
    "            print('training model')\n",
    "            start = time.time()\n",
    "            model_sample, scaler = vae_train(*model_parameters_vae[i])\n",
    "            duration = time.time() - start\n",
    "            print(model_cache_filename)\n",
    "            print(\"Took {} seconds to train vae\".format(duration))\n",
    "            print(\"Trained model {} out of {}\".format(i + 1, n_calc))\n",
    "            model_sample.save(model_cache_file)\n",
    "            with open(scaler_cache_file, 'wb') as f:\n",
    "                pickle.dump(scaler, f)\n",
    "            print('model saved to file: ' + model_cache_file)\n",
    "    # generate samples\n",
    "    samples_cache_filename = 'samples'\n",
    "    samples_cache_filename += '--' + model_cache_filename\n",
    "    samples_cache_filename += '--n_samples=' + str(n_samples)\n",
    "    samples_cache_filename += '--' + file_suffix + '.pickle'\n",
    "    samples_cache_file = os.path.join(vae_model_cache_dir, samples_cache_filename)\n",
    "    print(\"samples_cache_filename:\", samples_cache_filename)\n",
    "    is_samples_cache_file = os.path.isfile(samples_cache_file)\n",
    "    if is_samples_cache_file:\n",
    "        with open(samples_cache_file, 'rb') as f:\n",
    "            samples_vae[model_cache_filename] = pickle.load(f)\n",
    "        print('samples loaded from file')\n",
    "    else:\n",
    "        print('generating samples')\n",
    "        samples_vae[model_cache_filename] = vae_get_samples(model_sample, n_samples, scaler)\n",
    "        with open(samples_cache_file, 'wb') as f:\n",
    "            pickle.dump(samples_vae[model_cache_filename], f)\n",
    "        print('samples saved to file')\n",
    "    print(80 * '-')"
   ]
  },
  {
   "cell_type": "code",
   "execution_count": null,
   "metadata": {},
   "outputs": [],
   "source": [
    "# performance for all atributes (development set)\n",
    "stat_vae_dev = get_stat(data_train[train_dev_ind:], samples_vae, data_train, bin_n_comparisons,\n",
    "                        samples_dev_cache_dir, vae_model_cache_dir)"
   ]
  },
  {
   "cell_type": "code",
   "execution_count": null,
   "metadata": {},
   "outputs": [],
   "source": [
    "# performance for all atributes (development set)\n",
    "(errors_vae_dev, \n",
    " diversity_1_vae_dev, \n",
    " diversity_2_vae_dev,\n",
    " xticks_vae_dev) = get_perform_plot_data(stat_vae_dev, bin_n_comparisons, model_cache_files_vae, True)"
   ]
  },
  {
   "cell_type": "code",
   "execution_count": null,
   "metadata": {},
   "outputs": [],
   "source": [
    "# performance for the selected atributes (development set)\n",
    "stat_vae_dev_selected = get_stat(data_train[train_dev_ind:], samples_vae, data_train, bin_n_comparisons,\n",
    "                                 samples_dev_cache_dir, vae_model_cache_dir,\n",
    "                                 var_is_ignore, var_g_is_ignore)"
   ]
  },
  {
   "cell_type": "code",
   "execution_count": null,
   "metadata": {},
   "outputs": [],
   "source": [
    "# performance for the selected atributes (development set)\n",
    "(errors_vae_dev_selected, \n",
    " diversity_1_vae_dev_selected, \n",
    " diversity_2_vae_dev_selected,\n",
    " xticks_vae_dev_selected) = get_perform_plot_data(stat_vae_dev_selected, bin_n_comparisons, \n",
    "                                                  model_cache_files_vae, True)"
   ]
  },
  {
   "cell_type": "code",
   "execution_count": null,
   "metadata": {},
   "outputs": [],
   "source": [
    "# performance for all atributes (test set)\n",
    "stat_vae = get_stat(data_test, samples_vae, data_train, bin_n_comparisons,\n",
    "                    samples_true_cache_dir, vae_model_cache_dir)"
   ]
  },
  {
   "cell_type": "code",
   "execution_count": null,
   "metadata": {},
   "outputs": [],
   "source": [
    "# performance for all atributes (test set)\n",
    "(errors_vae, \n",
    " diversity_1_vae, \n",
    " diversity_2_vae,\n",
    " xticks_vae) = get_perform_plot_data(stat_vae, bin_n_comparisons, model_cache_files_vae, True)"
   ]
  },
  {
   "cell_type": "code",
   "execution_count": null,
   "metadata": {
    "scrolled": true
   },
   "outputs": [],
   "source": [
    "# performance for the selected atributes (test set)\n",
    "stat_vae_selected = get_stat(data_test, samples_vae, data_train, bin_n_comparisons,\n",
    "                             samples_true_cache_dir, vae_model_cache_dir,\n",
    "                             var_is_ignore, var_g_is_ignore)"
   ]
  },
  {
   "cell_type": "code",
   "execution_count": null,
   "metadata": {},
   "outputs": [],
   "source": [
    "# performance for the selected atributes (test set)\n",
    "(errors_vae_selected, \n",
    " diversity_1_vae_selected, \n",
    " diversity_2_vae_selected,\n",
    " xticks_vae_selected) = get_perform_plot_data(stat_vae_selected, bin_n_comparisons, \n",
    "                                              model_cache_files_vae, True)"
   ]
  },
  {
   "cell_type": "code",
   "execution_count": null,
   "metadata": {},
   "outputs": [],
   "source": [
    "# plot marginals\n",
    "for k in model_cache_files_vae:\n",
    "    print(80 * '-')\n",
    "    print(k)\n",
    "    check_marginals_numerical([data_train, samples_vae[k]], bin_n_comparisons)\n",
    "    check_marginals_categorical([data_train, samples_vae[k]])   \n",
    "    print(80 * '-')\n",
    "    break"
   ]
  },
  {
   "cell_type": "markdown",
   "metadata": {},
   "source": [
    "# MCMC (Gibbs) Full Conditional Baseline: p(x\\_i | x\\_-i)"
   ]
  },
  {
   "cell_type": "code",
   "execution_count": null,
   "metadata": {},
   "outputs": [],
   "source": [
    "# get samples from a single starting point\n",
    "def full_cond_get_samples(full_cond, num_bin, n_samples):\n",
    "    print('full cond bin_n={}: generating {} samples'.format(num_bin, n_samples))\n",
    "    #\n",
    "    samples_cond = []\n",
    "    #\n",
    "    if num_bin in min_max_bins:\n",
    "        min_max_num_bin = min_max_bins[num_bin]\n",
    "    else:\n",
    "        min_max_num_bin = calc_min_max_num_bin(data_train, num_bin)\n",
    "    #\n",
    "    idx = np.random.randint(len(data_train))\n",
    "    sample = data_train[idx]\n",
    "    for i in range(burn_out + n_samples * thinning):\n",
    "        if i % 1000 == 0: print(i)\n",
    "        for var_i in range(numerical_col_n):\n",
    "            var_name = 'num' + str(var_i)\n",
    "            bin_key = get_bin_key(sample, min_max_num_bin, [var_i], None)\n",
    "            if bin_key in full_cond[var_name]:\n",
    "                val_i = np.random.randint(len(full_cond[var_name][bin_key]))\n",
    "                sample[var_i] = full_cond[var_name][bin_key][val_i]\n",
    "            else:\n",
    "                print(\"empty bin\")\n",
    "        for var_g_i in range(cat_groups_n):\n",
    "            var_name = 'cat' + str(var_g_i)\n",
    "            var_g_i_beg = cat_groups[var_g_i]\n",
    "            var_g_i_end = cat_groups[var_g_i + 1]\n",
    "            bin_key = get_bin_key(sample, min_max_num_bin, None, [var_g_i])\n",
    "            if bin_key in full_cond[var_name]:\n",
    "                val_i = np.random.randint(len(full_cond[var_name][bin_key]))\n",
    "                sample[var_g_i_beg: var_g_i_end] = full_cond[var_name][bin_key][val_i]\n",
    "            else:\n",
    "                print(\"empty bin\")\n",
    "        if i >= burn_out and (i - burn_out) % thinning == 0:\n",
    "            samples_cond.append(copy.deepcopy(sample))\n",
    "    samples_cond = np.array(samples_cond)\n",
    "    return samples_cond\n",
    "\n",
    "\n",
    "# get samples from several starting points\n",
    "def full_cond_get_samples_over_x0(full_cond, num_bin, n_samples):\n",
    "    print('full cond bin_n={}: generating {} samples'.format(num_bin, n_samples))\n",
    "    #\n",
    "    samples_cond = []\n",
    "    print_time_per_sample = True\n",
    "    #\n",
    "    if num_bin in min_max_bins:\n",
    "        min_max_num_bin = min_max_bins[num_bin]\n",
    "    else:\n",
    "        min_max_num_bin = calc_min_max_num_bin(data_train, num_bin)\n",
    "    #\n",
    "    for n_sample in range(n_samples):\n",
    "        if print_time_per_sample:\n",
    "            start = time.time()\n",
    "        if n_sample % 100 == 0: \n",
    "            print('n_sample =', n_sample)\n",
    "        idx = np.random.randint(len(data_train))\n",
    "        sample = data_train[idx]\n",
    "        for i in range(burn_out):\n",
    "            for var_i in range(numerical_col_n):\n",
    "                var_name = 'num' + str(var_i)\n",
    "                bin_key = get_bin_key(sample, min_max_num_bin, [var_i], None)\n",
    "                if bin_key in full_cond[var_name]:\n",
    "                    val_i = np.random.randint(len(full_cond[var_name][bin_key]))\n",
    "                    sample[var_i] = full_cond[var_name][bin_key][val_i]\n",
    "                else:\n",
    "                    #print(\"n_sample={}, step i={}: empty bin (num)\".format(n_sample, i))\n",
    "                    pass\n",
    "            for var_g_i in range(cat_groups_n):\n",
    "                var_name = 'cat' + str(var_g_i)\n",
    "                var_g_i_beg = cat_groups[var_g_i]\n",
    "                var_g_i_end = cat_groups[var_g_i + 1]\n",
    "                bin_key = get_bin_key(sample, min_max_num_bin, None, [var_g_i])\n",
    "                if bin_key in full_cond[var_name]:\n",
    "                    val_i = np.random.randint(len(full_cond[var_name][bin_key]))\n",
    "                    sample[var_g_i_beg: var_g_i_end] = full_cond[var_name][bin_key][val_i]\n",
    "                else:\n",
    "                    #print(\"n_sample={}, step i={}: empty bin (cat)\".format(n_sample, i))\n",
    "                    pass\n",
    "        samples_cond.append(copy.deepcopy(sample))\n",
    "        if print_time_per_sample:\n",
    "            duration = time.time() - start\n",
    "            print(\"Took {} seconds to get one sample\".format(duration))\n",
    "            print_time_per_sample = False\n",
    "    samples_cond = np.array(samples_cond)\n",
    "    return samples_cond"
   ]
  },
  {
   "cell_type": "code",
   "execution_count": null,
   "metadata": {
    "scrolled": true
   },
   "outputs": [],
   "source": [
    "# parameters of the Gibbs sampler\n",
    "calc_over_x0 = False\n",
    "if calc_over_x0:\n",
    "    n_samples = 1000 # it is very computationally expencive\n",
    "    burn_out = 10000\n",
    "    thinning = -1\n",
    "else:\n",
    "    n_samples = 100000\n",
    "    burn_out = 20000\n",
    "    thinning = 20    \n",
    "full_cond_model_cache_dir = os.path.join(model_cache_dir, 'full_cond')\n",
    "if not os.path.exists(full_cond_model_cache_dir): \n",
    "    os.makedirs(full_cond_model_cache_dir)"
   ]
  },
  {
   "cell_type": "code",
   "execution_count": null,
   "metadata": {
    "scrolled": true
   },
   "outputs": [],
   "source": [
    "# calculate sampling probabilits for numerical variables using 1) scheme_1 in min_max_bins, 2) 10 uniform bins\n",
    "bin_ns_cond = ['scheme_1', 10]\n",
    "#\n",
    "samples_cond = {}\n",
    "for bin_n in bin_ns_cond:\n",
    "    # get model\n",
    "    model_cache_file = 'model_bin_n=' + str(bin_n) + '--' + file_suffix + '.pickle'\n",
    "    model_cache_file = os.path.join(full_cond_model_cache_dir, model_cache_file)\n",
    "    print(\"full cond cache file:\", model_cache_file)\n",
    "    is_model_cache_file = os.path.isfile(model_cache_file)\n",
    "    if is_model_cache_file:\n",
    "        with open(model_cache_file, 'rb') as f:\n",
    "            full_cond = pickle.load(f)\n",
    "        print(\"full cond loaded from file\")\n",
    "    else:\n",
    "        print(\"calculating full cond\")\n",
    "        start = time.time()\n",
    "        full_cond = calc_full_conditionals(data_train, bin_n)\n",
    "        duration = time.time() - start\n",
    "        print(\"Took {} seconds to calculate full cond\".format(duration))\n",
    "        with open(model_cache_file, 'wb') as f:\n",
    "            pickle.dump(full_cond, f)\n",
    "    # generate samples\n",
    "    samples_cache_file = 'samples_bin_n=' + str(bin_n)\n",
    "    samples_cache_file += '--n_samples=' + str(n_samples)\n",
    "    samples_cache_file += '--burn_out=' + str(burn_out)\n",
    "    if thinning >= 0:\n",
    "        samples_cache_file += '--thinning=' + str(thinning)\n",
    "    else:\n",
    "        samples_cache_file += '--over_x0'\n",
    "    samples_cache_file += '--' + file_suffix + '.pickle'\n",
    "    samples_cache_file = os.path.join(full_cond_model_cache_dir, samples_cache_file)\n",
    "    print(\"samples_cache_file:\", samples_cache_file)\n",
    "    is_samples_cache_file = os.path.isfile(samples_cache_file)\n",
    "    if is_samples_cache_file:\n",
    "        with open(samples_cache_file, 'rb') as f:\n",
    "            samples_cond[bin_n] = pickle.load(f)\n",
    "        print(\"samples loaded from file\")\n",
    "    else:\n",
    "        print('generating samples')\n",
    "        start = time.time()\n",
    "        if thinning >= 0:\n",
    "            samples_cond[bin_n] = full_cond_get_samples(full_cond, bin_n, n_samples)\n",
    "        else:\n",
    "            samples_cond[bin_n] = full_cond_get_samples_over_x0(full_cond, bin_n, n_samples)\n",
    "        duration = time.time() - start\n",
    "        print(\"Took {} seconds to generate samples\".format(duration))\n",
    "        with open(samples_cache_file, 'wb') as f:\n",
    "            pickle.dump(samples_cond[bin_n], f)"
   ]
  },
  {
   "cell_type": "code",
   "execution_count": null,
   "metadata": {},
   "outputs": [],
   "source": [
    "# performance for all atributes\n",
    "stat_cond = get_stat(data_test, samples_cond, data_train, bin_n_comparisons,\n",
    "                     samples_true_cache_dir, full_cond_model_cache_dir)"
   ]
  },
  {
   "cell_type": "code",
   "execution_count": null,
   "metadata": {},
   "outputs": [],
   "source": [
    "# performance for all atributes\n",
    "(errors_cond, \n",
    " diversity_1_cond, \n",
    " diversity_2_cond,\n",
    " xticks_cond) = get_perform_plot_data(stat_cond, bin_n_comparisons, bin_ns_cond)"
   ]
  },
  {
   "cell_type": "code",
   "execution_count": null,
   "metadata": {
    "scrolled": true
   },
   "outputs": [],
   "source": [
    "# performance for the selected atributes\n",
    "stat_cond_selected = get_stat(data_test, samples_cond, data_train, bin_n_comparisons,\n",
    "                              samples_true_cache_dir, full_cond_model_cache_dir,\n",
    "                              var_is_ignore, var_g_is_ignore)"
   ]
  },
  {
   "cell_type": "code",
   "execution_count": null,
   "metadata": {
    "scrolled": true
   },
   "outputs": [],
   "source": [
    "# performance for the selected atributes\n",
    "(errors_cond_selected, \n",
    " diversity_1_cond_selected, \n",
    " diversity_2_cond_selected,\n",
    " xticks_cond_selected) = get_perform_plot_data(stat_cond_selected, \n",
    "                                               bin_n_comparisons, bin_ns_cond)"
   ]
  },
  {
   "cell_type": "code",
   "execution_count": null,
   "metadata": {},
   "outputs": [],
   "source": [
    "# plot marginals\n",
    "bin_n_comparison = 'scheme_1'\n",
    "for bin_n in bin_ns_cond:\n",
    "    print(80 * '-')\n",
    "    print(bin_n)\n",
    "    check_marginals_numerical([data_train, samples_cond[bin_n]], bin_n_comparison)\n",
    "    check_marginals_categorical([data_train, samples_cond[bin_n]])\n",
    "    print(80 * '-')"
   ]
  },
  {
   "cell_type": "markdown",
   "metadata": {},
   "source": [
    "# MCMC Marginal baseline"
   ]
  },
  {
   "cell_type": "code",
   "execution_count": null,
   "metadata": {},
   "outputs": [],
   "source": [
    "def get_samples_marg(data, n_samples):\n",
    "    samples_marg = []\n",
    "    for i in range(n_samples):\n",
    "        if i % 1000 == 0: print(i)\n",
    "        sample = []\n",
    "        for i in range(numerical_col_n):\n",
    "            val = np.random.choice(data[:, i], 1)[0]\n",
    "            #print(val)\n",
    "            #raise Exception(\"stop\")\n",
    "            sample.append(val)\n",
    "        for g_i in range(cat_groups_n):\n",
    "            g_i_beg = cat_groups[g_i]\n",
    "            g_i_end = cat_groups[g_i + 1]\n",
    "            idx = np.random.randint(len(data))\n",
    "            val = data[idx, g_i_beg: g_i_end]\n",
    "            #print(sample, val)\n",
    "            sample.extend(val)\n",
    "        samples_marg.append(sample)\n",
    "    samples_marg = np.array(samples_marg)\n",
    "    return samples_marg"
   ]
  },
  {
   "cell_type": "code",
   "execution_count": null,
   "metadata": {
    "scrolled": true
   },
   "outputs": [],
   "source": [
    "n_samples = 100000\n",
    "samples_marg_keys = ['marg']\n",
    "marg_cache_dir = os.path.join(model_cache_dir, 'marginal')\n",
    "if not os.path.exists(marg_cache_dir): \n",
    "    os.makedirs(marg_cache_dir)"
   ]
  },
  {
   "cell_type": "code",
   "execution_count": null,
   "metadata": {
    "scrolled": true
   },
   "outputs": [],
   "source": [
    "samples_marg = {}\n",
    "# generate samples\n",
    "samples_cache_file = 'samples_marg'\n",
    "samples_cache_file += '--n_samples=' + str(n_samples)\n",
    "samples_cache_file += '--' + file_suffix + '.pickle'\n",
    "samples_cache_file = os.path.join(marg_cache_dir, samples_cache_file)\n",
    "print(\"samples_cache_file:\", samples_cache_file)\n",
    "is_samples_cache_file = os.path.isfile(samples_cache_file)\n",
    "if is_samples_cache_file:\n",
    "    with open(samples_cache_file, 'rb') as f:\n",
    "        samples_marg[samples_marg_keys[0]] = pickle.load(f)\n",
    "    print(\"samples loaded from file\")\n",
    "else:\n",
    "    print('generating samples')\n",
    "    start = time.time()\n",
    "    samples_marg[samples_marg_keys[0]] = get_samples_marg(data_train, n_samples)\n",
    "    duration = time.time() - start\n",
    "    print(\"Took {} seconds to generate samples\".format(duration))\n",
    "    with open(samples_cache_file, 'wb') as f:\n",
    "        pickle.dump(samples_marg[samples_marg_keys[0]], f)"
   ]
  },
  {
   "cell_type": "code",
   "execution_count": null,
   "metadata": {},
   "outputs": [],
   "source": [
    "# performance for all atributes\n",
    "stat_marg = get_stat(data_test, samples_marg, data_train, bin_n_comparisons,\n",
    "                     samples_true_cache_dir, marg_cache_dir)"
   ]
  },
  {
   "cell_type": "code",
   "execution_count": null,
   "metadata": {},
   "outputs": [],
   "source": [
    "# performance for all atributes\n",
    "(errors_marg, \n",
    " diversity_1_marg, \n",
    " diversity_2_marg,\n",
    " xticks_marg) = get_perform_plot_data(stat_marg, bin_n_comparisons, samples_marg_keys)"
   ]
  },
  {
   "cell_type": "code",
   "execution_count": null,
   "metadata": {
    "scrolled": true
   },
   "outputs": [],
   "source": [
    "# performance for the selected atributes\n",
    "stat_marg_selected = get_stat(data_test, samples_marg, data_train, bin_n_comparisons,\n",
    "                              samples_true_cache_dir, marg_cache_dir,\n",
    "                              var_is_ignore, var_g_is_ignore)"
   ]
  },
  {
   "cell_type": "code",
   "execution_count": null,
   "metadata": {
    "scrolled": true
   },
   "outputs": [],
   "source": [
    "# performance for the selected atributes\n",
    "(errors_marg_selected, \n",
    " diversity_1_marg_selected, \n",
    " diversity_2_marg_selected,\n",
    " xticks_marg_selected) = get_perform_plot_data(stat_marg_selected, \n",
    "                                               bin_n_comparisons, samples_marg_keys)"
   ]
  },
  {
   "cell_type": "code",
   "execution_count": null,
   "metadata": {},
   "outputs": [],
   "source": [
    "# plot marginals\n",
    "for bin_n_c in bin_n_comparisons:\n",
    "    print(80 * '-')\n",
    "    print(bin_n_c)\n",
    "    check_marginals_numerical([data_train, samples_marg[samples_marg_keys[0]]], bin_n_c)\n",
    "    check_marginals_categorical([data_train, samples_marg[samples_marg_keys[0]]])\n",
    "    print(80 * '-')"
   ]
  },
  {
   "cell_type": "markdown",
   "metadata": {},
   "source": [
    "# Comparison"
   ]
  },
  {
   "cell_type": "code",
   "execution_count": null,
   "metadata": {},
   "outputs": [],
   "source": [
    "# comparison for all attributes\n",
    "h_labels = bin_ns_cond + samples_train_keys + samples_marg_keys\n",
    "x_vae = range(len(model_cache_files_vae))\n",
    "for bin_n_c in bin_n_comparisons:\n",
    "    print(80 * \"-\")\n",
    "    print(\"bin_n_comparison =\", bin_n_c)\n",
    "    plot_res(x_vae, errors_vae[bin_n_c], xticks=xticks_vae[bin_n_c],\n",
    "             h_lines=errors_cond[bin_n_c] + errors_train[bin_n_c] \n",
    "                     + errors_marg[bin_n_c]\n",
    "             , \n",
    "             h_labels=h_labels,\n",
    "             **error_plot_params[error_measure])\n",
    "    plot_res(x_vae, diversity_1_vae[bin_n_c], xticks=xticks_vae[bin_n_c],\n",
    "             h_lines=diversity_1_cond[bin_n_c] + diversity_1_train[bin_n_c] \n",
    "                     + diversity_1_marg[bin_n_c]\n",
    "             , \n",
    "             h_labels=h_labels,\n",
    "             **diversity_plot_params[diversity_measure_1])\n",
    "    plot_res(x_vae, diversity_2_vae[bin_n_c], xticks=xticks_vae[bin_n_c],\n",
    "             h_lines=diversity_2_cond[bin_n_c] + diversity_2_train[bin_n_c] \n",
    "                     + diversity_2_marg[bin_n_c]\n",
    "             , \n",
    "             h_labels=h_labels,\n",
    "             **diversity_plot_params[diversity_measure_2])\n",
    "    print(80 * \"-\")"
   ]
  },
  {
   "cell_type": "code",
   "execution_count": null,
   "metadata": {
    "scrolled": true
   },
   "outputs": [],
   "source": [
    "# comparison for the selected attributes\n",
    "h_labels = bin_ns_cond + samples_train_keys + samples_marg_keys\n",
    "x_vae = range(len(model_cache_files_vae))\n",
    "for bin_n_c in bin_n_comparisons:\n",
    "    print(80 * \"-\")\n",
    "    print(\"bin_n_comparison =\", bin_n_c)\n",
    "    plot_res(x_vae, errors_vae_selected[bin_n_c], xticks=xticks_vae_selected[bin_n_c],\n",
    "             h_lines=errors_cond_selected[bin_n_c] + errors_train_selected[bin_n_c] \n",
    "                     + errors_marg_selected[bin_n_c]\n",
    "             , \n",
    "             h_labels=h_labels,\n",
    "             **error_plot_params[error_measure])\n",
    "    plot_res(x_vae, diversity_1_vae_selected[bin_n_c], xticks=xticks_vae_selected[bin_n_c],\n",
    "             h_lines=diversity_1_cond_selected[bin_n_c] + diversity_1_train_selected[bin_n_c] \n",
    "                     + diversity_1_marg_selected[bin_n_c]\n",
    "             , \n",
    "             h_labels=h_labels,\n",
    "             **diversity_plot_params[diversity_measure_1])\n",
    "    plot_res(x_vae, diversity_2_vae_selected[bin_n_c], xticks=xticks_vae_selected[bin_n_c],\n",
    "             h_lines=diversity_2_cond_selected[bin_n_c] + diversity_2_train_selected[bin_n_c] \n",
    "                     + diversity_2_marg_selected[bin_n_c]\n",
    "             , \n",
    "             h_labels=h_labels,\n",
    "             **diversity_plot_params[diversity_measure_2])\n",
    "    print(80 * \"-\")"
   ]
  },
  {
   "cell_type": "code",
   "execution_count": null,
   "metadata": {},
   "outputs": [],
   "source": [
    "# find the best performing model\n",
    "def get_best_model(stat):\n",
    "    names = {}\n",
    "    lb = ['srmse', 'rmse', 'mae']\n",
    "    for bin_n_c in stat:\n",
    "        best_k = {}\n",
    "        for k in stat[bin_n_c]:\n",
    "            for name in stat[bin_n_c][k]['joint_pdf']:\n",
    "                if name not in best_k:\n",
    "                    best_k[name] = (k, stat[bin_n_c][k]['joint_pdf'][name])\n",
    "                else:\n",
    "                    if name in lb and stat[bin_n_c][k]['joint_pdf'][name] < best_k[name][1]:\n",
    "                        best_k[name] = (k, stat[bin_n_c][k]['joint_pdf'][name])\n",
    "                    elif name not in lb and stat[bin_n_c][k]['joint_pdf'][name] > best_k[name][1]:\n",
    "                        best_k[name] = (k, stat[bin_n_c][k]['joint_pdf'][name])            \n",
    "        print(80 * '-')\n",
    "        for name in best_k:\n",
    "            names[name] = best_k[name][0]\n",
    "            print(\"best\", name)\n",
    "            print(best_k[name][0])\n",
    "            pprint(stat[bin_n_c][best_k[name][0]]['joint_pdf'])\n",
    "            print('.....')\n",
    "        print(80 * '-')\n",
    "    return names"
   ]
  },
  {
   "cell_type": "code",
   "execution_count": null,
   "metadata": {
    "scrolled": true
   },
   "outputs": [],
   "source": [
    "print('VAE')\n",
    "get_best_model(stat_vae_dev_selected)\n",
    "get_best_model(stat_vae_selected)"
   ]
  },
  {
   "cell_type": "code",
   "execution_count": null,
   "metadata": {
    "scrolled": true
   },
   "outputs": [],
   "source": [
    "print('cond')\n",
    "get_best_model(stat_cond_selected)"
   ]
  },
  {
   "cell_type": "code",
   "execution_count": null,
   "metadata": {
    "scrolled": true
   },
   "outputs": [],
   "source": [
    "print('marg')\n",
    "get_best_model(stat_marg_selected)"
   ]
  },
  {
   "cell_type": "code",
   "execution_count": null,
   "metadata": {
    "scrolled": true
   },
   "outputs": [],
   "source": [
    "print('data_train')\n",
    "get_best_model(stat_train_selected)"
   ]
  }
 ],
 "metadata": {
  "kernelspec": {
   "display_name": "tensorflow",
   "language": "python",
   "name": "tensorflow"
  },
  "language_info": {
   "codemirror_mode": {
    "name": "ipython",
    "version": 3
   },
   "file_extension": ".py",
   "mimetype": "text/x-python",
   "name": "python",
   "nbconvert_exporter": "python",
   "pygments_lexer": "ipython3",
   "version": "3.6.5"
  }
 },
 "nbformat": 4,
 "nbformat_minor": 2
}
